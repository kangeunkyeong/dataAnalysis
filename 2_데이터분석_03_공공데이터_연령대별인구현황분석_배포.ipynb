{
  "cells": [
    {
      "cell_type": "markdown",
      "metadata": {
        "id": "view-in-github",
        "colab_type": "text"
      },
      "source": [
        "<a href=\"https://colab.research.google.com/github/kangeunkyeong/dataAnalysis/blob/main/2_%EB%8D%B0%EC%9D%B4%ED%84%B0%EB%B6%84%EC%84%9D_03_%EA%B3%B5%EA%B3%B5%EB%8D%B0%EC%9D%B4%ED%84%B0_%EC%97%B0%EB%A0%B9%EB%8C%80%EB%B3%84%EC%9D%B8%EA%B5%AC%ED%98%84%ED%99%A9%EB%B6%84%EC%84%9D_%EB%B0%B0%ED%8F%AC.ipynb\" target=\"_parent\"><img src=\"https://colab.research.google.com/assets/colab-badge.svg\" alt=\"Open In Colab\"/></a>"
      ]
    },
    {
      "cell_type": "markdown",
      "id": "XFgQe4VqN-4R",
      "metadata": {
        "id": "XFgQe4VqN-4R"
      },
      "source": [
        "# 한글폰트 설정 및 라이브러리 임포트"
      ]
    },
    {
      "cell_type": "code",
      "execution_count": 1,
      "id": "70ee2bad",
      "metadata": {
        "id": "70ee2bad",
        "colab": {
          "base_uri": "https://localhost:8080/"
        },
        "outputId": "26d8b474-8e4f-45d2-a08c-bd85394e4741"
      },
      "outputs": [
        {
          "output_type": "stream",
          "name": "stdout",
          "text": [
            "Reading package lists... Done\n",
            "Building dependency tree... Done\n",
            "Reading state information... Done\n",
            "The following NEW packages will be installed:\n",
            "  fonts-nanum\n",
            "0 upgraded, 1 newly installed, 0 to remove and 45 not upgraded.\n",
            "Need to get 10.3 MB of archives.\n",
            "After this operation, 34.1 MB of additional disk space will be used.\n",
            "Get:1 http://archive.ubuntu.com/ubuntu jammy/universe amd64 fonts-nanum all 20200506-1 [10.3 MB]\n",
            "Fetched 10.3 MB in 1s (9,796 kB/s)\n",
            "debconf: unable to initialize frontend: Dialog\n",
            "debconf: (No usable dialog-like program is installed, so the dialog based frontend cannot be used. at /usr/share/perl5/Debconf/FrontEnd/Dialog.pm line 78, <> line 1.)\n",
            "debconf: falling back to frontend: Readline\n",
            "debconf: unable to initialize frontend: Readline\n",
            "debconf: (This frontend requires a controlling tty.)\n",
            "debconf: falling back to frontend: Teletype\n",
            "dpkg-preconfigure: unable to re-open stdin: \n",
            "Selecting previously unselected package fonts-nanum.\n",
            "(Reading database ... 121752 files and directories currently installed.)\n",
            "Preparing to unpack .../fonts-nanum_20200506-1_all.deb ...\n",
            "Unpacking fonts-nanum (20200506-1) ...\n",
            "Setting up fonts-nanum (20200506-1) ...\n",
            "Processing triggers for fontconfig (2.13.1-4.2ubuntu5) ...\n",
            "/usr/share/fonts: caching, new cache contents: 0 fonts, 1 dirs\n",
            "/usr/share/fonts/truetype: caching, new cache contents: 0 fonts, 3 dirs\n",
            "/usr/share/fonts/truetype/humor-sans: caching, new cache contents: 1 fonts, 0 dirs\n",
            "/usr/share/fonts/truetype/liberation: caching, new cache contents: 16 fonts, 0 dirs\n",
            "/usr/share/fonts/truetype/nanum: caching, new cache contents: 12 fonts, 0 dirs\n",
            "/usr/local/share/fonts: caching, new cache contents: 0 fonts, 0 dirs\n",
            "/root/.local/share/fonts: skipping, no such directory\n",
            "/root/.fonts: skipping, no such directory\n",
            "/usr/share/fonts/truetype: skipping, looped directory detected\n",
            "/usr/share/fonts/truetype/humor-sans: skipping, looped directory detected\n",
            "/usr/share/fonts/truetype/liberation: skipping, looped directory detected\n",
            "/usr/share/fonts/truetype/nanum: skipping, looped directory detected\n",
            "/var/cache/fontconfig: cleaning cache directory\n",
            "/root/.cache/fontconfig: not cleaning non-existent cache directory\n",
            "/root/.fontconfig: not cleaning non-existent cache directory\n",
            "fc-cache: succeeded\n"
          ]
        }
      ],
      "source": [
        "# 코드 실행 후 재시작\n",
        "!sudo apt-get install -y fonts-nanum\n",
        "!sudo fc-cache -fv\n",
        "!rm ~/.cache/matplotlib -rf"
      ]
    },
    {
      "cell_type": "markdown",
      "id": "00fade0b",
      "metadata": {
        "id": "00fade0b"
      },
      "source": [
        "# 필요한 라이브러리 import"
      ]
    },
    {
      "cell_type": "code",
      "execution_count": 2,
      "id": "9TnnqCBiL2cb",
      "metadata": {
        "id": "9TnnqCBiL2cb"
      },
      "outputs": [],
      "source": [
        "import pandas as pd\n",
        "import matplotlib.pyplot as plt\n",
        "import numpy as np\n",
        "\n",
        "# 멧플롯립 한글폰트 지정\n",
        "plt.rc('font', family='NanumBarunGothic')\n",
        "plt.rc('font', family='Malgun Gothic')\n",
        "plt.rcParams['axes.unicode_minus'] = False"
      ]
    },
    {
      "cell_type": "markdown",
      "id": "aa4adfcc",
      "metadata": {
        "id": "aa4adfcc"
      },
      "source": [
        "# 2024년 연령대별 현황\n",
        " - 2024년 연령대별 인구수 확인하기\n",
        " - https://jumin.mois.go.kr/#  연령별 인구현황 > 연령 구분 단위를 1세로 변경해서 조회하기"
      ]
    },
    {
      "cell_type": "markdown",
      "id": "184a8f37",
      "metadata": {
        "id": "184a8f37"
      },
      "source": [
        "## 파일 읽어서 데이터프레임 생성하기"
      ]
    },
    {
      "cell_type": "code",
      "execution_count": 5,
      "id": "c1855d0f",
      "metadata": {
        "colab": {
          "base_uri": "https://localhost:8080/",
          "height": 446
        },
        "id": "c1855d0f",
        "outputId": "91202e4c-f98f-43a5-ad30-0d1cba998734"
      },
      "outputs": [
        {
          "output_type": "execute_result",
          "data": {
            "text/plain": [
              "                  행정구역 2024년03월_계_총인구수 2024년03월_계_연령구간인구수 2024년03월_계_0세  \\\n",
              "0     전국  (0000000000)      51,293,934         51,293,934       220,719   \n",
              "1  서울특별시  (1100000000)       9,384,739          9,384,739        36,904   \n",
              "2  부산광역시  (2600000000)       3,287,292          3,287,292        12,149   \n",
              "3  대구광역시  (2700000000)       2,369,962          2,369,962         9,170   \n",
              "4  인천광역시  (2800000000)       3,006,045          3,006,045        13,719   \n",
              "\n",
              "  2024년03월_계_1세 2024년03월_계_2세 2024년03월_계_3세 2024년03월_계_4세 2024년03월_계_5세  \\\n",
              "0       249,583       264,689       275,585       300,207       327,046   \n",
              "1        40,232        42,550        43,198        46,125        49,533   \n",
              "2        14,068        15,074        15,438        17,162        18,984   \n",
              "3        10,495        11,464        11,876        13,618        14,876   \n",
              "4        15,887        16,561        17,280        18,692        20,372   \n",
              "\n",
              "  2024년03월_계_6세  ... 2024년03월_여_91세 2024년03월_여_92세 2024년03월_여_93세  \\\n",
              "0       356,089  ...         47,354         37,054         27,964   \n",
              "1        53,402  ...          6,555          5,233          3,976   \n",
              "2        21,253  ...          2,717          2,210          1,463   \n",
              "3        16,667  ...          2,028          1,605          1,194   \n",
              "4        21,305  ...          2,357          1,807          1,481   \n",
              "\n",
              "  2024년03월_여_94세 2024년03월_여_95세 2024년03월_여_96세 2024년03월_여_97세 2024년03월_여_98세  \\\n",
              "0         22,769         16,916         12,154          8,109          5,114   \n",
              "1          3,343          2,545          1,850          1,270            731   \n",
              "2          1,256          1,014            803            447            319   \n",
              "3            886            659            468            305            180   \n",
              "4          1,121            912            612            440            305   \n",
              "\n",
              "  2024년03월_여_99세 2024년03월_여_100세 이상  \n",
              "0          3,252              7,214  \n",
              "1            534              1,154  \n",
              "2            178                375  \n",
              "3            103                232  \n",
              "4            203                387  \n",
              "\n",
              "[5 rows x 310 columns]"
            ],
            "text/html": [
              "\n",
              "  <div id=\"df-14d4bbdd-8f1c-42d8-a048-54da89b105f1\" class=\"colab-df-container\">\n",
              "    <div>\n",
              "<style scoped>\n",
              "    .dataframe tbody tr th:only-of-type {\n",
              "        vertical-align: middle;\n",
              "    }\n",
              "\n",
              "    .dataframe tbody tr th {\n",
              "        vertical-align: top;\n",
              "    }\n",
              "\n",
              "    .dataframe thead th {\n",
              "        text-align: right;\n",
              "    }\n",
              "</style>\n",
              "<table border=\"1\" class=\"dataframe\">\n",
              "  <thead>\n",
              "    <tr style=\"text-align: right;\">\n",
              "      <th></th>\n",
              "      <th>행정구역</th>\n",
              "      <th>2024년03월_계_총인구수</th>\n",
              "      <th>2024년03월_계_연령구간인구수</th>\n",
              "      <th>2024년03월_계_0세</th>\n",
              "      <th>2024년03월_계_1세</th>\n",
              "      <th>2024년03월_계_2세</th>\n",
              "      <th>2024년03월_계_3세</th>\n",
              "      <th>2024년03월_계_4세</th>\n",
              "      <th>2024년03월_계_5세</th>\n",
              "      <th>2024년03월_계_6세</th>\n",
              "      <th>...</th>\n",
              "      <th>2024년03월_여_91세</th>\n",
              "      <th>2024년03월_여_92세</th>\n",
              "      <th>2024년03월_여_93세</th>\n",
              "      <th>2024년03월_여_94세</th>\n",
              "      <th>2024년03월_여_95세</th>\n",
              "      <th>2024년03월_여_96세</th>\n",
              "      <th>2024년03월_여_97세</th>\n",
              "      <th>2024년03월_여_98세</th>\n",
              "      <th>2024년03월_여_99세</th>\n",
              "      <th>2024년03월_여_100세 이상</th>\n",
              "    </tr>\n",
              "  </thead>\n",
              "  <tbody>\n",
              "    <tr>\n",
              "      <th>0</th>\n",
              "      <td>전국  (0000000000)</td>\n",
              "      <td>51,293,934</td>\n",
              "      <td>51,293,934</td>\n",
              "      <td>220,719</td>\n",
              "      <td>249,583</td>\n",
              "      <td>264,689</td>\n",
              "      <td>275,585</td>\n",
              "      <td>300,207</td>\n",
              "      <td>327,046</td>\n",
              "      <td>356,089</td>\n",
              "      <td>...</td>\n",
              "      <td>47,354</td>\n",
              "      <td>37,054</td>\n",
              "      <td>27,964</td>\n",
              "      <td>22,769</td>\n",
              "      <td>16,916</td>\n",
              "      <td>12,154</td>\n",
              "      <td>8,109</td>\n",
              "      <td>5,114</td>\n",
              "      <td>3,252</td>\n",
              "      <td>7,214</td>\n",
              "    </tr>\n",
              "    <tr>\n",
              "      <th>1</th>\n",
              "      <td>서울특별시  (1100000000)</td>\n",
              "      <td>9,384,739</td>\n",
              "      <td>9,384,739</td>\n",
              "      <td>36,904</td>\n",
              "      <td>40,232</td>\n",
              "      <td>42,550</td>\n",
              "      <td>43,198</td>\n",
              "      <td>46,125</td>\n",
              "      <td>49,533</td>\n",
              "      <td>53,402</td>\n",
              "      <td>...</td>\n",
              "      <td>6,555</td>\n",
              "      <td>5,233</td>\n",
              "      <td>3,976</td>\n",
              "      <td>3,343</td>\n",
              "      <td>2,545</td>\n",
              "      <td>1,850</td>\n",
              "      <td>1,270</td>\n",
              "      <td>731</td>\n",
              "      <td>534</td>\n",
              "      <td>1,154</td>\n",
              "    </tr>\n",
              "    <tr>\n",
              "      <th>2</th>\n",
              "      <td>부산광역시  (2600000000)</td>\n",
              "      <td>3,287,292</td>\n",
              "      <td>3,287,292</td>\n",
              "      <td>12,149</td>\n",
              "      <td>14,068</td>\n",
              "      <td>15,074</td>\n",
              "      <td>15,438</td>\n",
              "      <td>17,162</td>\n",
              "      <td>18,984</td>\n",
              "      <td>21,253</td>\n",
              "      <td>...</td>\n",
              "      <td>2,717</td>\n",
              "      <td>2,210</td>\n",
              "      <td>1,463</td>\n",
              "      <td>1,256</td>\n",
              "      <td>1,014</td>\n",
              "      <td>803</td>\n",
              "      <td>447</td>\n",
              "      <td>319</td>\n",
              "      <td>178</td>\n",
              "      <td>375</td>\n",
              "    </tr>\n",
              "    <tr>\n",
              "      <th>3</th>\n",
              "      <td>대구광역시  (2700000000)</td>\n",
              "      <td>2,369,962</td>\n",
              "      <td>2,369,962</td>\n",
              "      <td>9,170</td>\n",
              "      <td>10,495</td>\n",
              "      <td>11,464</td>\n",
              "      <td>11,876</td>\n",
              "      <td>13,618</td>\n",
              "      <td>14,876</td>\n",
              "      <td>16,667</td>\n",
              "      <td>...</td>\n",
              "      <td>2,028</td>\n",
              "      <td>1,605</td>\n",
              "      <td>1,194</td>\n",
              "      <td>886</td>\n",
              "      <td>659</td>\n",
              "      <td>468</td>\n",
              "      <td>305</td>\n",
              "      <td>180</td>\n",
              "      <td>103</td>\n",
              "      <td>232</td>\n",
              "    </tr>\n",
              "    <tr>\n",
              "      <th>4</th>\n",
              "      <td>인천광역시  (2800000000)</td>\n",
              "      <td>3,006,045</td>\n",
              "      <td>3,006,045</td>\n",
              "      <td>13,719</td>\n",
              "      <td>15,887</td>\n",
              "      <td>16,561</td>\n",
              "      <td>17,280</td>\n",
              "      <td>18,692</td>\n",
              "      <td>20,372</td>\n",
              "      <td>21,305</td>\n",
              "      <td>...</td>\n",
              "      <td>2,357</td>\n",
              "      <td>1,807</td>\n",
              "      <td>1,481</td>\n",
              "      <td>1,121</td>\n",
              "      <td>912</td>\n",
              "      <td>612</td>\n",
              "      <td>440</td>\n",
              "      <td>305</td>\n",
              "      <td>203</td>\n",
              "      <td>387</td>\n",
              "    </tr>\n",
              "  </tbody>\n",
              "</table>\n",
              "<p>5 rows × 310 columns</p>\n",
              "</div>\n",
              "    <div class=\"colab-df-buttons\">\n",
              "\n",
              "  <div class=\"colab-df-container\">\n",
              "    <button class=\"colab-df-convert\" onclick=\"convertToInteractive('df-14d4bbdd-8f1c-42d8-a048-54da89b105f1')\"\n",
              "            title=\"Convert this dataframe to an interactive table.\"\n",
              "            style=\"display:none;\">\n",
              "\n",
              "  <svg xmlns=\"http://www.w3.org/2000/svg\" height=\"24px\" viewBox=\"0 -960 960 960\">\n",
              "    <path d=\"M120-120v-720h720v720H120Zm60-500h600v-160H180v160Zm220 220h160v-160H400v160Zm0 220h160v-160H400v160ZM180-400h160v-160H180v160Zm440 0h160v-160H620v160ZM180-180h160v-160H180v160Zm440 0h160v-160H620v160Z\"/>\n",
              "  </svg>\n",
              "    </button>\n",
              "\n",
              "  <style>\n",
              "    .colab-df-container {\n",
              "      display:flex;\n",
              "      gap: 12px;\n",
              "    }\n",
              "\n",
              "    .colab-df-convert {\n",
              "      background-color: #E8F0FE;\n",
              "      border: none;\n",
              "      border-radius: 50%;\n",
              "      cursor: pointer;\n",
              "      display: none;\n",
              "      fill: #1967D2;\n",
              "      height: 32px;\n",
              "      padding: 0 0 0 0;\n",
              "      width: 32px;\n",
              "    }\n",
              "\n",
              "    .colab-df-convert:hover {\n",
              "      background-color: #E2EBFA;\n",
              "      box-shadow: 0px 1px 2px rgba(60, 64, 67, 0.3), 0px 1px 3px 1px rgba(60, 64, 67, 0.15);\n",
              "      fill: #174EA6;\n",
              "    }\n",
              "\n",
              "    .colab-df-buttons div {\n",
              "      margin-bottom: 4px;\n",
              "    }\n",
              "\n",
              "    [theme=dark] .colab-df-convert {\n",
              "      background-color: #3B4455;\n",
              "      fill: #D2E3FC;\n",
              "    }\n",
              "\n",
              "    [theme=dark] .colab-df-convert:hover {\n",
              "      background-color: #434B5C;\n",
              "      box-shadow: 0px 1px 3px 1px rgba(0, 0, 0, 0.15);\n",
              "      filter: drop-shadow(0px 1px 2px rgba(0, 0, 0, 0.3));\n",
              "      fill: #FFFFFF;\n",
              "    }\n",
              "  </style>\n",
              "\n",
              "    <script>\n",
              "      const buttonEl =\n",
              "        document.querySelector('#df-14d4bbdd-8f1c-42d8-a048-54da89b105f1 button.colab-df-convert');\n",
              "      buttonEl.style.display =\n",
              "        google.colab.kernel.accessAllowed ? 'block' : 'none';\n",
              "\n",
              "      async function convertToInteractive(key) {\n",
              "        const element = document.querySelector('#df-14d4bbdd-8f1c-42d8-a048-54da89b105f1');\n",
              "        const dataTable =\n",
              "          await google.colab.kernel.invokeFunction('convertToInteractive',\n",
              "                                                    [key], {});\n",
              "        if (!dataTable) return;\n",
              "\n",
              "        const docLinkHtml = 'Like what you see? Visit the ' +\n",
              "          '<a target=\"_blank\" href=https://colab.research.google.com/notebooks/data_table.ipynb>data table notebook</a>'\n",
              "          + ' to learn more about interactive tables.';\n",
              "        element.innerHTML = '';\n",
              "        dataTable['output_type'] = 'display_data';\n",
              "        await google.colab.output.renderOutput(dataTable, element);\n",
              "        const docLink = document.createElement('div');\n",
              "        docLink.innerHTML = docLinkHtml;\n",
              "        element.appendChild(docLink);\n",
              "      }\n",
              "    </script>\n",
              "  </div>\n",
              "\n",
              "\n",
              "<div id=\"df-97345191-fb3c-4d92-8017-5710ce63560c\">\n",
              "  <button class=\"colab-df-quickchart\" onclick=\"quickchart('df-97345191-fb3c-4d92-8017-5710ce63560c')\"\n",
              "            title=\"Suggest charts\"\n",
              "            style=\"display:none;\">\n",
              "\n",
              "<svg xmlns=\"http://www.w3.org/2000/svg\" height=\"24px\"viewBox=\"0 0 24 24\"\n",
              "     width=\"24px\">\n",
              "    <g>\n",
              "        <path d=\"M19 3H5c-1.1 0-2 .9-2 2v14c0 1.1.9 2 2 2h14c1.1 0 2-.9 2-2V5c0-1.1-.9-2-2-2zM9 17H7v-7h2v7zm4 0h-2V7h2v10zm4 0h-2v-4h2v4z\"/>\n",
              "    </g>\n",
              "</svg>\n",
              "  </button>\n",
              "\n",
              "<style>\n",
              "  .colab-df-quickchart {\n",
              "      --bg-color: #E8F0FE;\n",
              "      --fill-color: #1967D2;\n",
              "      --hover-bg-color: #E2EBFA;\n",
              "      --hover-fill-color: #174EA6;\n",
              "      --disabled-fill-color: #AAA;\n",
              "      --disabled-bg-color: #DDD;\n",
              "  }\n",
              "\n",
              "  [theme=dark] .colab-df-quickchart {\n",
              "      --bg-color: #3B4455;\n",
              "      --fill-color: #D2E3FC;\n",
              "      --hover-bg-color: #434B5C;\n",
              "      --hover-fill-color: #FFFFFF;\n",
              "      --disabled-bg-color: #3B4455;\n",
              "      --disabled-fill-color: #666;\n",
              "  }\n",
              "\n",
              "  .colab-df-quickchart {\n",
              "    background-color: var(--bg-color);\n",
              "    border: none;\n",
              "    border-radius: 50%;\n",
              "    cursor: pointer;\n",
              "    display: none;\n",
              "    fill: var(--fill-color);\n",
              "    height: 32px;\n",
              "    padding: 0;\n",
              "    width: 32px;\n",
              "  }\n",
              "\n",
              "  .colab-df-quickchart:hover {\n",
              "    background-color: var(--hover-bg-color);\n",
              "    box-shadow: 0 1px 2px rgba(60, 64, 67, 0.3), 0 1px 3px 1px rgba(60, 64, 67, 0.15);\n",
              "    fill: var(--button-hover-fill-color);\n",
              "  }\n",
              "\n",
              "  .colab-df-quickchart-complete:disabled,\n",
              "  .colab-df-quickchart-complete:disabled:hover {\n",
              "    background-color: var(--disabled-bg-color);\n",
              "    fill: var(--disabled-fill-color);\n",
              "    box-shadow: none;\n",
              "  }\n",
              "\n",
              "  .colab-df-spinner {\n",
              "    border: 2px solid var(--fill-color);\n",
              "    border-color: transparent;\n",
              "    border-bottom-color: var(--fill-color);\n",
              "    animation:\n",
              "      spin 1s steps(1) infinite;\n",
              "  }\n",
              "\n",
              "  @keyframes spin {\n",
              "    0% {\n",
              "      border-color: transparent;\n",
              "      border-bottom-color: var(--fill-color);\n",
              "      border-left-color: var(--fill-color);\n",
              "    }\n",
              "    20% {\n",
              "      border-color: transparent;\n",
              "      border-left-color: var(--fill-color);\n",
              "      border-top-color: var(--fill-color);\n",
              "    }\n",
              "    30% {\n",
              "      border-color: transparent;\n",
              "      border-left-color: var(--fill-color);\n",
              "      border-top-color: var(--fill-color);\n",
              "      border-right-color: var(--fill-color);\n",
              "    }\n",
              "    40% {\n",
              "      border-color: transparent;\n",
              "      border-right-color: var(--fill-color);\n",
              "      border-top-color: var(--fill-color);\n",
              "    }\n",
              "    60% {\n",
              "      border-color: transparent;\n",
              "      border-right-color: var(--fill-color);\n",
              "    }\n",
              "    80% {\n",
              "      border-color: transparent;\n",
              "      border-right-color: var(--fill-color);\n",
              "      border-bottom-color: var(--fill-color);\n",
              "    }\n",
              "    90% {\n",
              "      border-color: transparent;\n",
              "      border-bottom-color: var(--fill-color);\n",
              "    }\n",
              "  }\n",
              "</style>\n",
              "\n",
              "  <script>\n",
              "    async function quickchart(key) {\n",
              "      const quickchartButtonEl =\n",
              "        document.querySelector('#' + key + ' button');\n",
              "      quickchartButtonEl.disabled = true;  // To prevent multiple clicks.\n",
              "      quickchartButtonEl.classList.add('colab-df-spinner');\n",
              "      try {\n",
              "        const charts = await google.colab.kernel.invokeFunction(\n",
              "            'suggestCharts', [key], {});\n",
              "      } catch (error) {\n",
              "        console.error('Error during call to suggestCharts:', error);\n",
              "      }\n",
              "      quickchartButtonEl.classList.remove('colab-df-spinner');\n",
              "      quickchartButtonEl.classList.add('colab-df-quickchart-complete');\n",
              "    }\n",
              "    (() => {\n",
              "      let quickchartButtonEl =\n",
              "        document.querySelector('#df-97345191-fb3c-4d92-8017-5710ce63560c button');\n",
              "      quickchartButtonEl.style.display =\n",
              "        google.colab.kernel.accessAllowed ? 'block' : 'none';\n",
              "    })();\n",
              "  </script>\n",
              "</div>\n",
              "\n",
              "    </div>\n",
              "  </div>\n"
            ],
            "application/vnd.google.colaboratory.intrinsic+json": {
              "type": "dataframe",
              "variable_name": "df"
            }
          },
          "metadata": {},
          "execution_count": 5
        }
      ],
      "source": [
        "df = pd.read_csv('202403_202403_연령별인구현황_월간.csv', encoding='cp949')\n",
        "df.head()"
      ]
    },
    {
      "cell_type": "code",
      "execution_count": null,
      "id": "5cV5p-LjQAmB",
      "metadata": {
        "id": "5cV5p-LjQAmB"
      },
      "outputs": [],
      "source": []
    },
    {
      "cell_type": "markdown",
      "id": "2228865a",
      "metadata": {
        "id": "2228865a"
      },
      "source": [
        "## 데이터 속성을 탐색"
      ]
    },
    {
      "cell_type": "code",
      "execution_count": null,
      "id": "c8dcb369",
      "metadata": {
        "id": "c8dcb369"
      },
      "outputs": [],
      "source": [
        "df.함수이름?"
      ]
    },
    {
      "cell_type": "markdown",
      "id": "af0904f3",
      "metadata": {
        "id": "af0904f3"
      },
      "source": [
        "## 데이터 전처리"
      ]
    },
    {
      "cell_type": "markdown",
      "id": "jyF7W2b8GDyV",
      "metadata": {
        "id": "jyF7W2b8GDyV"
      },
      "source": [
        "### 행정구역을 인덱스로 설정하기"
      ]
    },
    {
      "cell_type": "code",
      "execution_count": null,
      "id": "KLBzYBhUGJRQ",
      "metadata": {
        "id": "KLBzYBhUGJRQ"
      },
      "outputs": [],
      "source": [
        "df.set.index    # 인덱스 설정 함수는?\n",
        "df.head(3)"
      ]
    },
    {
      "cell_type": "markdown",
      "id": "da4b83aa",
      "metadata": {
        "id": "da4b83aa"
      },
      "source": [
        "### 남자 연령대별 인구 현황을 데이터프레임으로 생성하기\n"
      ]
    },
    {
      "cell_type": "markdown",
      "id": "6kxgezE3IIEy",
      "metadata": {
        "id": "6kxgezE3IIEy"
      },
      "source": [
        "#### 데이터프레임 생성하기\n",
        "   - 남자 연령대별 인구수 컬럼 가져오기"
      ]
    },
    {
      "cell_type": "code",
      "execution_count": 6,
      "id": "dc30f6af",
      "metadata": {
        "colab": {
          "base_uri": "https://localhost:8080/"
        },
        "id": "dc30f6af",
        "outputId": "da654710-de58-44d2-e1d3-086e0ca7f18c"
      },
      "outputs": [
        {
          "output_type": "execute_result",
          "data": {
            "text/plain": [
              "Index(['행정구역', '2024년03월_계_총인구수', '2024년03월_계_연령구간인구수', '2024년03월_계_0세',\n",
              "       '2024년03월_계_1세', '2024년03월_계_2세', '2024년03월_계_3세', '2024년03월_계_4세',\n",
              "       '2024년03월_계_5세', '2024년03월_계_6세',\n",
              "       ...\n",
              "       '2024년03월_여_91세', '2024년03월_여_92세', '2024년03월_여_93세', '2024년03월_여_94세',\n",
              "       '2024년03월_여_95세', '2024년03월_여_96세', '2024년03월_여_97세', '2024년03월_여_98세',\n",
              "       '2024년03월_여_99세', '2024년03월_여_100세 이상'],\n",
              "      dtype='object', length=310)"
            ]
          },
          "metadata": {},
          "execution_count": 6
        }
      ],
      "source": [
        "df.columns   # 컬럼명 보기"
      ]
    },
    {
      "cell_type": "code",
      "execution_count": null,
      "id": "9bee03f0",
      "metadata": {
        "id": "9bee03f0"
      },
      "outputs": [],
      "source": [
        "df_m = df.loc[:,'2024년03월_계_0세': ]    # 남자 연령대별 컬럼에 해당하는 데이터만 가져오려면?\n",
        "df_m.head()"
      ]
    },
    {
      "cell_type": "markdown",
      "id": "mLhNvc_eIV4D",
      "metadata": {
        "id": "mLhNvc_eIV4D"
      },
      "source": [
        "#### 컬럼명 변경하기"
      ]
    },
    {
      "cell_type": "code",
      "execution_count": 7,
      "id": "LrkdteHTIYp-",
      "metadata": {
        "colab": {
          "base_uri": "https://localhost:8080/",
          "height": 110
        },
        "id": "LrkdteHTIYp-",
        "outputId": "456b639a-9d83-4342-db17-45c9f187095d"
      },
      "outputs": [
        {
          "output_type": "error",
          "ename": "SyntaxError",
          "evalue": "invalid syntax (<ipython-input-7-3969eef2119c>, line 1)",
          "traceback": [
            "\u001b[0;36m  File \u001b[0;32m\"<ipython-input-7-3969eef2119c>\"\u001b[0;36m, line \u001b[0;32m1\u001b[0m\n\u001b[0;31m    df_m.columns = 컬럼명 변경하는 방법은? ('2024년03월_남_'부분을 --> ''로 변경하기)\u001b[0m\n\u001b[0m                       ^\u001b[0m\n\u001b[0;31mSyntaxError\u001b[0m\u001b[0;31m:\u001b[0m invalid syntax\n"
          ]
        }
      ],
      "source": [
        "df_m.columns = 컬럼명 변경하는 방법은? ('2024년03월_남_'부분을 --> ''로 변경하기)\n",
        "df_m.head()"
      ]
    },
    {
      "cell_type": "code",
      "execution_count": 8,
      "id": "wr0PsSnCI2aN",
      "metadata": {
        "colab": {
          "base_uri": "https://localhost:8080/",
          "height": 146
        },
        "id": "wr0PsSnCI2aN",
        "outputId": "ddd788fb-4aeb-4554-e112-0a621ff2e7ed"
      },
      "outputs": [
        {
          "output_type": "error",
          "ename": "NameError",
          "evalue": "name 'df_m' is not defined",
          "traceback": [
            "\u001b[0;31m---------------------------------------------------------------------------\u001b[0m",
            "\u001b[0;31mNameError\u001b[0m                                 Traceback (most recent call last)",
            "\u001b[0;32m<ipython-input-8-433c8ad479f6>\u001b[0m in \u001b[0;36m<cell line: 1>\u001b[0;34m()\u001b[0m\n\u001b[0;32m----> 1\u001b[0;31m \u001b[0mdf_m\u001b[0m\u001b[0;34m.\u001b[0m\u001b[0mdtypes\u001b[0m\u001b[0;34m\u001b[0m\u001b[0;34m\u001b[0m\u001b[0m\n\u001b[0m",
            "\u001b[0;31mNameError\u001b[0m: name 'df_m' is not defined"
          ]
        }
      ],
      "source": [
        "df_m.dtypes"
      ]
    },
    {
      "cell_type": "markdown",
      "id": "9JMRBbXkRAlg",
      "metadata": {
        "id": "9JMRBbXkRAlg"
      },
      "source": [
        "#### 데이터 타입 변경하기\n",
        "- 문자열을 정수형으로 변경하기"
      ]
    },
    {
      "cell_type": "code",
      "execution_count": null,
      "id": "4Bw73OUhLksB",
      "metadata": {
        "id": "4Bw73OUhLksB"
      },
      "outputs": [],
      "source": [
        "from pandas.core.dtypes.api import is_numeric_dtype\n",
        "\n",
        "def s(st):\n",
        "  if is_numeric_dtype(st):\n",
        "    return st\n",
        "\n",
        "  else:\n",
        "    return st.replace(',', '')\n",
        "\n",
        "df_m.iloc[0].apply(s).astype(int)"
      ]
    },
    {
      "cell_type": "code",
      "execution_count": null,
      "id": "Bf_Z_-6YJn5I",
      "metadata": {
        "id": "Bf_Z_-6YJn5I"
      },
      "outputs": [],
      "source": [
        "# 문자열을 정수로 변경하기\n",
        "df_m.iloc[0] =\n",
        "df_m.head()"
      ]
    },
    {
      "cell_type": "code",
      "execution_count": null,
      "id": "kcnzBd9lKMEp",
      "metadata": {
        "id": "kcnzBd9lKMEp"
      },
      "outputs": [],
      "source": [
        "df_m.head(1)\n"
      ]
    },
    {
      "cell_type": "markdown",
      "id": "rKQ1fPngSB5y",
      "metadata": {
        "id": "rKQ1fPngSB5y"
      },
      "source": [
        "### 여자 연령대별 인구 현황을 데이터프레임으로 생성하기"
      ]
    },
    {
      "cell_type": "markdown",
      "id": "f00qEWAZSOIX",
      "metadata": {
        "id": "f00qEWAZSOIX"
      },
      "source": [
        "#### 데이터프레임 생성하기\n",
        "   - 여자 연령대별 인구수 컬럼 가져오기"
      ]
    },
    {
      "cell_type": "code",
      "execution_count": null,
      "id": "I-18w-v6SS83",
      "metadata": {
        "id": "I-18w-v6SS83"
      },
      "outputs": [],
      "source": [
        "df_w =\n",
        "df_w.head()"
      ]
    },
    {
      "cell_type": "markdown",
      "id": "0r4r9eXmTGvd",
      "metadata": {
        "id": "0r4r9eXmTGvd"
      },
      "source": [
        "#### 컬럼명 변경하기"
      ]
    },
    {
      "cell_type": "code",
      "execution_count": null,
      "id": "qHLQjpWNTGve",
      "metadata": {
        "id": "qHLQjpWNTGve"
      },
      "outputs": [],
      "source": [
        "df_w.columns =\n",
        "df_w.head()"
      ]
    },
    {
      "cell_type": "code",
      "execution_count": null,
      "id": "YyLwYmOJTGve",
      "metadata": {
        "id": "YyLwYmOJTGve"
      },
      "outputs": [],
      "source": [
        "df_w.dtypes"
      ]
    },
    {
      "cell_type": "markdown",
      "id": "XdwUQO3NTGve",
      "metadata": {
        "id": "XdwUQO3NTGve"
      },
      "source": [
        "#### 데이터 타입 변경하기\n",
        "- 문자열을 정수형으로 변경하기"
      ]
    },
    {
      "cell_type": "code",
      "execution_count": null,
      "id": "G9oTFtIxTGvf",
      "metadata": {
        "id": "G9oTFtIxTGvf"
      },
      "outputs": [],
      "source": [
        "df_w.iloc[0]=\n",
        "df_w.head(1)"
      ]
    },
    {
      "cell_type": "markdown",
      "id": "1bb671e0",
      "metadata": {
        "id": "1bb671e0"
      },
      "source": [
        "## 데이터 시각화\n"
      ]
    },
    {
      "cell_type": "markdown",
      "id": "4c7147ce",
      "metadata": {
        "id": "4c7147ce"
      },
      "source": [
        "### 연령대별 인구 현황\n",
        "- 가로 막대 그래프\n"
      ]
    },
    {
      "cell_type": "code",
      "execution_count": null,
      "id": "N10WjBSAUPCq",
      "metadata": {
        "id": "N10WjBSAUPCq"
      },
      "outputs": [],
      "source": [
        "df_m.columns"
      ]
    },
    {
      "cell_type": "code",
      "execution_count": 9,
      "id": "5d4d51d0",
      "metadata": {
        "colab": {
          "base_uri": "https://localhost:8080/",
          "height": 237
        },
        "id": "5d4d51d0",
        "outputId": "4bffbb59-89ea-4e3c-8f9e-435aef74bd2b"
      },
      "outputs": [
        {
          "output_type": "error",
          "ename": "NameError",
          "evalue": "name 'df_m' is not defined",
          "traceback": [
            "\u001b[0;31m---------------------------------------------------------------------------\u001b[0m",
            "\u001b[0;31mNameError\u001b[0m                                 Traceback (most recent call last)",
            "\u001b[0;32m<ipython-input-9-9bf144460926>\u001b[0m in \u001b[0;36m<cell line: 2>\u001b[0;34m()\u001b[0m\n\u001b[1;32m      1\u001b[0m \u001b[0mplt\u001b[0m\u001b[0;34m.\u001b[0m\u001b[0mfigure\u001b[0m\u001b[0;34m(\u001b[0m\u001b[0mfigsize\u001b[0m\u001b[0;34m=\u001b[0m\u001b[0;34m(\u001b[0m\u001b[0;36m15\u001b[0m\u001b[0;34m,\u001b[0m \u001b[0;36m10\u001b[0m\u001b[0;34m)\u001b[0m\u001b[0;34m)\u001b[0m\u001b[0;34m\u001b[0m\u001b[0;34m\u001b[0m\u001b[0m\n\u001b[0;32m----> 2\u001b[0;31m \u001b[0mplt\u001b[0m\u001b[0;34m.\u001b[0m\u001b[0mbarh\u001b[0m\u001b[0;34m(\u001b[0m\u001b[0mdf_m\u001b[0m\u001b[0;34m.\u001b[0m\u001b[0mcolumns\u001b[0m\u001b[0;34m,\u001b[0m \u001b[0;34m-\u001b[0m\u001b[0mdf_m\u001b[0m\u001b[0;34m.\u001b[0m\u001b[0miloc\u001b[0m\u001b[0;34m[\u001b[0m\u001b[0;36m0\u001b[0m\u001b[0;34m]\u001b[0m\u001b[0;34m//\u001b[0m\u001b[0;36m1000\u001b[0m\u001b[0;34m)\u001b[0m \u001b[0;31m#천 단위\u001b[0m\u001b[0;34m\u001b[0m\u001b[0;34m\u001b[0m\u001b[0m\n\u001b[0m\u001b[1;32m      3\u001b[0m \u001b[0mplt\u001b[0m\u001b[0;34m.\u001b[0m\u001b[0mbarh\u001b[0m\u001b[0;34m(\u001b[0m\u001b[0mdf_w\u001b[0m\u001b[0;34m.\u001b[0m\u001b[0mcolumns\u001b[0m\u001b[0;34m,\u001b[0m \u001b[0mdf_w\u001b[0m\u001b[0;34m.\u001b[0m\u001b[0miloc\u001b[0m\u001b[0;34m[\u001b[0m\u001b[0;36m0\u001b[0m\u001b[0;34m]\u001b[0m\u001b[0;34m//\u001b[0m\u001b[0;36m1000\u001b[0m\u001b[0;34m)\u001b[0m\u001b[0;34m\u001b[0m\u001b[0;34m\u001b[0m\u001b[0m\n\u001b[1;32m      4\u001b[0m \u001b[0;34m\u001b[0m\u001b[0m\n\u001b[1;32m      5\u001b[0m \u001b[0mplt\u001b[0m\u001b[0;34m.\u001b[0m\u001b[0myticks\u001b[0m\u001b[0;34m(\u001b[0m\u001b[0mnp\u001b[0m\u001b[0;34m.\u001b[0m\u001b[0marange\u001b[0m\u001b[0;34m(\u001b[0m\u001b[0;36m0\u001b[0m\u001b[0;34m,\u001b[0m \u001b[0;36m110\u001b[0m\u001b[0;34m,\u001b[0m \u001b[0;36m10\u001b[0m\u001b[0;34m)\u001b[0m\u001b[0;34m)\u001b[0m\u001b[0;34m\u001b[0m\u001b[0;34m\u001b[0m\u001b[0m\n",
            "\u001b[0;31mNameError\u001b[0m: name 'df_m' is not defined"
          ]
        },
        {
          "output_type": "display_data",
          "data": {
            "text/plain": [
              "<Figure size 1500x1000 with 0 Axes>"
            ]
          },
          "metadata": {}
        }
      ],
      "source": [
        "plt.figure(figsize=(15, 10))\n",
        "plt.barh(df_m.columns, -df_m.iloc[0]//1000) #천 단위\n",
        "plt.barh(df_w.columns, df_w.iloc[0]//1000)\n",
        "\n",
        "plt.yticks(np.arange(0, 110, 10))\n",
        "\n",
        "plt.title('2024 대한민국 인구 피라미드')\n",
        "plt.savefig('2024_인구피라미드.png', dpi=100)\n",
        "plt.show()"
      ]
    }
  ],
  "metadata": {
    "colab": {
      "provenance": [],
      "include_colab_link": true
    },
    "kernelspec": {
      "display_name": "Python 3",
      "name": "python3"
    },
    "language_info": {
      "codemirror_mode": {
        "name": "ipython",
        "version": 3
      },
      "file_extension": ".py",
      "mimetype": "text/x-python",
      "name": "python",
      "nbconvert_exporter": "python",
      "pygments_lexer": "ipython3",
      "version": "3.12.1"
    },
    "toc": {
      "base_numbering": 1,
      "nav_menu": {},
      "number_sections": true,
      "sideBar": true,
      "skip_h1_title": false,
      "title_cell": "Table of Contents",
      "title_sidebar": "Contents",
      "toc_cell": false,
      "toc_position": {},
      "toc_section_display": true,
      "toc_window_display": true
    },
    "varInspector": {
      "cols": {
        "lenName": 16,
        "lenType": 16,
        "lenVar": 40
      },
      "kernels_config": {
        "python": {
          "delete_cmd_postfix": "",
          "delete_cmd_prefix": "del ",
          "library": "var_list.py",
          "varRefreshCmd": "print(var_dic_list())"
        },
        "r": {
          "delete_cmd_postfix": ") ",
          "delete_cmd_prefix": "rm(",
          "library": "var_list.r",
          "varRefreshCmd": "cat(var_dic_list()) "
        }
      },
      "types_to_exclude": [
        "module",
        "function",
        "builtin_function_or_method",
        "instance",
        "_Feature"
      ],
      "window_display": false
    }
  },
  "nbformat": 4,
  "nbformat_minor": 5
}