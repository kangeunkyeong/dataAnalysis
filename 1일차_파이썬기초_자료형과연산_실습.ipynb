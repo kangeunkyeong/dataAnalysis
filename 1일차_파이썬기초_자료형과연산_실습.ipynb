{
  "nbformat": 4,
  "nbformat_minor": 0,
  "metadata": {
    "colab": {
      "provenance": [],
      "toc_visible": true,
      "authorship_tag": "ABX9TyOQ9bywnwZhSRPdtp/R+1/S",
      "include_colab_link": true
    },
    "kernelspec": {
      "name": "python3",
      "display_name": "Python 3"
    },
    "language_info": {
      "name": "python"
    }
  },
  "cells": [
    {
      "cell_type": "markdown",
      "metadata": {
        "id": "view-in-github",
        "colab_type": "text"
      },
      "source": [
        "<a href=\"https://colab.research.google.com/github/kangeunkyeong/dataAnalysis/blob/main/1%EC%9D%BC%EC%B0%A8_%ED%8C%8C%EC%9D%B4%EC%8D%AC%EA%B8%B0%EC%B4%88_%EC%9E%90%EB%A3%8C%ED%98%95%EA%B3%BC%EC%97%B0%EC%82%B0_%EC%8B%A4%EC%8A%B5.ipynb\" target=\"_parent\"><img src=\"https://colab.research.google.com/assets/colab-badge.svg\" alt=\"Open In Colab\"/></a>"
      ]
    },
    {
      "cell_type": "markdown",
      "source": [
        "#1.파이썬 버전 출력\n"
      ],
      "metadata": {
        "id": "ITdEW8vPqYbc"
      }
    },
    {
      "cell_type": "code",
      "source": [
        "!python -V"
      ],
      "metadata": {
        "colab": {
          "base_uri": "https://localhost:8080/"
        },
        "id": "Rlgf0NXkzRve",
        "outputId": "edd5046f-b0da-4aa2-c0f0-31441fe4268a"
      },
      "execution_count": 9,
      "outputs": [
        {
          "output_type": "stream",
          "name": "stdout",
          "text": [
            "Python 3.10.12\n"
          ]
        }
      ]
    },
    {
      "cell_type": "code",
      "source": [
        "import sys\n",
        "print('---', sys.version)\n",
        "sys.version\n",
        "100+400"
      ],
      "metadata": {
        "colab": {
          "base_uri": "https://localhost:8080/"
        },
        "id": "PvvycGc-zZ-e",
        "outputId": "e398c0a4-0202-43ef-c100-91ef9dceceeb"
      },
      "execution_count": 18,
      "outputs": [
        {
          "output_type": "stream",
          "name": "stdout",
          "text": [
            "--- 3.10.12 (main, Nov 20 2023, 15:14:05) [GCC 11.4.0]\n"
          ]
        },
        {
          "output_type": "execute_result",
          "data": {
            "text/plain": [
              "500"
            ]
          },
          "metadata": {},
          "execution_count": 18
        }
      ]
    },
    {
      "cell_type": "markdown",
      "source": [],
      "metadata": {
        "id": "uDnDbJCp0cN-"
      }
    },
    {
      "cell_type": "code",
      "source": [
        "# 2. 파이썬 설치 위치\n",
        "import sys\n",
        "print(sys.executable)"
      ],
      "metadata": {
        "colab": {
          "base_uri": "https://localhost:8080/"
        },
        "id": "QZ0cW-E1y-rx",
        "outputId": "5bdfa185-44e1-427c-cd8f-8d2590397f7e"
      },
      "execution_count": 19,
      "outputs": [
        {
          "output_type": "stream",
          "name": "stdout",
          "text": [
            "/usr/bin/python3\n"
          ]
        }
      ]
    },
    {
      "cell_type": "code",
      "source": [
        "# 3. 물리적 폴더 위치\n",
        "import os\n",
        "os.getcwd()"
      ],
      "metadata": {
        "colab": {
          "base_uri": "https://localhost:8080/",
          "height": 35
        },
        "id": "gOx4oP320odp",
        "outputId": "1b402d53-c455-47ed-cef9-4c788f255acd"
      },
      "execution_count": 21,
      "outputs": [
        {
          "output_type": "execute_result",
          "data": {
            "text/plain": [
              "'/content'"
            ],
            "application/vnd.google.colaboratory.intrinsic+json": {
              "type": "string"
            }
          },
          "metadata": {},
          "execution_count": 21
        }
      ]
    },
    {
      "cell_type": "code",
      "source": [
        "# ✓문제1: 10 + 3 x 4 결과 출력\n",
        "print(10 + 3 * 4)\n",
        "# ✓ 문제2: 아이폰 15대를 가지고 있다. 아이폰의 가격이 130만원 일 때 총 금액은?\n",
        "iphone = 15\n",
        "price = 1300000\n",
        "print(iphone*price)\n",
        "\n",
        "print(15 * 1300000)\n",
        "# ✓ 문제3: 주어진 임의의 자연수가 홀수인지 짝수인지 판별하는 방법은?\n",
        "x = 10\n",
        "if  x % 2 == 0:\n",
        " print ('짝수')\n",
        "else:\n",
        "  print ( '홀수' )\n",
        "\n",
        "# ✓ 문제4: 2x2x2x5x5x5x5x3x3x3x3을 제곱형태로 나타낸 후 그 결과 출력하기\n",
        "print(2**3 * 5**4 * 3**4)\n"
      ],
      "metadata": {
        "colab": {
          "base_uri": "https://localhost:8080/"
        },
        "id": "3YPIJfGW2EjH",
        "outputId": "fa8647b8-134c-444a-fd9b-aec786ef6098"
      },
      "execution_count": 38,
      "outputs": [
        {
          "output_type": "stream",
          "name": "stdout",
          "text": [
            "22\n",
            "19500000\n",
            "19500000\n",
            "짝수\n",
            "405000\n"
          ]
        }
      ]
    },
    {
      "cell_type": "code",
      "source": [
        "x = 10\n",
        "print('짝수') if  x % 2 == 0 else print('홀수')"
      ],
      "metadata": {
        "colab": {
          "base_uri": "https://localhost:8080/"
        },
        "id": "f0RzMTrq3Zcv",
        "outputId": "b40a76a5-782e-4df7-ca8e-025a0928833e"
      },
      "execution_count": 50,
      "outputs": [
        {
          "output_type": "stream",
          "name": "stdout",
          "text": [
            "짝수\n"
          ]
        }
      ]
    },
    {
      "cell_type": "markdown",
      "source": [
        "파이썬 자료형(Data Type) 확인 함수: type()"
      ],
      "metadata": {
        "id": "puzgp4Kb-BNQ"
      }
    },
    {
      "cell_type": "code",
      "source": [
        "print( type(123) )\n",
        "print( type(3.14) )\n",
        "print( type(\"123\") )\n",
        "print( type([123]) )\n",
        "print( type({123,}) )\n",
        "print( type({'123' : 123}) )\n",
        "print( type({123}) )\n",
        "print( type(True) )"
      ],
      "metadata": {
        "colab": {
          "base_uri": "https://localhost:8080/"
        },
        "id": "Sy1smGPE93Iq",
        "outputId": "a77e9714-5867-45ee-bdf4-699e7148c4f1"
      },
      "execution_count": 44,
      "outputs": [
        {
          "output_type": "stream",
          "name": "stdout",
          "text": [
            "<class 'int'>\n",
            "<class 'float'>\n",
            "<class 'str'>\n",
            "<class 'list'>\n",
            "<class 'set'>\n",
            "<class 'dict'>\n",
            "<class 'set'>\n",
            "<class 'bool'>\n"
          ]
        }
      ]
    },
    {
      "cell_type": "markdown",
      "source": [
        "\n",
        "\n",
        "## 2. 표준 입출력\n",
        "\n"
      ],
      "metadata": {
        "id": "pNrBHjMNCjBK"
      }
    },
    {
      "cell_type": "markdown",
      "source": [
        "### 문자열 데이터를 숫자로변환하기"
      ],
      "metadata": {
        "id": "TsGHiIN4C5an"
      }
    },
    {
      "cell_type": "code",
      "source": [
        "a = input('숫자를 입력하세요: ')\n",
        "print( type(a))\n",
        "a = int(a)  # 정수로 변환하는 함수: int()\n",
        "print( type(a) )"
      ],
      "metadata": {
        "colab": {
          "base_uri": "https://localhost:8080/"
        },
        "id": "_OM6VHlR-yXN",
        "outputId": "a10c97cb-dac4-4dcf-ef05-10851d3f42a0"
      },
      "execution_count": 54,
      "outputs": [
        {
          "output_type": "stream",
          "name": "stdout",
          "text": [
            "숫자를 입력하세요: 100\n",
            "<class 'str'>\n",
            "<class 'int'>\n"
          ]
        }
      ]
    },
    {
      "cell_type": "code",
      "source": [
        "# a = input('숫자를 입력하세요: ')\n",
        "# a = int(a)\n",
        "\n",
        "\n",
        "a = input('숫자를 입력하세요: ')\n",
        "a = int(a)\n",
        "a = int(input('숫자를 입력하세요: '))"
      ],
      "metadata": {
        "colab": {
          "base_uri": "https://localhost:8080/"
        },
        "id": "p-t4l4SEDGO-",
        "outputId": "a3f8faec-78df-4638-cc42-7ffad045c188"
      },
      "execution_count": 55,
      "outputs": [
        {
          "name": "stdout",
          "output_type": "stream",
          "text": [
            "숫자를 입력하세요: 100\n",
            "숫자를 입력하세요: 100\n"
          ]
        }
      ]
    },
    {
      "cell_type": "code",
      "source": [
        "# 문자열 포맷팅\n",
        "a = input('키보드로 입력해 주세요.')\n",
        "print('변수 a의 값은', a, '입니다.')\n",
        "print('변수 a의 값은 %s입니다.' % a)\n",
        "print(f'변수 a의 값은 {a}입니다.')"
      ],
      "metadata": {
        "colab": {
          "base_uri": "https://localhost:8080/"
        },
        "id": "C46_rnnQETZx",
        "outputId": "cea8aa3a-2a97-4f00-dec7-efe010a1f89a"
      },
      "execution_count": 57,
      "outputs": [
        {
          "output_type": "stream",
          "name": "stdout",
          "text": [
            "키보드로 입력해 주세요.사과\n",
            "변수 a의 값은 사과 입니다.\n",
            "변수 a의 값은 사과입니다.\n",
            "변수 a의 값은 사과입니다.\n"
          ]
        }
      ]
    },
    {
      "cell_type": "code",
      "source": [
        "#실습\n",
        "num1 = int(input('첫번째 숫자:'))\n",
        "num2 = int(input('두번째 숫자:'))\n",
        "\n",
        "print('-' * 30)\n",
        "print(f'덧셈: {num1} + {num2} = {num1 + num2:>10}')\n",
        "print(f'뺄셈: {num1} - {num2} = {num1 - num2:<10}')\n",
        "print(f'곱셈: {num1} * {num2} = {num1 * num2:^10}')\n",
        "print(f'몫 : {num1} // {num2} = {num1 // num2:10}')\n",
        "print(f'나머지: {num1} % {num2} = {num1 % num2:10}')"
      ],
      "metadata": {
        "colab": {
          "base_uri": "https://localhost:8080/"
        },
        "id": "PFVJt1PEGQn3",
        "outputId": "c031ecfd-7bee-4cc7-e504-efb7cb72117f"
      },
      "execution_count": 72,
      "outputs": [
        {
          "output_type": "stream",
          "name": "stdout",
          "text": [
            "첫번째 숫자:50\n",
            "두번째 숫자:3\n",
            "------------------------------\n",
            "덧셈: 50 + 3 =         53\n",
            "뺄셈: 50 - 3 = 47        \n",
            "곱셈: 50 * 3 =    150    \n",
            "몫 : 50 // 3 =         16\n",
            "나머지: 50 % 3 =          2\n"
          ]
        }
      ]
    },
    {
      "cell_type": "code",
      "source": [
        "val = input('첫 번째 숫자:')\n",
        "print (f'a의 값은: {val:<10}') #val 값을 10자리로 오른쪽 정렬\n",
        "print (f'a의 값은: {val:>10}') #val 값을 10자리로 왼쪽 정렬\n",
        "print (f'a의 값은: {val:^10}') #val 값을 10자리로 가운데 정렬"
      ],
      "metadata": {
        "colab": {
          "base_uri": "https://localhost:8080/"
        },
        "id": "ARyg1Nt3IXYs",
        "outputId": "81b24e7a-a494-4ec2-8ebd-1da7e5d0b22c"
      },
      "execution_count": 71,
      "outputs": [
        {
          "output_type": "stream",
          "name": "stdout",
          "text": [
            "첫 번째 숫자:12345\n",
            "a의 값은: 12345     \n",
            "a의 값은:      12345\n",
            "a의 값은:   12345   \n"
          ]
        }
      ]
    },
    {
      "cell_type": "code",
      "source": [
        "#속력과 거리를 입력받아 시간을 계산하는 프로그램 만들기\n",
        "\n",
        "velocity = input('속력을 입력해 주세요(km/h):')\n",
        "distance = input('거리를 입력해 주세요(km):')\n",
        "\n",
        "print ( '-' * 30)\n",
        "\n",
        "print(f'속력 : {float(velocity)} km/h')\n",
        "print(f'거리 : {float(distance)} km')\n",
        "print(f'시간 : {float(distance)/float(velocity)} h')"
      ],
      "metadata": {
        "colab": {
          "base_uri": "https://localhost:8080/"
        },
        "id": "3ZOaXxPVKx_l",
        "outputId": "49ca7744-fb6b-4afc-c84d-03dfdee66966"
      },
      "execution_count": 77,
      "outputs": [
        {
          "output_type": "stream",
          "name": "stdout",
          "text": [
            "속력을 입력해 주세요(km/h):100\n",
            "거리를 입력해 주세요(km):340\n",
            "------------------------------\n",
            "속력 : 100.0 km/h\n",
            "거리 : 340.0 km\n",
            "시간 : 3.4 h\n"
          ]
        }
      ]
    },
    {
      "cell_type": "markdown",
      "source": [
        "내장된 수학 함수"
      ],
      "metadata": {
        "id": "CpRC6hi2OweW"
      }
    },
    {
      "cell_type": "code",
      "source": [
        "import math\n",
        "\n",
        "print(f'원주율: {math.pi}')\n",
        "print(f'절대값: {math.pi}')"
      ],
      "metadata": {
        "colab": {
          "base_uri": "https://localhost:8080/"
        },
        "id": "xTqMZ9ExMPHl",
        "outputId": "140d324d-3f78-4eb4-8698-c6d0eb869183"
      },
      "execution_count": 79,
      "outputs": [
        {
          "output_type": "stream",
          "name": "stdout",
          "text": [
            "원주율: 3.141592653589793\n",
            "절대값: 3.141592653589793\n"
          ]
        }
      ]
    },
    {
      "cell_type": "code",
      "source": [],
      "metadata": {
        "id": "RGsPNShgHO8G"
      },
      "execution_count": null,
      "outputs": []
    },
    {
      "cell_type": "code",
      "source": [
        "import math\n",
        "\n",
        "#문제 1: 반지름이 4인 원의 넓이 출력\n",
        "r = 4\n",
        "pi = math.pi\n",
        "print(f'원의 넓이: {round(pi * math.pow(r, 2), 4)}')\n",
        "\n",
        "#문제 2: 3.14 곱하기 2 나누기 7의 값을 반올림하여 계산 결과 출력\n",
        "print(f'계산결과: {round(3.14 * 2 / 7)}')\n",
        "\n",
        "#문제 3: 원주율을 3.14로 만들어서 반지름이 4인 원의 둘레의 길이 출력\n",
        "print(f'원의 둘레: {2 * pi * r}')"
      ],
      "metadata": {
        "colab": {
          "base_uri": "https://localhost:8080/"
        },
        "id": "NZtQY2EhPFlu",
        "outputId": "bbc0f707-9e69-4770-ad2d-e13c931be99e"
      },
      "execution_count": 86,
      "outputs": [
        {
          "output_type": "stream",
          "name": "stdout",
          "text": [
            "원의 넓이: 50.2655\n",
            "계산결과: 1\n",
            "원의 둘레: 25.132741228718345\n"
          ]
        }
      ]
    },
    {
      "cell_type": "code",
      "source": [
        "------------------------------------------------------"
      ],
      "metadata": {
        "id": "oLmLwvZ9REYo"
      },
      "execution_count": null,
      "outputs": []
    },
    {
      "cell_type": "markdown",
      "source": [
        "### [실습문제] 숫자 입력받아 계산하기\n",
        "a + aa + aaa = ?"
      ],
      "metadata": {
        "id": "bS0HtBn_HGBe"
      }
    },
    {
      "cell_type": "code",
      "source": [
        "a = input('1~9까지의 정수 1개 입력: ')\n",
        "\n",
        "print(f\"{a} + {a*2} + {a*3} = {int(a) + int(a*2) + int(a*3)}\")\n",
        "\n"
      ],
      "metadata": {
        "colab": {
          "base_uri": "https://localhost:8080/"
        },
        "id": "ta6T0yojHOW0",
        "outputId": "4742f205-3dbf-4ed7-f934-e89d7e9c2a4b"
      },
      "execution_count": 8,
      "outputs": [
        {
          "output_type": "stream",
          "name": "stdout",
          "text": [
            "1~9까지의 정수 1개 입력: 7\n",
            "7 + 77 + 777 = 861\n"
          ]
        }
      ]
    },
    {
      "cell_type": "code",
      "source": [
        "# eval() : 문자열을 숫자로 인식하고 계산하는 함수\n",
        "\n",
        "eval('7 + 77 + 777')\n",
        "calc = f'{a} + {a*2} + {a*3}'\n",
        "print(f'{calc} = {eval(calc)}')"
      ],
      "metadata": {
        "colab": {
          "base_uri": "https://localhost:8080/"
        },
        "id": "1VczqUR_HWLN",
        "outputId": "24ffc73d-203b-49ca-d516-72b9797c4d7b"
      },
      "execution_count": 16,
      "outputs": [
        {
          "output_type": "stream",
          "name": "stdout",
          "text": [
            "7 + 77 + 777 = 861\n"
          ]
        }
      ]
    },
    {
      "cell_type": "code",
      "source": [],
      "metadata": {
        "id": "579MvO5zNoeH"
      },
      "execution_count": null,
      "outputs": []
    }
  ]
}