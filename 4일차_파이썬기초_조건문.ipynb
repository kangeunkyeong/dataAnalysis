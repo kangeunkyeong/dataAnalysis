{
  "nbformat": 4,
  "nbformat_minor": 0,
  "metadata": {
    "colab": {
      "provenance": [],
      "authorship_tag": "ABX9TyOMVcCxM5FGwPCD+Xr8hls8",
      "include_colab_link": true
    },
    "kernelspec": {
      "name": "python3",
      "display_name": "Python 3"
    },
    "language_info": {
      "name": "python"
    }
  },
  "cells": [
    {
      "cell_type": "markdown",
      "metadata": {
        "id": "view-in-github",
        "colab_type": "text"
      },
      "source": [
        "<a href=\"https://colab.research.google.com/github/kangeunkyeong/dataAnalysis/blob/main/4%EC%9D%BC%EC%B0%A8_%ED%8C%8C%EC%9D%B4%EC%8D%AC%EA%B8%B0%EC%B4%88_%EC%A1%B0%EA%B1%B4%EB%AC%B8.ipynb\" target=\"_parent\"><img src=\"https://colab.research.google.com/assets/colab-badge.svg\" alt=\"Open In Colab\"/></a>"
      ]
    },
    {
      "cell_type": "markdown",
      "source": [
        "# 4. 파이썬 조건문"
      ],
      "metadata": {
        "id": "QL_rSi72ce_T"
      }
    },
    {
      "cell_type": "markdown",
      "source": [
        "## 1. if 조건문(if만 사용)"
      ],
      "metadata": {
        "id": "GypVbt-ecjot"
      }
    },
    {
      "cell_type": "code",
      "source": [
        "a = 99\n",
        "if a< 100: #만약 a가 100보다 작으면\n",
        "    print(\"100보다 작군요\")\n",
        "\n"
      ],
      "metadata": {
        "colab": {
          "base_uri": "https://localhost:8080/"
        },
        "id": "0gt4oipzc-Q1",
        "outputId": "d16f552e-76c9-448a-bca4-3b1c31194ff3"
      },
      "execution_count": 1,
      "outputs": [
        {
          "output_type": "stream",
          "name": "stdout",
          "text": [
            "100보다 작군요\n"
          ]
        }
      ]
    },
    {
      "cell_type": "markdown",
      "source": [
        "## 2. if ~ else ~ 조건문\n"
      ],
      "metadata": {
        "id": "K4R0GUslcsZB"
      }
    },
    {
      "cell_type": "code",
      "source": [
        "a = int(input('숫자를 입력하세요:'))\n",
        "if a< 100: #만약 a가 100보다 작으면(True, 참이라면)\n",
        "    print(\"100보다 작군요\")\n",
        "else: #그렇지 않다면 (False, 거짓이라면)\n",
        "    print(f\"{a}는 100보다 작지 않군요\")\n",
        "\n"
      ],
      "metadata": {
        "colab": {
          "base_uri": "https://localhost:8080/"
        },
        "id": "a710vsemc_Bd",
        "outputId": "2ed00a1c-4d14-4ec5-9246-6bd82d27b858"
      },
      "execution_count": 6,
      "outputs": [
        {
          "output_type": "stream",
          "name": "stdout",
          "text": [
            "숫자를 입력하세요:200\n",
            "200는 100보다 작지 않군요\n"
          ]
        }
      ]
    },
    {
      "cell_type": "markdown",
      "source": [
        "## 3. 중첩 if 조건문 (if문 안에 if문)"
      ],
      "metadata": {
        "id": "wFOVx9Z2cyrS"
      }
    },
    {
      "cell_type": "code",
      "execution_count": null,
      "metadata": {
        "id": "F6s2-xobbAGa"
      },
      "outputs": [],
      "source": [
        "a = int(input('숫자를 입력하세요:'))\n",
        "if a < 100:\n",
        "    if a < 50:\n",
        "        print(f\"{a}는 50보다 작군요.\")\n",
        "    else: # 50<=a<100\n",
        "        print(f\"{a}는 50과 100의 사이군요.\")\n",
        "else:\n",
        "    if a==100\n",
        "        print(f\"{a]}는\"100과 같군요\")\n",
        "else:\n",
        "    print(f\"{a}는 100보다 작지 않군요\")\n"
      ]
    },
    {
      "cell_type": "code",
      "source": [
        "a = int(input('숫자를 입력해 주세요.'))\n",
        "if a % 2 == 0:  print(f\"{a}는 짝수군요.\")\n",
        "else:   print(f\"{a}는 홀수군요.\")\n"
      ],
      "metadata": {
        "colab": {
          "base_uri": "https://localhost:8080/"
        },
        "id": "58ikj9aMgJqJ",
        "outputId": "a730691d-81ac-41f1-86e1-fd592e30a612"
      },
      "execution_count": 10,
      "outputs": [
        {
          "output_type": "stream",
          "name": "stdout",
          "text": [
            "숫자를 입력해 주세요.6\n",
            "6는 짝수군요.\n"
          ]
        }
      ]
    },
    {
      "cell_type": "code",
      "source": [
        "print(f\"{a}는 짝수군요.\") if a % 2 == 0  else   print(f\"{a}는 홀수군요.\")  #줄수를 바꾸기 위해서"
      ],
      "metadata": {
        "colab": {
          "base_uri": "https://localhost:8080/"
        },
        "id": "hVrtgiPvg9mL",
        "outputId": "16851664-e6f5-48c2-e1c2-bcf4d2f34ceb"
      },
      "execution_count": 12,
      "outputs": [
        {
          "output_type": "stream",
          "name": "stdout",
          "text": [
            "6는 짝수군요.\n"
          ]
        }
      ]
    },
    {
      "cell_type": "markdown",
      "source": [
        "### [실습문제] 가위/바위/보 게임"
      ],
      "metadata": {
        "id": "r8_x1MTsiMON"
      }
    },
    {
      "cell_type": "code",
      "source": [
        "import random  # 난수 발생 모듈\n",
        "\n",
        "random.randint(1,10) # 1~10 사이의 임의의 정수 선택\n",
        "computer = random.choice (['가위', '바위', '보'])\n",
        "my = input('가위/바위/보 중 하나 입력:')\n",
        "print(f\"computer:{computer}, my:{my}\")\n",
        "\n",
        "# 결과 판단하기\n",
        "if computer==my:\n",
        "        print('서로 비겼습니다')\n",
        "# 컴퓨터가 이긴 경우\n",
        "else:\n",
        "  if (computer=='가위' and my=='보') or \\\n",
        "   (computer=='바위' and my=='가위') or \\\n",
        "   (computer=='보' and my=='바위'):\n",
        "        print('컴퓨터가 이겼습니다.')\n",
        "    else:\n",
        "        print('내가 이겼습니다.')\n"
      ],
      "metadata": {
        "colab": {
          "base_uri": "https://localhost:8080/",
          "height": 110
        },
        "id": "CYcDoYifhrG1",
        "outputId": "20c1554f-71b7-4815-b773-2ab246a70115"
      },
      "execution_count": 26,
      "outputs": [
        {
          "output_type": "error",
          "ename": "IndentationError",
          "evalue": "unindent does not match any outer indentation level (<tokenize>, line 17)",
          "traceback": [
            "\u001b[0;36m  File \u001b[0;32m\"<tokenize>\"\u001b[0;36m, line \u001b[0;32m17\u001b[0m\n\u001b[0;31m    else:\u001b[0m\n\u001b[0m    ^\u001b[0m\n\u001b[0;31mIndentationError\u001b[0m\u001b[0;31m:\u001b[0m unindent does not match any outer indentation level\n"
          ]
        }
      ]
    },
    {
      "cell_type": "code",
      "source": [
        "import random\n",
        "print(\"가위바위보 게임을 시작합니다.\")\n",
        "com = random.choice ([\"가위\", \"바위\", \"보\"])\n",
        "print(\"컴퓨터는 정했습니다!\")\n",
        "my = input('가위/바위/보 중 하나 입력:')\n",
        "print('*' *30)\n",
        "print(f\"computer:{computer}, my{my}\")\n",
        "\n",
        "# 결과 판단하기\n",
        "if computer==my:\n",
        "        print('서로 비겼습니다')\n",
        "# 컴퓨터가 이긴 경우\n",
        "else:\n",
        "    if (computer=='가위' and my=='보') or \\\n",
        "       (computer=='바위' and my=='가위') or \\\n",
        "       (computer=='보' and my=='바위'):\n",
        "        print('컴퓨터가 이겼습니다.')\n",
        "    else:\n",
        "        print('내가 이겼습니다.')\n",
        "\n",
        "\n"
      ],
      "metadata": {
        "colab": {
          "base_uri": "https://localhost:8080/"
        },
        "id": "RA60T73ViVvS",
        "outputId": "e4962677-c77e-491b-fc2b-36f390089afc"
      },
      "execution_count": 35,
      "outputs": [
        {
          "output_type": "stream",
          "name": "stdout",
          "text": [
            "가위바위보 게임을 시작합니다.\n",
            "컴퓨터는 정했습니다!\n",
            "가위/바위/보 중 하나 입력:보\n",
            "******************************\n",
            "computer:바위, my보\n",
            "내가 이겼습니다.\n"
          ]
        }
      ]
    },
    {
      "cell_type": "markdown",
      "source": [
        "### [실습문제] 직각삼각형 판별하기"
      ],
      "metadata": {
        "id": "axs2wDRwqxxW"
      }
    },
    {
      "cell_type": "code",
      "source": [
        "print('삼각형의 세 변의 길이를 입력 받습니다')\n",
        "c = int(input('빗변 c의 길:'))\n",
        "a = int(input('빗변 a의 길:'))\n",
        "b = int(input('빗변 b의 길:'))\n",
        "print('-' * 30)\n",
        "if a**2 + b**2 == c**2:\n",
        "        print('직각삼각형입니다.')\n",
        "else:\n",
        "        print('직각삼각형이 아닙니다.')\n",
        "\n"
      ],
      "metadata": {
        "colab": {
          "base_uri": "https://localhost:8080/"
        },
        "id": "HO3r0HiVn8NS",
        "outputId": "d7059ae6-1e29-46ae-9bae-550863f2f888"
      },
      "execution_count": 37,
      "outputs": [
        {
          "output_type": "stream",
          "name": "stdout",
          "text": [
            "삼각형의 세 변의 길이를 입력 받습니다\n",
            "빗변 c의 길:3\n",
            "빗변 a의 길:3\n",
            "빗변 b의 길:3\n",
            "------------------------------\n",
            "직각삼각형이 아닙니다.\n"
          ]
        }
      ]
    },
    {
      "cell_type": "markdown",
      "source": [
        "## 4. 다중 조건문\n",
        "if~ else~ if -> if~ elif~\n",
        ""
      ],
      "metadata": {
        "id": "vC7zXrpeyEOG"
      }
    },
    {
      "cell_type": "code",
      "source": [
        "# 나이별 학생 구분하기\n",
        "age = int(input('나이를 입력하세요'))\n",
        "if age <= 8:\n",
        "    print('미취학 아동입니다.')\n",
        "elif age < 14:\n",
        "    print('초등학생 입니다.')\n",
        "elif age < 17:\n",
        "    print('중학생 입니다.')\n",
        "elif age < 20:\n",
        "    print('고등학생 입니다.')\n",
        "else:\n",
        "    print('성인입니다.')\n",
        "\n",
        "\n",
        "\n"
      ],
      "metadata": {
        "colab": {
          "base_uri": "https://localhost:8080/"
        },
        "id": "xPmkLoJUroEC",
        "outputId": "a147ab7e-e6d4-451b-a330-b1b729ecfd04"
      },
      "execution_count": 39,
      "outputs": [
        {
          "output_type": "stream",
          "name": "stdout",
          "text": [
            "나이를 입력하세요14\n",
            "중학생 입니다.\n"
          ]
        }
      ]
    },
    {
      "cell_type": "markdown",
      "source": [
        "## 5. 조건부 표현식"
      ],
      "metadata": {
        "id": "SrexZmY-z4LG"
      }
    },
    {
      "cell_type": "code",
      "source": [
        "score = int(input('점수를 입력하세요'))\n",
        "if score >= 80:\n",
        "    message = 'Success'\n",
        "else:\n",
        "    message = 'Failure'\n",
        "print(f\"당신은 점수{score}점은 시험에 {message} 하셨습니다\")\n",
        "\n",
        "\n"
      ],
      "metadata": {
        "colab": {
          "base_uri": "https://localhost:8080/"
        },
        "id": "8BfDsEYcyiHy",
        "outputId": "cd18f3ad-2baa-4a02-9f3f-ca1c3a67c631"
      },
      "execution_count": 44,
      "outputs": [
        {
          "output_type": "stream",
          "name": "stdout",
          "text": [
            "점수를 입력하세요50\n",
            "당신은 점수50점은 시험에 Failure 하셨습니다\n"
          ]
        }
      ]
    },
    {
      "cell_type": "code",
      "source": [
        "message = \"Success\" if score >= 80 else \"Failure\"\n",
        "print(f\"당신은 점수{score}점은 시험에 {message} 하셨습니다\")"
      ],
      "metadata": {
        "colab": {
          "base_uri": "https://localhost:8080/"
        },
        "id": "nMp0zbKN0Swh",
        "outputId": "c858690a-8da3-4246-b1dc-e2601af9e887"
      },
      "execution_count": 46,
      "outputs": [
        {
          "output_type": "stream",
          "name": "stdout",
          "text": [
            "당신은 점수50점은 시험에 Failure 하셨습니다\n"
          ]
        }
      ]
    },
    {
      "cell_type": "code",
      "source": [
        "# 실습문제\n",
        "\n",
        "temperature = int(input('온도:'))\n",
        "\n",
        "if temperature >= 30:\n",
        "    print('에어컨을 켜세요.')\n",
        "elif temperature <= 20:\n",
        "    print('내복을 입으세요.')\n",
        "elif temperature <= 10:\n",
        "    print('난방기를 켜세요.')\n",
        "\n",
        "print(f\"온도는 {temperature}도 입니다\")\n",
        "\n"
      ],
      "metadata": {
        "colab": {
          "base_uri": "https://localhost:8080/"
        },
        "id": "TZ8Cp76S05QW",
        "outputId": "4d4bdc9c-a08e-4e83-bf24-b83e2e80ff56"
      },
      "execution_count": 54,
      "outputs": [
        {
          "output_type": "stream",
          "name": "stdout",
          "text": [
            "온도:40\n",
            "에어컨을 켜세요.\n",
            "온도는 40도 입니다\n"
          ]
        }
      ]
    },
    {
      "cell_type": "markdown",
      "source": [
        "## [실습문제] 일상생활의 상황을 조건문으로 표현하기"
      ],
      "metadata": {
        "id": "OluN3jgL5ILV"
      }
    },
    {
      "cell_type": "code",
      "source": [
        "'''기온 조건 상황\n",
        "- 온도가 30 이상 에어컨 켜기\n",
        "- 온도가 20 미만이면 내복 입기\n",
        "- 온도가 10 이하면 난방기 켜기\n",
        "'''\n",
        "degree = int(input('온도를 입력해 주세요:'))\n",
        "\n",
        "if degree >= 30:\n",
        "    print('에어컨을 켜세요')\n",
        "else:\n",
        "    if degree < 20:\n",
        "        print('내복을 입으세요')\n",
        "    if 20 <= degree <30:\n",
        "        print('쾌적한 기온입니다.')\n",
        "    if degree <= 10:\n",
        "        print('난방기를 켜세요.')"
      ],
      "metadata": {
        "colab": {
          "base_uri": "https://localhost:8080/"
        },
        "id": "15RfKWyJ3Dwt",
        "outputId": "f4fe34ea-1173-46ef-dedd-db0e9a11caa7"
      },
      "execution_count": 63,
      "outputs": [
        {
          "output_type": "stream",
          "name": "stdout",
          "text": [
            "온도를 입력해 주세요:8\n",
            "내복을 입으세요\n",
            "난방기를 켜세요.\n"
          ]
        }
      ]
    },
    {
      "cell_type": "markdown",
      "source": [
        "## 커피 주문 머신 만들기"
      ],
      "metadata": {
        "id": "zV07mUrp9Y1t"
      }
    },
    {
      "cell_type": "code",
      "source": [
        "menu = ''' [커피 주문 머신 메뉴]\n",
        "-------------------------------\n",
        "- 아메리카노 : 2500원\n",
        "- 카페라테 : 3000원\n",
        "- 카페모카 : 3000원\n",
        "-------------------------------\n",
        "원하시는 커피종류와 잔수를 입력하세요 '''\n",
        "\n",
        "\n",
        "print(menu)\n",
        "coffee1 = int(input('아메리카노 몇잔:'))\n",
        "coffee2 = int(input('카페라테 몇잔:'))\n",
        "coffee3 = int(input('카페모카 몇잔:'))\n",
        "\n",
        "total = 2500*coffee1 + 3000*coffee2 + 3000*coffee3\n",
        "print(f\"지불하실 총 금액은 {total:,}원 입니다.\")\n",
        "money = int(input('돈을 넣어 주세요.'))\n",
        "\n",
        "change = total - money #거스름돈\n",
        "\n",
        "if total > money:\n",
        "    print(f\"돈이 부족합니다. {change}원을 더 넣어주세요.\")\n",
        "else:\n",
        "    print(f\"거스름돈은 {abs(change)}원 입니다. 커피 맛있게 드세요~\")\n",
        "\n",
        "\n",
        "\n",
        "\n",
        "\n"
      ],
      "metadata": {
        "colab": {
          "base_uri": "https://localhost:8080/"
        },
        "id": "B9BUHppC5OHJ",
        "outputId": "a1d8d02a-115a-4460-9f10-ca8a63c75308"
      },
      "execution_count": 74,
      "outputs": [
        {
          "output_type": "stream",
          "name": "stdout",
          "text": [
            " [커피 주문 머신 메뉴]\n",
            "-------------------------------\n",
            "- 아메리카노 : 2500원\n",
            "- 카페라테 : 3000원\n",
            "- 카페모카 : 3000원\n",
            "-------------------------------\n",
            "원하시는 커피종류와 잔수를 입력하세요 \n",
            "아메리카노 몇잔:3\n",
            "카페라테 몇잔:2\n",
            "카페모카 몇잔:1\n",
            "지불하실 총 금액은 16,500원 입니다.\n",
            "돈을 넣어 주세요.20000\n",
            "거스름돈은 3500원 입니다. 커피 맛있게 드세요~\n"
          ]
        }
      ]
    },
    {
      "cell_type": "code",
      "source": [
        "!pip install gTTS\n",
        "\n"
      ],
      "metadata": {
        "colab": {
          "base_uri": "https://localhost:8080/"
        },
        "id": "3cxaDJ3l5MBl",
        "outputId": "5f2750ad-59e6-4fdc-c49c-e76586ca363e"
      },
      "execution_count": 83,
      "outputs": [
        {
          "output_type": "stream",
          "name": "stdout",
          "text": [
            "Requirement already satisfied: gTTS in /usr/local/lib/python3.10/dist-packages (2.5.1)\n",
            "Requirement already satisfied: requests<3,>=2.27 in /usr/local/lib/python3.10/dist-packages (from gTTS) (2.31.0)\n",
            "Requirement already satisfied: click<8.2,>=7.1 in /usr/local/lib/python3.10/dist-packages (from gTTS) (8.1.7)\n",
            "Requirement already satisfied: charset-normalizer<4,>=2 in /usr/local/lib/python3.10/dist-packages (from requests<3,>=2.27->gTTS) (3.3.2)\n",
            "Requirement already satisfied: idna<4,>=2.5 in /usr/local/lib/python3.10/dist-packages (from requests<3,>=2.27->gTTS) (3.6)\n",
            "Requirement already satisfied: urllib3<3,>=1.21.1 in /usr/local/lib/python3.10/dist-packages (from requests<3,>=2.27->gTTS) (2.0.7)\n",
            "Requirement already satisfied: certifi>=2017.4.17 in /usr/local/lib/python3.10/dist-packages (from requests<3,>=2.27->gTTS) (2024.2.2)\n"
          ]
        }
      ]
    },
    {
      "cell_type": "code",
      "source": [
        "\n",
        "# gTTS 사용하여 소리 나오게 하기\n",
        "\n",
        "from gtts import gTTS #모듈이고\n",
        "from IPython.display import Audio #플레이 하는 역할이다\n",
        "\n",
        "\n",
        "\n",
        "\n",
        "def speaker(stmt):\n",
        "    kor_wav = gTTS(stmt, lang = 'ko')\n",
        "    kor_wav.save('kor.wav')\n",
        "    display(Audio('kor.wav', autoplay=True))\n",
        "\n",
        "\n",
        "\n",
        "\n",
        "\n",
        "\n",
        "menu = ''' [커피 주문 머신 메뉴]\n",
        "-------------------------------\n",
        "- 아메리카노 : 2500원\n",
        "- 카페라테 : 3000원\n",
        "- 카페모카 : 3000원\n",
        "-------------------------------\n",
        "원하시는 커피종류와 잔수를 입력하세요 '''\n",
        "\n",
        "\n",
        "print(menu)\n",
        "speaker(menu)\n",
        "\n",
        "speaker('아메리카노 몇잔')\n",
        "coffee1 = int(input('아메리카노 몇잔:'))\n",
        "speaker('카페라테 몇잔')\n",
        "coffee2 = int(input('카페라테 몇잔:'))\n",
        "speaker('카페모카 몇잔')\n",
        "coffee3 = int(input('카페모카 몇잔:'))\n",
        "\n",
        "\n",
        "\n",
        "total = 2500*coffee1 + 3000*coffee2 + 3000*coffee3\n",
        "print(f\"지불하실 총 금액은 {total:,}원 입니다.\")\n",
        "money = int(input('돈을 넣어 주세요.'))\n",
        "\n",
        "change = total - money #거스름돈\n",
        "\n",
        "if total > money:\n",
        "    print(f\"돈이 부족합니다. {change}원을 더 넣어주세요.\")\n",
        "else:\n",
        "    print(f\"거스름돈은 {abs(change)}원 입니다. 커피 맛있게 드세요~\")\n"
      ],
      "metadata": {
        "colab": {
          "base_uri": "https://localhost:8080/",
          "height": 482
        },
        "id": "osedBVzoA_en",
        "outputId": "6e7cc8d7-1328-4cd8-a7b1-746824011a45"
      },
      "execution_count": 88,
      "outputs": [
        {
          "output_type": "stream",
          "name": "stdout",
          "text": [
            " [커피 주문 머신 메뉴]\n",
            "-------------------------------\n",
            "- 아메리카노 : 2500원\n",
            "- 카페라테 : 3000원\n",
            "- 카페모카 : 3000원\n",
            "-------------------------------\n",
            "원하시는 커피종류와 잔수를 입력하세요 \n"
          ]
        },
        {
          "output_type": "display_data",
          "data": {
            "text/plain": [
              "<IPython.lib.display.Audio object>"
            ],
            "text/html": [
              "\n",
              "                <audio  controls=\"controls\" autoplay=\"autoplay\">\n",
              "                    <source src=\"data:audio/x-wav;base64,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\" type=\"audio/x-wav\" />\n",
              "                    Your browser does not support the audio element.\n",
              "                </audio>\n",
              "              "
            ]
          },
          "metadata": {}
        },
        {
          "output_type": "display_data",
          "data": {
            "text/plain": [
              "<IPython.lib.display.Audio object>"
            ],
            "text/html": [
              "\n",
              "                <audio  controls=\"controls\" autoplay=\"autoplay\">\n",
              "                    <source src=\"data:audio/x-wav;base64,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\" type=\"audio/x-wav\" />\n",
              "                    Your browser does not support the audio element.\n",
              "                </audio>\n",
              "              "
            ]
          },
          "metadata": {}
        },
        {
          "name": "stdout",
          "output_type": "stream",
          "text": [
            "아메리카노 몇잔:3\n"
          ]
        },
        {
          "output_type": "display_data",
          "data": {
            "text/plain": [
              "<IPython.lib.display.Audio object>"
            ],
            "text/html": [
              "\n",
              "                <audio  controls=\"controls\" autoplay=\"autoplay\">\n",
              "                    <source src=\"data:audio/x-wav;base64,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\" type=\"audio/x-wav\" />\n",
              "                    Your browser does not support the audio element.\n",
              "                </audio>\n",
              "              "
            ]
          },
          "metadata": {}
        },
        {
          "name": "stdout",
          "output_type": "stream",
          "text": [
            "카페라테 몇잔:1\n"
          ]
        },
        {
          "output_type": "display_data",
          "data": {
            "text/plain": [
              "<IPython.lib.display.Audio object>"
            ],
            "text/html": [
              "\n",
              "                <audio  controls=\"controls\" autoplay=\"autoplay\">\n",
              "                    <source src=\"data:audio/x-wav;base64,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\" type=\"audio/x-wav\" />\n",
              "                    Your browser does not support the audio element.\n",
              "                </audio>\n",
              "              "
            ]
          },
          "metadata": {}
        },
        {
          "output_type": "stream",
          "name": "stdout",
          "text": [
            "카페모카 몇잔:1\n",
            "지불하실 총 금액은 13,500원 입니다.\n",
            "돈을 넣어 주세요.5000\n",
            "돈이 부족합니다. 8500원을 더 넣어주세요.\n"
          ]
        }
      ]
    },
    {
      "cell_type": "code",
      "source": [
        "import time\n",
        "for i in range(1, 11):\n",
        "    time.sleep(1) # 1초 기다리기\n",
        "    print(i)\n"
      ],
      "metadata": {
        "colab": {
          "base_uri": "https://localhost:8080/"
        },
        "id": "13BRWs8IIxYO",
        "outputId": "98124e20-8257-4272-a90d-7725e0912a8c"
      },
      "execution_count": 90,
      "outputs": [
        {
          "output_type": "stream",
          "name": "stdout",
          "text": [
            "1\n",
            "2\n",
            "3\n",
            "4\n",
            "5\n",
            "6\n",
            "7\n",
            "8\n",
            "9\n",
            "10\n"
          ]
        }
      ]
    },
    {
      "cell_type": "markdown",
      "source": [
        "## [추가] windows에서 pywin32"
      ],
      "metadata": {
        "id": "ylb3tD9XIPWe"
      }
    },
    {
      "cell_type": "code",
      "source": [],
      "metadata": {
        "id": "U9GarBh_Ej8D"
      },
      "execution_count": 85,
      "outputs": []
    }
  ]
}