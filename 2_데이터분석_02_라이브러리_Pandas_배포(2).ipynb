{
  "cells": [
    {
      "cell_type": "markdown",
      "metadata": {
        "id": "view-in-github",
        "colab_type": "text"
      },
      "source": [
        "<a href=\"https://colab.research.google.com/github/kangeunkyeong/dataAnalysis/blob/main/2_%EB%8D%B0%EC%9D%B4%ED%84%B0%EB%B6%84%EC%84%9D_02_%EB%9D%BC%EC%9D%B4%EB%B8%8C%EB%9F%AC%EB%A6%AC_Pandas_%EB%B0%B0%ED%8F%AC(2).ipynb\" target=\"_parent\"><img src=\"https://colab.research.google.com/assets/colab-badge.svg\" alt=\"Open In Colab\"/></a>"
      ]
    },
    {
      "cell_type": "markdown",
      "id": "6c983c03",
      "metadata": {
        "id": "6c983c03"
      },
      "source": [
        "# Pandas\n",
        "교재: 데이터 과학을 위한 파이썬 머신러닝(Chapter4)"
      ]
    },
    {
      "cell_type": "markdown",
      "id": "9476178e",
      "metadata": {
        "id": "9476178e"
      },
      "source": [
        "- <a href=\"#04.1판다스란\">04.1 판다스란</a>\n",
        "- <a href=\"#04.2데이터추출\">04.2 데이터 추출</a>\n",
        "- <a href=\"#04.3그룹별집계\">04.3 그룹별 집계</a>\n",
        "- <a href=\"#04.4병합과연결\">04.4 병합과 연결</a>"
      ]
    },
    {
      "cell_type": "markdown",
      "id": "330e9146",
      "metadata": {
        "id": "330e9146"
      },
      "source": [
        "---------------"
      ]
    },
    {
      "cell_type": "markdown",
      "id": "07cd7ca1",
      "metadata": {
        "id": "07cd7ca1"
      },
      "source": [
        "### 라이브러리 설치"
      ]
    },
    {
      "cell_type": "code",
      "execution_count": null,
      "id": "10194609",
      "metadata": {
        "id": "10194609",
        "outputId": "573ea1b8-484b-4850-8027-af1dae2f2632"
      },
      "outputs": [
        {
          "name": "stderr",
          "output_type": "stream",
          "text": [
            "WARNING: Package(s) not found: pandas\n"
          ]
        }
      ],
      "source": [
        "!pip show pandas"
      ]
    },
    {
      "cell_type": "code",
      "execution_count": null,
      "id": "13fe60b5",
      "metadata": {
        "scrolled": true,
        "id": "13fe60b5",
        "outputId": "52e301ff-cfdd-4cba-816e-fa47166a954c"
      },
      "outputs": [
        {
          "name": "stdout",
          "output_type": "stream",
          "text": [
            "Collecting pandas\n",
            "  Downloading pandas-2.2.2-cp312-cp312-win_amd64.whl.metadata (19 kB)\n",
            "Collecting numpy>=1.26.0 (from pandas)\n",
            "  Downloading numpy-1.26.4-cp312-cp312-win_amd64.whl.metadata (61 kB)\n",
            "     ---------------------------------------- 0.0/61.0 kB ? eta -:--:--\n",
            "     ---------------------------------------- 0.0/61.0 kB ? eta -:--:--\n",
            "     ------------------------- ------------ 41.0/61.0 kB 653.6 kB/s eta 0:00:01\n",
            "     -------------------------------------- 61.0/61.0 kB 806.3 kB/s eta 0:00:00\n",
            "Requirement already satisfied: python-dateutil>=2.8.2 in c:\\python\\python312\\lib\\site-packages (from pandas) (2.9.0.post0)\n",
            "Collecting pytz>=2020.1 (from pandas)\n",
            "  Downloading pytz-2024.1-py2.py3-none-any.whl.metadata (22 kB)\n",
            "Collecting tzdata>=2022.7 (from pandas)\n",
            "  Downloading tzdata-2024.1-py2.py3-none-any.whl.metadata (1.4 kB)\n",
            "Requirement already satisfied: six>=1.5 in c:\\python\\python312\\lib\\site-packages (from python-dateutil>=2.8.2->pandas) (1.16.0)\n",
            "Downloading pandas-2.2.2-cp312-cp312-win_amd64.whl (11.5 MB)\n",
            "   ---------------------------------------- 0.0/11.5 MB ? eta -:--:--\n",
            "   ---- ----------------------------------- 1.2/11.5 MB 25.3 MB/s eta 0:00:01\n",
            "   ----------- ---------------------------- 3.3/11.5 MB 34.9 MB/s eta 0:00:01\n",
            "   --------------------- ------------------ 6.3/11.5 MB 44.4 MB/s eta 0:00:01\n",
            "   ------------------------------ --------- 8.9/11.5 MB 47.2 MB/s eta 0:00:01\n",
            "   ---------------------------------------  11.5/11.5 MB 54.4 MB/s eta 0:00:01\n",
            "   ---------------------------------------  11.5/11.5 MB 54.4 MB/s eta 0:00:01\n",
            "   ---------------------------------------- 11.5/11.5 MB 38.5 MB/s eta 0:00:00\n",
            "Downloading numpy-1.26.4-cp312-cp312-win_amd64.whl (15.5 MB)\n",
            "   ---------------------------------------- 0.0/15.5 MB ? eta -:--:--\n",
            "   -------- ------------------------------- 3.3/15.5 MB 70.4 MB/s eta 0:00:01\n",
            "   --------------- ------------------------ 5.9/15.5 MB 62.6 MB/s eta 0:00:01\n",
            "   ---------------------- ----------------- 8.7/15.5 MB 61.7 MB/s eta 0:00:01\n",
            "   ----------------------------- ---------- 11.4/15.5 MB 59.5 MB/s eta 0:00:01\n",
            "   ------------------------------------ --- 14.1/15.5 MB 59.5 MB/s eta 0:00:01\n",
            "   ---------------------------------------  15.5/15.5 MB 65.6 MB/s eta 0:00:01\n",
            "   ---------------------------------------  15.5/15.5 MB 65.6 MB/s eta 0:00:01\n",
            "   ---------------------------------------  15.5/15.5 MB 65.6 MB/s eta 0:00:01\n",
            "   ---------------------------------------  15.5/15.5 MB 65.6 MB/s eta 0:00:01\n",
            "   ---------------------------------------  15.5/15.5 MB 65.6 MB/s eta 0:00:01\n",
            "   ---------------------------------------- 15.5/15.5 MB 25.2 MB/s eta 0:00:00\n",
            "Downloading pytz-2024.1-py2.py3-none-any.whl (505 kB)\n",
            "   ---------------------------------------- 0.0/505.5 kB ? eta -:--:--\n",
            "   --------------------------------------- 505.5/505.5 kB 16.0 MB/s eta 0:00:00\n",
            "Downloading tzdata-2024.1-py2.py3-none-any.whl (345 kB)\n",
            "   ---------------------------------------- 0.0/345.4 kB ? eta -:--:--\n",
            "   --------------------------------------- 345.4/345.4 kB 10.8 MB/s eta 0:00:00\n",
            "Installing collected packages: pytz, tzdata, numpy, pandas\n",
            "Successfully installed numpy-1.26.4 pandas-2.2.2 pytz-2024.1 tzdata-2024.1\n"
          ]
        }
      ],
      "source": [
        "!pip install pandas"
      ]
    },
    {
      "cell_type": "code",
      "execution_count": null,
      "id": "77e1bc24",
      "metadata": {
        "id": "77e1bc24"
      },
      "outputs": [],
      "source": []
    },
    {
      "cell_type": "markdown",
      "id": "455016db",
      "metadata": {
        "id": "455016db"
      },
      "source": [
        "------------------------------"
      ]
    },
    {
      "cell_type": "markdown",
      "id": "dd312d9d",
      "metadata": {
        "id": "dd312d9d"
      },
      "source": [
        "## <a name=\"04.1판다스란\">04.1 판다스란</a>"
      ]
    },
    {
      "cell_type": "markdown",
      "id": "eba0ff10",
      "metadata": {
        "id": "eba0ff10"
      },
      "source": [
        "### 1. 판다스의 개념\n",
        "- https://pandas.pydata.org/\n",
        "- 파이썬의 데이터 분석 라이브러리\n",
        "- 데이터 테이블(data table)을 다루는 도구\n",
        "- 넘파이를 사용, 판다스는 넘파이를 효율적으로 사용하기 위해 인덱싱, 연산, 전처리 등 다양한 함수 제공\n",
        "- **데이터프레임(DataFrame)** : 데이터 테이블 전체 객체\n",
        "- **시리즈(Series)** : 각 열 데이터를 다루는 객체\n",
        "- 10 minutes to pandas : https://pandas.pydata.org/docs/user_guide/10min.html"
      ]
    },
    {
      "cell_type": "markdown",
      "id": "c8a48e86",
      "metadata": {
        "id": "c8a48e86"
      },
      "source": [
        "### 2. 시리즈 객체\n",
        "- 피쳐 벡터(feature vector)와 같은 개념\n",
        "- 데이터프레임(DataFrame) 안에 포함된 열(colume)들을 지칭할 수 있음\n",
        "- list, dict, ndarray 등 다양한 데이터 타입이 시리즈 객체 형태로 변환되기도 함"
      ]
    },
    {
      "cell_type": "markdown",
      "id": "fb78336b",
      "metadata": {
        "id": "fb78336b"
      },
      "source": [
        "### [예제] Series 객체"
      ]
    },
    {
      "cell_type": "code",
      "execution_count": null,
      "id": "c9db6096",
      "metadata": {
        "id": "c9db6096"
      },
      "outputs": [],
      "source": [
        "# from pandas import Series\n",
        "\n",
        "import pandas as pd"
      ]
    },
    {
      "cell_type": "markdown",
      "id": "ed88770b",
      "metadata": {
        "id": "ed88770b"
      },
      "source": [
        "### Series 객체 생성\n",
        "- 판다스의 모든 객체는 인덱스 값을 기준으로 생성"
      ]
    },
    {
      "cell_type": "markdown",
      "id": "ccb11c10",
      "metadata": {
        "id": "ccb11c10"
      },
      "source": []
    },
    {
      "cell_type": "code",
      "execution_count": null,
      "id": "f13952a6",
      "metadata": {
        "id": "f13952a6",
        "outputId": "28bcce35-e126-4b61-cdce-39a4789982d5"
      },
      "outputs": [
        {
          "name": "stdout",
          "output_type": "stream",
          "text": [
            "Index(['a', 'b', 'c', 'd', 'e'], dtype='object')\n"
          ]
        },
        {
          "data": {
            "text/plain": [
              "a    1\n",
              "b    2\n",
              "c    3\n",
              "d    4\n",
              "e    5\n",
              "dtype: int64"
            ]
          },
          "execution_count": 14,
          "metadata": {},
          "output_type": "execute_result"
        }
      ],
      "source": [
        "# 딕셔너리는 키를 인덱스로 사용한다.\n",
        "\n",
        "dict_data = {\"a\":1, \"b\":2, \"c\":3, \"d\":4, \"e\":5}\n",
        "# data = pd.Series(dict_data, index=dict_data.keys)        ##인덱스는 특별하게 지정해줘야 할 필요가 있음, 키값을 뽑아서\n",
        "data = pd.Series(dict_data)\n",
        "data = pd.Series(dict_data)\n",
        "print(data.index)\n",
        "data"
      ]
    },
    {
      "cell_type": "code",
      "execution_count": null,
      "id": "1b99e493",
      "metadata": {
        "scrolled": true,
        "id": "1b99e493",
        "outputId": "1cdf1a9a-3a96-4749-e17a-4fda69761199"
      },
      "outputs": [
        {
          "data": {
            "text/plain": [
              "국어     5\n",
              "영어    10\n",
              "수학    15\n",
              "과학    20\n",
              "dtype: int64"
            ]
          },
          "execution_count": 20,
          "metadata": {},
          "output_type": "execute_result"
        }
      ],
      "source": [
        "# 시리즈 객체간 연산이 가능하다\n",
        "data1 = pd.Series({\"국어\":100, \"영어\":90, \"수학\":80, \"과학\":100})\n",
        "data2 = pd.Series({\"국어\":95, \"영어\":80, \"수학\":65, \"과학\":80})\n",
        "data1-data2"
      ]
    },
    {
      "cell_type": "code",
      "execution_count": null,
      "id": "c7abb51c",
      "metadata": {
        "id": "c7abb51c"
      },
      "outputs": [],
      "source": [
        "# 데이터 추가/삭제가 가능하다\n",
        "\n",
        "data1['체육'] = 100  #데이터 추가\n",
        "del data1['영어']         #데이터삭제\n",
        "data1"
      ]
    },
    {
      "cell_type": "markdown",
      "id": "18c3d526",
      "metadata": {
        "id": "18c3d526"
      },
      "source": [
        "- date range 옵션보기\n",
        "(링크 추가 하기 )\n"
      ]
    },
    {
      "cell_type": "code",
      "execution_count": null,
      "id": "b7add489",
      "metadata": {
        "id": "b7add489",
        "outputId": "1019b841-0b34-418f-c328-9f71e3177739"
      },
      "outputs": [
        {
          "ename": "AttributeError",
          "evalue": "module 'pandas' has no attribute 'data_range'",
          "output_type": "error",
          "traceback": [
            "\u001b[1;31m---------------------------------------------------------------------------\u001b[0m",
            "\u001b[1;31mAttributeError\u001b[0m                            Traceback (most recent call last)",
            "Cell \u001b[1;32mIn[21], line 3\u001b[0m\n\u001b[0;32m      1\u001b[0m \u001b[38;5;28;01mimport\u001b[39;00m \u001b[38;5;21;01mpandas\u001b[39;00m \u001b[38;5;28;01mas\u001b[39;00m \u001b[38;5;21;01mpd\u001b[39;00m\n\u001b[1;32m----> 3\u001b[0m dates \u001b[38;5;241m=\u001b[39m \u001b[43mpd\u001b[49m\u001b[38;5;241;43m.\u001b[39;49m\u001b[43mdata_range\u001b[49m(\u001b[38;5;124m\"\u001b[39m\u001b[38;5;124m20240101\u001b[39m\u001b[38;5;124m\"\u001b[39m, periods\u001b[38;5;241m=\u001b[39m\u001b[38;5;241m6\u001b[39m)\n\u001b[0;32m      4\u001b[0m \u001b[38;5;28mtype\u001b[39m(datas)\n\u001b[0;32m      5\u001b[0m dates\n",
            "\u001b[1;31mAttributeError\u001b[0m: module 'pandas' has no attribute 'data_range'"
          ]
        }
      ],
      "source": [
        "import pandas as pd\n",
        "\n",
        "dates = pd.data_range(\"20240101\", periods=6)\n",
        "type(datas)\n",
        "dates\n",
        "\n",
        "\n",
        "dates = pd.data_range(\"20240101\", periods=6, freq='MS')\n",
        "dates = pd.data_range(\"20240101\", periods=6, freq='MS')\n",
        "dates"
      ]
    },
    {
      "cell_type": "markdown",
      "id": "756a0523",
      "metadata": {
        "id": "756a0523"
      },
      "source": [
        "- period_range\n",
        "-"
      ]
    },
    {
      "cell_type": "code",
      "execution_count": null,
      "id": "6c4c1de8",
      "metadata": {
        "id": "6c4c1de8",
        "outputId": "a3c42fb2-a710-4a59-8e9a-438b893ffeee"
      },
      "outputs": [
        {
          "ename": "NameError",
          "evalue": "name 'period_range' is not defined",
          "output_type": "error",
          "traceback": [
            "\u001b[1;31m---------------------------------------------------------------------------\u001b[0m",
            "\u001b[1;31mNameError\u001b[0m                                 Traceback (most recent call last)",
            "Cell \u001b[1;32mIn[22], line 1\u001b[0m\n\u001b[1;32m----> 1\u001b[0m dates \u001b[38;5;241m=\u001b[39m \u001b[43mperiod_range\u001b[49m(start\u001b[38;5;241m=\u001b[39m\u001b[38;5;124m'\u001b[39m\u001b[38;5;124m2024\u001b[39m\u001b[38;5;124m'\u001b[39m, end\u001b[38;5;241m=\u001b[39m\u001b[38;5;124m'\u001b[39m\u001b[38;5;124m2024\u001b[39m\u001b[38;5;124m'\u001b[39m, freq\u001b[38;5;241m=\u001b[39m\u001b[38;5;124m'\u001b[39m\u001b[38;5;124mY\u001b[39m\u001b[38;5;124m'\u001b[39m)\n\u001b[0;32m      2\u001b[0m \u001b[38;5;66;03m# dates = period_range(start='2024', end='2024', freq='M')\u001b[39;00m\n\u001b[0;32m      3\u001b[0m dates \n",
            "\u001b[1;31mNameError\u001b[0m: name 'period_range' is not defined"
          ]
        }
      ],
      "source": [
        "dates = period_range(start='2024', end='2024', freq='Y')\n",
        "# dates = period_range(start='2024', end='2024', freq='M')\n",
        "dates"
      ]
    },
    {
      "cell_type": "markdown",
      "id": "53efb3ba",
      "metadata": {
        "id": "53efb3ba"
      },
      "source": [
        "------------------"
      ]
    },
    {
      "cell_type": "markdown",
      "id": "9969a1c0",
      "metadata": {
        "id": "9969a1c0"
      },
      "source": [
        "### 3. 데이터프레임 객체\n",
        "- 데이터 테이블 전체를 지칭하는 객체\n",
        "- 넘파이 배열의 특성을 그대로 가짐\n",
        "- 인덱싱 : 열과 행 각각 사용하여 하나의 데이터에 접근"
      ]
    },
    {
      "cell_type": "markdown",
      "id": "13e63980",
      "metadata": {
        "id": "13e63980"
      },
      "source": [
        "### [예제] Pandas로 다양한 파일 읽어오기"
      ]
    },
    {
      "cell_type": "markdown",
      "id": "434b662f",
      "metadata": {
        "id": "434b662f"
      },
      "source": [
        "#### 1.txt 데이터 Pandas DataFrame으로 나타내기"
      ]
    },
    {
      "cell_type": "code",
      "execution_count": null,
      "id": "46c555bd",
      "metadata": {
        "colab": {
          "base_uri": "https://localhost:8080/",
          "height": 175
        },
        "id": "46c555bd",
        "outputId": "a00ac4a9-d72a-41bc-a0b3-2d8ca971813c"
      },
      "outputs": [
        {
          "data": {
            "text/html": [
              "<div>\n",
              "<style scoped>\n",
              "    .dataframe tbody tr th:only-of-type {\n",
              "        vertical-align: middle;\n",
              "    }\n",
              "\n",
              "    .dataframe tbody tr th {\n",
              "        vertical-align: top;\n",
              "    }\n",
              "\n",
              "    .dataframe thead th {\n",
              "        text-align: right;\n",
              "    }\n",
              "</style>\n",
              "<table border=\"1\" class=\"dataframe\">\n",
              "  <thead>\n",
              "    <tr style=\"text-align: right;\">\n",
              "      <th></th>\n",
              "      <th>제목</th>\n",
              "      <th>영어제목</th>\n",
              "      <th>저자</th>\n",
              "      <th>언어</th>\n",
              "      <th>출판년도</th>\n",
              "    </tr>\n",
              "  </thead>\n",
              "  <tbody>\n",
              "    <tr>\n",
              "      <th>0</th>\n",
              "      <td>두 도시 이야기</td>\n",
              "      <td>A Tale of Two Cities</td>\n",
              "      <td>찰스 디킨스</td>\n",
              "      <td>영어</td>\n",
              "      <td>1859</td>\n",
              "    </tr>\n",
              "    <tr>\n",
              "      <th>1</th>\n",
              "      <td>어린 왕자</td>\n",
              "      <td>Le Petit Prince</td>\n",
              "      <td>앙투안 드 생텍쥐페리</td>\n",
              "      <td>프랑스어</td>\n",
              "      <td>1943</td>\n",
              "    </tr>\n",
              "    <tr>\n",
              "      <th>2</th>\n",
              "      <td>반지의 제왕</td>\n",
              "      <td>The Lord of the Rings</td>\n",
              "      <td>J. R. R. 톨킨</td>\n",
              "      <td>영어</td>\n",
              "      <td>1954 ~ 1955</td>\n",
              "    </tr>\n",
              "    <tr>\n",
              "      <th>3</th>\n",
              "      <td>그리고 아무도 없었다</td>\n",
              "      <td>And Then There Were None</td>\n",
              "      <td>애거사 크리스티</td>\n",
              "      <td>영어</td>\n",
              "      <td>1939</td>\n",
              "    </tr>\n",
              "    <tr>\n",
              "      <th>4</th>\n",
              "      <td>호빗</td>\n",
              "      <td>The Hobbit</td>\n",
              "      <td>J. R. R. 톨킨</td>\n",
              "      <td>영어</td>\n",
              "      <td>1937</td>\n",
              "    </tr>\n",
              "  </tbody>\n",
              "</table>\n",
              "</div>"
            ],
            "text/plain": [
              "            제목                      영어제목            저자    언어         출판년도\n",
              "0     두 도시 이야기      A Tale of Two Cities        찰스 디킨스    영어         1859\n",
              "1        어린 왕자           Le Petit Prince   앙투안 드 생텍쥐페리  프랑스어         1943\n",
              "2       반지의 제왕     The Lord of the Rings   J. R. R. 톨킨    영어  1954 ~ 1955\n",
              "3  그리고 아무도 없었다  And Then There Were None      애거사 크리스티    영어         1939\n",
              "4           호빗                The Hobbit   J. R. R. 톨킨    영어         1937"
            ]
          },
          "execution_count": 7,
          "metadata": {},
          "output_type": "execute_result"
        }
      ],
      "source": [
        "import pandas as pd\n",
        "\n",
        "DIR = './data/데이터분석_data'\n",
        "file name = './data/데이터분석_data/book.txt' ## 파일네임으로 쓸 수도 있음\n",
        "df = pd.read_table(f'{DIR}book.txt',\n",
        "                   sep=',',\n",
        "                   names=['제목', '영어제목', '저자', '언어', '출판년도'])\n",
        "df ## print함수를 쓰지 않고 변수 그대로 써야 데이터를 제대로 볼 수 있음"
      ]
    },
    {
      "cell_type": "markdown",
      "id": "c96e8007",
      "metadata": {
        "id": "c96e8007"
      },
      "source": [
        "#### 2.csv 데이터 Pandas DataFrame으로 나타내기"
      ]
    },
    {
      "cell_type": "code",
      "execution_count": null,
      "id": "767c72d3",
      "metadata": {
        "id": "767c72d3",
        "outputId": "a9f42c19-3aae-4d6b-ae50-73546e03a063"
      },
      "outputs": [
        {
          "data": {
            "text/html": [
              "<div>\n",
              "<style scoped>\n",
              "    .dataframe tbody tr th:only-of-type {\n",
              "        vertical-align: middle;\n",
              "    }\n",
              "\n",
              "    .dataframe tbody tr th {\n",
              "        vertical-align: top;\n",
              "    }\n",
              "\n",
              "    .dataframe thead th {\n",
              "        text-align: right;\n",
              "    }\n",
              "</style>\n",
              "<table border=\"1\" class=\"dataframe\">\n",
              "  <thead>\n",
              "    <tr style=\"text-align: right;\">\n",
              "      <th></th>\n",
              "      <th>행정구역별</th>\n",
              "      <th>2020</th>\n",
              "      <th>2021</th>\n",
              "      <th>2022</th>\n",
              "    </tr>\n",
              "  </thead>\n",
              "  <tbody>\n",
              "    <tr>\n",
              "      <th>0</th>\n",
              "      <td>전국</td>\n",
              "      <td>516.2</td>\n",
              "      <td>515.2</td>\n",
              "      <td>514.6</td>\n",
              "    </tr>\n",
              "    <tr>\n",
              "      <th>1</th>\n",
              "      <td>서울특별시</td>\n",
              "      <td>15839.0</td>\n",
              "      <td>15650.1</td>\n",
              "      <td>15560.7</td>\n",
              "    </tr>\n",
              "    <tr>\n",
              "      <th>2</th>\n",
              "      <td>부산광역시</td>\n",
              "      <td>4348.9</td>\n",
              "      <td>4316.4</td>\n",
              "      <td>4272.8</td>\n",
              "    </tr>\n",
              "    <tr>\n",
              "      <th>3</th>\n",
              "      <td>대구광역시</td>\n",
              "      <td>2728.6</td>\n",
              "      <td>2702.2</td>\n",
              "      <td>2673.7</td>\n",
              "    </tr>\n",
              "    <tr>\n",
              "      <th>4</th>\n",
              "      <td>인천광역시</td>\n",
              "      <td>2765.1</td>\n",
              "      <td>2772.8</td>\n",
              "      <td>2801.3</td>\n",
              "    </tr>\n",
              "    <tr>\n",
              "      <th>5</th>\n",
              "      <td>광주광역시</td>\n",
              "      <td>2948.5</td>\n",
              "      <td>2944.0</td>\n",
              "      <td>2931.9</td>\n",
              "    </tr>\n",
              "    <tr>\n",
              "      <th>6</th>\n",
              "      <td>대전광역시</td>\n",
              "      <td>2758.1</td>\n",
              "      <td>2742.8</td>\n",
              "      <td>2730.7</td>\n",
              "    </tr>\n",
              "    <tr>\n",
              "      <th>7</th>\n",
              "      <td>울산광역시</td>\n",
              "      <td>1069.0</td>\n",
              "      <td>1055.0</td>\n",
              "      <td>1044.9</td>\n",
              "    </tr>\n",
              "    <tr>\n",
              "      <th>8</th>\n",
              "      <td>세종특별자치시</td>\n",
              "      <td>761.3</td>\n",
              "      <td>787.7</td>\n",
              "      <td>822.9</td>\n",
              "    </tr>\n",
              "    <tr>\n",
              "      <th>9</th>\n",
              "      <td>경기도</td>\n",
              "      <td>1325.3</td>\n",
              "      <td>1338.9</td>\n",
              "      <td>1344.9</td>\n",
              "    </tr>\n",
              "    <tr>\n",
              "      <th>10</th>\n",
              "      <td>강원도</td>\n",
              "      <td>90.4</td>\n",
              "      <td>90.4</td>\n",
              "      <td>90.8</td>\n",
              "    </tr>\n",
              "    <tr>\n",
              "      <th>11</th>\n",
              "      <td>충청북도</td>\n",
              "      <td>220.3</td>\n",
              "      <td>219.4</td>\n",
              "      <td>219.4</td>\n",
              "    </tr>\n",
              "    <tr>\n",
              "      <th>12</th>\n",
              "      <td>충청남도</td>\n",
              "      <td>264.0</td>\n",
              "      <td>263.8</td>\n",
              "      <td>265.9</td>\n",
              "    </tr>\n",
              "    <tr>\n",
              "      <th>13</th>\n",
              "      <td>전라북도</td>\n",
              "      <td>223.4</td>\n",
              "      <td>221.4</td>\n",
              "      <td>219.8</td>\n",
              "    </tr>\n",
              "    <tr>\n",
              "      <th>14</th>\n",
              "      <td>전라남도</td>\n",
              "      <td>144.9</td>\n",
              "      <td>143.9</td>\n",
              "      <td>143.3</td>\n",
              "    </tr>\n",
              "    <tr>\n",
              "      <th>15</th>\n",
              "      <td>경상북도</td>\n",
              "      <td>138.9</td>\n",
              "      <td>138.4</td>\n",
              "      <td>137.7</td>\n",
              "    </tr>\n",
              "    <tr>\n",
              "      <th>16</th>\n",
              "      <td>경상남도</td>\n",
              "      <td>316.2</td>\n",
              "      <td>313.6</td>\n",
              "      <td>311.2</td>\n",
              "    </tr>\n",
              "    <tr>\n",
              "      <th>17</th>\n",
              "      <td>제주특별자치도</td>\n",
              "      <td>362.6</td>\n",
              "      <td>363.8</td>\n",
              "      <td>365.6</td>\n",
              "    </tr>\n",
              "  </tbody>\n",
              "</table>\n",
              "</div>"
            ],
            "text/plain": [
              "      행정구역별     2020     2021     2022\n",
              "0        전국    516.2    515.2    514.6\n",
              "1     서울특별시  15839.0  15650.1  15560.7\n",
              "2     부산광역시   4348.9   4316.4   4272.8\n",
              "3     대구광역시   2728.6   2702.2   2673.7\n",
              "4     인천광역시   2765.1   2772.8   2801.3\n",
              "5     광주광역시   2948.5   2944.0   2931.9\n",
              "6     대전광역시   2758.1   2742.8   2730.7\n",
              "7     울산광역시   1069.0   1055.0   1044.9\n",
              "8   세종특별자치시    761.3    787.7    822.9\n",
              "9       경기도   1325.3   1338.9   1344.9\n",
              "10      강원도     90.4     90.4     90.8\n",
              "11     충청북도    220.3    219.4    219.4\n",
              "12     충청남도    264.0    263.8    265.9\n",
              "13     전라북도    223.4    221.4    219.8\n",
              "14     전라남도    144.9    143.9    143.3\n",
              "15     경상북도    138.9    138.4    137.7\n",
              "16     경상남도    316.2    313.6    311.2\n",
              "17  제주특별자치도    362.6    363.8    365.6"
            ]
          },
          "execution_count": 11,
          "metadata": {},
          "output_type": "execute_result"
        }
      ],
      "source": [
        "filename = './data/데이터분석_data/인구밀도.csv'\n",
        "df = pd.read_csv(filename, encoding='cp949')    ## 기본이 cp949로 되어 있음, 오류가 나면 다른 걸로 교체\n",
        "df"
      ]
    },
    {
      "cell_type": "code",
      "source": [
        "### [실습문제] 통계청 인구정보 가져오기\n",
        "\n",
        "import pandas as pd\n",
        "\n",
        "df = pd.read_csv('인구밀도_인구주택총조사기준__20240418110634.csv', encoding='utf-8')\n",
        "df['행정구역별'] #\n",
        "df.head\n",
        "df.tail\n",
        "df.iloc[2:5, :]  #iloc[행, 열] -> 인덱스로 접근\n",
        "df.loc[3, ['2021', '2022']]  # loc[행, 열] -> 이름으로 접근, 여러 개는 리스트로 담아서 접근\n",
        "df\n"
      ],
      "metadata": {
        "colab": {
          "base_uri": "https://localhost:8080/",
          "height": 280
        },
        "id": "RwwtwJTw_Jyy",
        "outputId": "dfff31bd-0cf6-4889-e243-a46bcfc96ba0"
      },
      "id": "RwwtwJTw_Jyy",
      "execution_count": 5,
      "outputs": [
        {
          "output_type": "error",
          "ename": "UnicodeDecodeError",
          "evalue": "'utf-8' codec can't decode byte 0xc7 in position 0: invalid continuation byte",
          "traceback": [
            "\u001b[0;31m---------------------------------------------------------------------------\u001b[0m",
            "\u001b[0;31mUnicodeDecodeError\u001b[0m                        Traceback (most recent call last)",
            "\u001b[0;32m<ipython-input-5-3653545aa763>\u001b[0m in \u001b[0;36m<cell line: 5>\u001b[0;34m()\u001b[0m\n\u001b[1;32m      3\u001b[0m \u001b[0;32mimport\u001b[0m \u001b[0mpandas\u001b[0m \u001b[0;32mas\u001b[0m \u001b[0mpd\u001b[0m\u001b[0;34m\u001b[0m\u001b[0;34m\u001b[0m\u001b[0m\n\u001b[1;32m      4\u001b[0m \u001b[0;34m\u001b[0m\u001b[0m\n\u001b[0;32m----> 5\u001b[0;31m \u001b[0mdf\u001b[0m \u001b[0;34m=\u001b[0m \u001b[0mpd\u001b[0m\u001b[0;34m.\u001b[0m\u001b[0mread_csv\u001b[0m\u001b[0;34m(\u001b[0m\u001b[0;34m'인구밀도_인구주택총조사기준__20240418110634.csv'\u001b[0m\u001b[0;34m,\u001b[0m \u001b[0mencoding\u001b[0m\u001b[0;34m=\u001b[0m\u001b[0;34m'utf-8'\u001b[0m\u001b[0;34m)\u001b[0m\u001b[0;34m\u001b[0m\u001b[0;34m\u001b[0m\u001b[0m\n\u001b[0m\u001b[1;32m      6\u001b[0m \u001b[0mdf\u001b[0m\u001b[0;34m[\u001b[0m\u001b[0;34m'행정구역별'\u001b[0m\u001b[0;34m]\u001b[0m \u001b[0;31m#\u001b[0m\u001b[0;34m\u001b[0m\u001b[0;34m\u001b[0m\u001b[0m\n\u001b[1;32m      7\u001b[0m \u001b[0mdf\u001b[0m\u001b[0;34m.\u001b[0m\u001b[0mhead\u001b[0m\u001b[0;34m\u001b[0m\u001b[0;34m\u001b[0m\u001b[0m\n",
            "\u001b[0;32m/usr/local/lib/python3.10/dist-packages/pandas/io/parsers/readers.py\u001b[0m in \u001b[0;36mread_csv\u001b[0;34m(filepath_or_buffer, sep, delimiter, header, names, index_col, usecols, dtype, engine, converters, true_values, false_values, skipinitialspace, skiprows, skipfooter, nrows, na_values, keep_default_na, na_filter, verbose, skip_blank_lines, parse_dates, infer_datetime_format, keep_date_col, date_parser, date_format, dayfirst, cache_dates, iterator, chunksize, compression, thousands, decimal, lineterminator, quotechar, quoting, doublequote, escapechar, comment, encoding, encoding_errors, dialect, on_bad_lines, delim_whitespace, low_memory, memory_map, float_precision, storage_options, dtype_backend)\u001b[0m\n\u001b[1;32m    910\u001b[0m     \u001b[0mkwds\u001b[0m\u001b[0;34m.\u001b[0m\u001b[0mupdate\u001b[0m\u001b[0;34m(\u001b[0m\u001b[0mkwds_defaults\u001b[0m\u001b[0;34m)\u001b[0m\u001b[0;34m\u001b[0m\u001b[0;34m\u001b[0m\u001b[0m\n\u001b[1;32m    911\u001b[0m \u001b[0;34m\u001b[0m\u001b[0m\n\u001b[0;32m--> 912\u001b[0;31m     \u001b[0;32mreturn\u001b[0m \u001b[0m_read\u001b[0m\u001b[0;34m(\u001b[0m\u001b[0mfilepath_or_buffer\u001b[0m\u001b[0;34m,\u001b[0m \u001b[0mkwds\u001b[0m\u001b[0;34m)\u001b[0m\u001b[0;34m\u001b[0m\u001b[0;34m\u001b[0m\u001b[0m\n\u001b[0m\u001b[1;32m    913\u001b[0m \u001b[0;34m\u001b[0m\u001b[0m\n\u001b[1;32m    914\u001b[0m \u001b[0;34m\u001b[0m\u001b[0m\n",
            "\u001b[0;32m/usr/local/lib/python3.10/dist-packages/pandas/io/parsers/readers.py\u001b[0m in \u001b[0;36m_read\u001b[0;34m(filepath_or_buffer, kwds)\u001b[0m\n\u001b[1;32m    575\u001b[0m \u001b[0;34m\u001b[0m\u001b[0m\n\u001b[1;32m    576\u001b[0m     \u001b[0;31m# Create the parser.\u001b[0m\u001b[0;34m\u001b[0m\u001b[0;34m\u001b[0m\u001b[0m\n\u001b[0;32m--> 577\u001b[0;31m     \u001b[0mparser\u001b[0m \u001b[0;34m=\u001b[0m \u001b[0mTextFileReader\u001b[0m\u001b[0;34m(\u001b[0m\u001b[0mfilepath_or_buffer\u001b[0m\u001b[0;34m,\u001b[0m \u001b[0;34m**\u001b[0m\u001b[0mkwds\u001b[0m\u001b[0;34m)\u001b[0m\u001b[0;34m\u001b[0m\u001b[0;34m\u001b[0m\u001b[0m\n\u001b[0m\u001b[1;32m    578\u001b[0m \u001b[0;34m\u001b[0m\u001b[0m\n\u001b[1;32m    579\u001b[0m     \u001b[0;32mif\u001b[0m \u001b[0mchunksize\u001b[0m \u001b[0;32mor\u001b[0m \u001b[0miterator\u001b[0m\u001b[0;34m:\u001b[0m\u001b[0;34m\u001b[0m\u001b[0;34m\u001b[0m\u001b[0m\n",
            "\u001b[0;32m/usr/local/lib/python3.10/dist-packages/pandas/io/parsers/readers.py\u001b[0m in \u001b[0;36m__init__\u001b[0;34m(self, f, engine, **kwds)\u001b[0m\n\u001b[1;32m   1405\u001b[0m \u001b[0;34m\u001b[0m\u001b[0m\n\u001b[1;32m   1406\u001b[0m         \u001b[0mself\u001b[0m\u001b[0;34m.\u001b[0m\u001b[0mhandles\u001b[0m\u001b[0;34m:\u001b[0m \u001b[0mIOHandles\u001b[0m \u001b[0;34m|\u001b[0m \u001b[0;32mNone\u001b[0m \u001b[0;34m=\u001b[0m \u001b[0;32mNone\u001b[0m\u001b[0;34m\u001b[0m\u001b[0;34m\u001b[0m\u001b[0m\n\u001b[0;32m-> 1407\u001b[0;31m         \u001b[0mself\u001b[0m\u001b[0;34m.\u001b[0m\u001b[0m_engine\u001b[0m \u001b[0;34m=\u001b[0m \u001b[0mself\u001b[0m\u001b[0;34m.\u001b[0m\u001b[0m_make_engine\u001b[0m\u001b[0;34m(\u001b[0m\u001b[0mf\u001b[0m\u001b[0;34m,\u001b[0m \u001b[0mself\u001b[0m\u001b[0;34m.\u001b[0m\u001b[0mengine\u001b[0m\u001b[0;34m)\u001b[0m\u001b[0;34m\u001b[0m\u001b[0;34m\u001b[0m\u001b[0m\n\u001b[0m\u001b[1;32m   1408\u001b[0m \u001b[0;34m\u001b[0m\u001b[0m\n\u001b[1;32m   1409\u001b[0m     \u001b[0;32mdef\u001b[0m \u001b[0mclose\u001b[0m\u001b[0;34m(\u001b[0m\u001b[0mself\u001b[0m\u001b[0;34m)\u001b[0m \u001b[0;34m->\u001b[0m \u001b[0;32mNone\u001b[0m\u001b[0;34m:\u001b[0m\u001b[0;34m\u001b[0m\u001b[0;34m\u001b[0m\u001b[0m\n",
            "\u001b[0;32m/usr/local/lib/python3.10/dist-packages/pandas/io/parsers/readers.py\u001b[0m in \u001b[0;36m_make_engine\u001b[0;34m(self, f, engine)\u001b[0m\n\u001b[1;32m   1677\u001b[0m \u001b[0;34m\u001b[0m\u001b[0m\n\u001b[1;32m   1678\u001b[0m         \u001b[0;32mtry\u001b[0m\u001b[0;34m:\u001b[0m\u001b[0;34m\u001b[0m\u001b[0;34m\u001b[0m\u001b[0m\n\u001b[0;32m-> 1679\u001b[0;31m             \u001b[0;32mreturn\u001b[0m \u001b[0mmapping\u001b[0m\u001b[0;34m[\u001b[0m\u001b[0mengine\u001b[0m\u001b[0;34m]\u001b[0m\u001b[0;34m(\u001b[0m\u001b[0mf\u001b[0m\u001b[0;34m,\u001b[0m \u001b[0;34m**\u001b[0m\u001b[0mself\u001b[0m\u001b[0;34m.\u001b[0m\u001b[0moptions\u001b[0m\u001b[0;34m)\u001b[0m\u001b[0;34m\u001b[0m\u001b[0;34m\u001b[0m\u001b[0m\n\u001b[0m\u001b[1;32m   1680\u001b[0m         \u001b[0;32mexcept\u001b[0m \u001b[0mException\u001b[0m\u001b[0;34m:\u001b[0m\u001b[0;34m\u001b[0m\u001b[0;34m\u001b[0m\u001b[0m\n\u001b[1;32m   1681\u001b[0m             \u001b[0;32mif\u001b[0m \u001b[0mself\u001b[0m\u001b[0;34m.\u001b[0m\u001b[0mhandles\u001b[0m \u001b[0;32mis\u001b[0m \u001b[0;32mnot\u001b[0m \u001b[0;32mNone\u001b[0m\u001b[0;34m:\u001b[0m\u001b[0;34m\u001b[0m\u001b[0;34m\u001b[0m\u001b[0m\n",
            "\u001b[0;32m/usr/local/lib/python3.10/dist-packages/pandas/io/parsers/c_parser_wrapper.py\u001b[0m in \u001b[0;36m__init__\u001b[0;34m(self, src, **kwds)\u001b[0m\n\u001b[1;32m     91\u001b[0m             \u001b[0;31m# Fail here loudly instead of in cython after reading\u001b[0m\u001b[0;34m\u001b[0m\u001b[0;34m\u001b[0m\u001b[0m\n\u001b[1;32m     92\u001b[0m             \u001b[0mimport_optional_dependency\u001b[0m\u001b[0;34m(\u001b[0m\u001b[0;34m\"pyarrow\"\u001b[0m\u001b[0;34m)\u001b[0m\u001b[0;34m\u001b[0m\u001b[0;34m\u001b[0m\u001b[0m\n\u001b[0;32m---> 93\u001b[0;31m         \u001b[0mself\u001b[0m\u001b[0;34m.\u001b[0m\u001b[0m_reader\u001b[0m \u001b[0;34m=\u001b[0m \u001b[0mparsers\u001b[0m\u001b[0;34m.\u001b[0m\u001b[0mTextReader\u001b[0m\u001b[0;34m(\u001b[0m\u001b[0msrc\u001b[0m\u001b[0;34m,\u001b[0m \u001b[0;34m**\u001b[0m\u001b[0mkwds\u001b[0m\u001b[0;34m)\u001b[0m\u001b[0;34m\u001b[0m\u001b[0;34m\u001b[0m\u001b[0m\n\u001b[0m\u001b[1;32m     94\u001b[0m \u001b[0;34m\u001b[0m\u001b[0m\n\u001b[1;32m     95\u001b[0m         \u001b[0mself\u001b[0m\u001b[0;34m.\u001b[0m\u001b[0munnamed_cols\u001b[0m \u001b[0;34m=\u001b[0m \u001b[0mself\u001b[0m\u001b[0;34m.\u001b[0m\u001b[0m_reader\u001b[0m\u001b[0;34m.\u001b[0m\u001b[0munnamed_cols\u001b[0m\u001b[0;34m\u001b[0m\u001b[0;34m\u001b[0m\u001b[0m\n",
            "\u001b[0;32m/usr/local/lib/python3.10/dist-packages/pandas/_libs/parsers.pyx\u001b[0m in \u001b[0;36mpandas._libs.parsers.TextReader.__cinit__\u001b[0;34m()\u001b[0m\n",
            "\u001b[0;32m/usr/local/lib/python3.10/dist-packages/pandas/_libs/parsers.pyx\u001b[0m in \u001b[0;36mpandas._libs.parsers.TextReader._get_header\u001b[0;34m()\u001b[0m\n",
            "\u001b[0;31mUnicodeDecodeError\u001b[0m: 'utf-8' codec can't decode byte 0xc7 in position 0: invalid continuation byte"
          ]
        }
      ]
    },
    {
      "cell_type": "markdown",
      "id": "t0wTzAduO6hk",
      "metadata": {
        "id": "t0wTzAduO6hk"
      },
      "source": [
        "#### 3.Excel 시트 Pandas DataFrame으로 나타내기"
      ]
    },
    {
      "cell_type": "code",
      "execution_count": null,
      "id": "a3c7dcb7",
      "metadata": {
        "id": "a3c7dcb7",
        "outputId": "cc12fba4-968a-4d43-8485-f96655c83cca"
      },
      "outputs": [
        {
          "name": "stdout",
          "output_type": "stream",
          "text": [
            "Collecting openpyxl\n",
            "  Downloading openpyxl-3.1.2-py2.py3-none-any.whl.metadata (2.5 kB)\n",
            "Collecting et-xmlfile (from openpyxl)\n",
            "  Downloading et_xmlfile-1.1.0-py3-none-any.whl.metadata (1.8 kB)\n",
            "Downloading openpyxl-3.1.2-py2.py3-none-any.whl (249 kB)\n",
            "   ---------------------------------------- 0.0/250.0 kB ? eta -:--:--\n",
            "   ---------------------------------------- 0.0/250.0 kB ? eta -:--:--\n",
            "   - -------------------------------------- 10.2/250.0 kB ? eta -:--:--\n",
            "   ------ -------------------------------- 41.0/250.0 kB 495.5 kB/s eta 0:00:01\n",
            "   ---------------------------------------- 250.0/250.0 kB 2.2 MB/s eta 0:00:00\n",
            "Downloading et_xmlfile-1.1.0-py3-none-any.whl (4.7 kB)\n",
            "Installing collected packages: et-xmlfile, openpyxl\n",
            "Successfully installed et-xmlfile-1.1.0 openpyxl-3.1.2\n"
          ]
        }
      ],
      "source": [
        "!pip install openpyxl"
      ]
    },
    {
      "cell_type": "markdown",
      "id": "nDna7CDnSoPY",
      "metadata": {
        "id": "nDna7CDnSoPY"
      },
      "source": [
        "##### 1.전체 시트(sheet) 가져오기"
      ]
    },
    {
      "cell_type": "code",
      "execution_count": null,
      "id": "6R4Agf3uO32N",
      "metadata": {
        "colab": {
          "base_uri": "https://localhost:8080/"
        },
        "id": "6R4Agf3uO32N",
        "outputId": "0b99c490-9092-48c7-dbfe-17a18dd1cbf6"
      },
      "outputs": [
        {
          "data": {
            "text/plain": [
              "{'인구밀도':       행정구역별     2020     2021     2022\n",
              " 0        전국    516.2    515.2    514.6\n",
              " 1     서울특별시  15839.0  15650.1  15560.7\n",
              " 2     부산광역시   4348.9   4316.4   4272.8\n",
              " 3     대구광역시   2728.6   2702.2   2673.7\n",
              " 4     인천광역시   2765.1   2772.8   2801.3\n",
              " 5     광주광역시   2948.5   2944.0   2931.9\n",
              " 6     대전광역시   2758.1   2742.8   2730.7\n",
              " 7     울산광역시   1069.0   1055.0   1044.9\n",
              " 8   세종특별자치시    761.3    787.7    822.9\n",
              " 9       경기도   1325.3   1338.9   1344.9\n",
              " 10      강원도     90.4     90.4     90.8\n",
              " 11     충청북도    220.3    219.4    219.4\n",
              " 12     충청남도    264.0    263.8    265.9\n",
              " 13     전라북도    223.4    221.4    219.8\n",
              " 14     전라남도    144.9    143.9    143.3\n",
              " 15     경상북도    138.9    138.4    137.7\n",
              " 16     경상남도    316.2    313.6    311.2\n",
              " 17  제주특별자치도    362.6    363.8    365.6,\n",
              " '인구밀도2':       행정구역별     2023     2024\n",
              " 0        전국    516.2    515.2\n",
              " 1     서울특별시  15839.0  15650.1\n",
              " 2     부산광역시   4348.9   4316.4\n",
              " 3     대구광역시   2728.6   2702.2\n",
              " 4     인천광역시   2765.1   2772.8\n",
              " 5     광주광역시   2948.5   2944.0\n",
              " 6     대전광역시   2758.1   2742.8\n",
              " 7     울산광역시   1069.0   1055.0\n",
              " 8   세종특별자치시    761.3    787.7\n",
              " 9       경기도   1325.3   1338.9\n",
              " 10      강원도     90.4     90.4\n",
              " 11     충청북도    220.3    219.4\n",
              " 12     충청남도    264.0    263.8\n",
              " 13     전라북도    223.4    221.4\n",
              " 14     전라남도    144.9    143.9\n",
              " 15     경상북도    138.9    138.4\n",
              " 16     경상남도    316.2    313.6\n",
              " 17  제주특별자치도    362.6    363.8}"
            ]
          },
          "execution_count": 17,
          "metadata": {},
          "output_type": "execute_result"
        }
      ],
      "source": [
        "import pandas as pd\n",
        "\n",
        "# 전체 시트 가져오기\n",
        "# 시트가 여러개 일 경우 딕셔너리 형태로 나타난다.\n",
        "filename = './data/데이터분석_data/인구밀도.xlsx.'\n",
        "df = pd.read_excel(filename)                   # 첫번째 시트\n",
        "df = pd.read_excel(filename, sheet_name=None)  # 전체 시트 -> 시트가 여러개 일 경우 딕셔너리 형태로 보여줌\n",
        "\n",
        "df"
      ]
    },
    {
      "cell_type": "markdown",
      "id": "foTGCoMTTSEx",
      "metadata": {
        "id": "foTGCoMTTSEx"
      },
      "source": [
        "##### 2.특정 시트(sheet) 가져오기"
      ]
    },
    {
      "cell_type": "code",
      "execution_count": null,
      "id": "a81OQvEeTSvp",
      "metadata": {
        "id": "a81OQvEeTSvp",
        "outputId": "fcf373e4-6892-4e8d-b59b-a5c1bd17ba95"
      },
      "outputs": [
        {
          "data": {
            "text/html": [
              "<div>\n",
              "<style scoped>\n",
              "    .dataframe tbody tr th:only-of-type {\n",
              "        vertical-align: middle;\n",
              "    }\n",
              "\n",
              "    .dataframe tbody tr th {\n",
              "        vertical-align: top;\n",
              "    }\n",
              "\n",
              "    .dataframe thead th {\n",
              "        text-align: right;\n",
              "    }\n",
              "</style>\n",
              "<table border=\"1\" class=\"dataframe\">\n",
              "  <thead>\n",
              "    <tr style=\"text-align: right;\">\n",
              "      <th></th>\n",
              "      <th>행정구역별</th>\n",
              "      <th>2023</th>\n",
              "      <th>2024</th>\n",
              "    </tr>\n",
              "  </thead>\n",
              "  <tbody>\n",
              "    <tr>\n",
              "      <th>0</th>\n",
              "      <td>전국</td>\n",
              "      <td>516.2</td>\n",
              "      <td>515.2</td>\n",
              "    </tr>\n",
              "    <tr>\n",
              "      <th>1</th>\n",
              "      <td>서울특별시</td>\n",
              "      <td>15839.0</td>\n",
              "      <td>15650.1</td>\n",
              "    </tr>\n",
              "    <tr>\n",
              "      <th>2</th>\n",
              "      <td>부산광역시</td>\n",
              "      <td>4348.9</td>\n",
              "      <td>4316.4</td>\n",
              "    </tr>\n",
              "    <tr>\n",
              "      <th>3</th>\n",
              "      <td>대구광역시</td>\n",
              "      <td>2728.6</td>\n",
              "      <td>2702.2</td>\n",
              "    </tr>\n",
              "    <tr>\n",
              "      <th>4</th>\n",
              "      <td>인천광역시</td>\n",
              "      <td>2765.1</td>\n",
              "      <td>2772.8</td>\n",
              "    </tr>\n",
              "    <tr>\n",
              "      <th>5</th>\n",
              "      <td>광주광역시</td>\n",
              "      <td>2948.5</td>\n",
              "      <td>2944.0</td>\n",
              "    </tr>\n",
              "    <tr>\n",
              "      <th>6</th>\n",
              "      <td>대전광역시</td>\n",
              "      <td>2758.1</td>\n",
              "      <td>2742.8</td>\n",
              "    </tr>\n",
              "    <tr>\n",
              "      <th>7</th>\n",
              "      <td>울산광역시</td>\n",
              "      <td>1069.0</td>\n",
              "      <td>1055.0</td>\n",
              "    </tr>\n",
              "    <tr>\n",
              "      <th>8</th>\n",
              "      <td>세종특별자치시</td>\n",
              "      <td>761.3</td>\n",
              "      <td>787.7</td>\n",
              "    </tr>\n",
              "    <tr>\n",
              "      <th>9</th>\n",
              "      <td>경기도</td>\n",
              "      <td>1325.3</td>\n",
              "      <td>1338.9</td>\n",
              "    </tr>\n",
              "    <tr>\n",
              "      <th>10</th>\n",
              "      <td>강원도</td>\n",
              "      <td>90.4</td>\n",
              "      <td>90.4</td>\n",
              "    </tr>\n",
              "    <tr>\n",
              "      <th>11</th>\n",
              "      <td>충청북도</td>\n",
              "      <td>220.3</td>\n",
              "      <td>219.4</td>\n",
              "    </tr>\n",
              "    <tr>\n",
              "      <th>12</th>\n",
              "      <td>충청남도</td>\n",
              "      <td>264.0</td>\n",
              "      <td>263.8</td>\n",
              "    </tr>\n",
              "    <tr>\n",
              "      <th>13</th>\n",
              "      <td>전라북도</td>\n",
              "      <td>223.4</td>\n",
              "      <td>221.4</td>\n",
              "    </tr>\n",
              "    <tr>\n",
              "      <th>14</th>\n",
              "      <td>전라남도</td>\n",
              "      <td>144.9</td>\n",
              "      <td>143.9</td>\n",
              "    </tr>\n",
              "    <tr>\n",
              "      <th>15</th>\n",
              "      <td>경상북도</td>\n",
              "      <td>138.9</td>\n",
              "      <td>138.4</td>\n",
              "    </tr>\n",
              "    <tr>\n",
              "      <th>16</th>\n",
              "      <td>경상남도</td>\n",
              "      <td>316.2</td>\n",
              "      <td>313.6</td>\n",
              "    </tr>\n",
              "    <tr>\n",
              "      <th>17</th>\n",
              "      <td>제주특별자치도</td>\n",
              "      <td>362.6</td>\n",
              "      <td>363.8</td>\n",
              "    </tr>\n",
              "  </tbody>\n",
              "</table>\n",
              "</div>"
            ],
            "text/plain": [
              "      행정구역별     2023     2024\n",
              "0        전국    516.2    515.2\n",
              "1     서울특별시  15839.0  15650.1\n",
              "2     부산광역시   4348.9   4316.4\n",
              "3     대구광역시   2728.6   2702.2\n",
              "4     인천광역시   2765.1   2772.8\n",
              "5     광주광역시   2948.5   2944.0\n",
              "6     대전광역시   2758.1   2742.8\n",
              "7     울산광역시   1069.0   1055.0\n",
              "8   세종특별자치시    761.3    787.7\n",
              "9       경기도   1325.3   1338.9\n",
              "10      강원도     90.4     90.4\n",
              "11     충청북도    220.3    219.4\n",
              "12     충청남도    264.0    263.8\n",
              "13     전라북도    223.4    221.4\n",
              "14     전라남도    144.9    143.9\n",
              "15     경상북도    138.9    138.4\n",
              "16     경상남도    316.2    313.6\n",
              "17  제주특별자치도    362.6    363.8"
            ]
          },
          "execution_count": 19,
          "metadata": {},
          "output_type": "execute_result"
        }
      ],
      "source": [
        "# 특정 시트 가져오기\n",
        "df = pd.read_excel(filename, sheet_name='인구밀도2')  # 특정 시트를 지정해서 시트 별로 불러올 수 있음\n",
        "df.head(-2) ## 레코드를 앞에서 부터 보는 것, 뒤에서 2개를 제외하고\n",
        "df.tail() ## 레코드를 끝에서 보는 것"
      ]
    },
    {
      "cell_type": "markdown",
      "id": "2LfA2DJXTTPW",
      "metadata": {
        "id": "2LfA2DJXTTPW"
      },
      "source": [
        "##### 3.여러 시트(sheet) 가져오기"
      ]
    },
    {
      "cell_type": "code",
      "execution_count": null,
      "id": "ulUDC-jtTThG",
      "metadata": {
        "id": "ulUDC-jtTThG",
        "outputId": "ed18423d-a635-4e2f-e832-f37687b06c7b"
      },
      "outputs": [
        {
          "data": {
            "text/plain": [
              "{'인구밀도2':       행정구역별     2023     2024\n",
              " 0        전국    516.2    515.2\n",
              " 1     서울특별시  15839.0  15650.1\n",
              " 2     부산광역시   4348.9   4316.4\n",
              " 3     대구광역시   2728.6   2702.2\n",
              " 4     인천광역시   2765.1   2772.8\n",
              " 5     광주광역시   2948.5   2944.0\n",
              " 6     대전광역시   2758.1   2742.8\n",
              " 7     울산광역시   1069.0   1055.0\n",
              " 8   세종특별자치시    761.3    787.7\n",
              " 9       경기도   1325.3   1338.9\n",
              " 10      강원도     90.4     90.4\n",
              " 11     충청북도    220.3    219.4\n",
              " 12     충청남도    264.0    263.8\n",
              " 13     전라북도    223.4    221.4\n",
              " 14     전라남도    144.9    143.9\n",
              " 15     경상북도    138.9    138.4\n",
              " 16     경상남도    316.2    313.6\n",
              " 17  제주특별자치도    362.6    363.8,\n",
              " '인구밀도':       행정구역별     2020     2021     2022\n",
              " 0        전국    516.2    515.2    514.6\n",
              " 1     서울특별시  15839.0  15650.1  15560.7\n",
              " 2     부산광역시   4348.9   4316.4   4272.8\n",
              " 3     대구광역시   2728.6   2702.2   2673.7\n",
              " 4     인천광역시   2765.1   2772.8   2801.3\n",
              " 5     광주광역시   2948.5   2944.0   2931.9\n",
              " 6     대전광역시   2758.1   2742.8   2730.7\n",
              " 7     울산광역시   1069.0   1055.0   1044.9\n",
              " 8   세종특별자치시    761.3    787.7    822.9\n",
              " 9       경기도   1325.3   1338.9   1344.9\n",
              " 10      강원도     90.4     90.4     90.8\n",
              " 11     충청북도    220.3    219.4    219.4\n",
              " 12     충청남도    264.0    263.8    265.9\n",
              " 13     전라북도    223.4    221.4    219.8\n",
              " 14     전라남도    144.9    143.9    143.3\n",
              " 15     경상북도    138.9    138.4    137.7\n",
              " 16     경상남도    316.2    313.6    311.2\n",
              " 17  제주특별자치도    362.6    363.8    365.6}"
            ]
          },
          "execution_count": 23,
          "metadata": {},
          "output_type": "execute_result"
        }
      ],
      "source": [
        "# 여러 시트 가져오기: 시트 이름으로 가져오기\n",
        "df = pd.read_excel(filename, sheet_name=['인구밀도2', '인구밀도']) # 여러 개 시트할 때 리스트 형태로 가져오고, 인덱스로도도 지정이 가능\n",
        "df"
      ]
    },
    {
      "cell_type": "code",
      "execution_count": null,
      "id": "WpFPWWAcWRb7",
      "metadata": {
        "id": "WpFPWWAcWRb7",
        "outputId": "bc55802e-b34b-4016-86cb-0d6937fb46ff"
      },
      "outputs": [
        {
          "data": {
            "text/plain": [
              "{1:       행정구역별     2023     2024\n",
              " 0        전국    516.2    515.2\n",
              " 1     서울특별시  15839.0  15650.1\n",
              " 2     부산광역시   4348.9   4316.4\n",
              " 3     대구광역시   2728.6   2702.2\n",
              " 4     인천광역시   2765.1   2772.8\n",
              " 5     광주광역시   2948.5   2944.0\n",
              " 6     대전광역시   2758.1   2742.8\n",
              " 7     울산광역시   1069.0   1055.0\n",
              " 8   세종특별자치시    761.3    787.7\n",
              " 9       경기도   1325.3   1338.9\n",
              " 10      강원도     90.4     90.4\n",
              " 11     충청북도    220.3    219.4\n",
              " 12     충청남도    264.0    263.8\n",
              " 13     전라북도    223.4    221.4\n",
              " 14     전라남도    144.9    143.9\n",
              " 15     경상북도    138.9    138.4\n",
              " 16     경상남도    316.2    313.6\n",
              " 17  제주특별자치도    362.6    363.8,\n",
              " '인구밀도':       행정구역별     2020     2021     2022\n",
              " 0        전국    516.2    515.2    514.6\n",
              " 1     서울특별시  15839.0  15650.1  15560.7\n",
              " 2     부산광역시   4348.9   4316.4   4272.8\n",
              " 3     대구광역시   2728.6   2702.2   2673.7\n",
              " 4     인천광역시   2765.1   2772.8   2801.3\n",
              " 5     광주광역시   2948.5   2944.0   2931.9\n",
              " 6     대전광역시   2758.1   2742.8   2730.7\n",
              " 7     울산광역시   1069.0   1055.0   1044.9\n",
              " 8   세종특별자치시    761.3    787.7    822.9\n",
              " 9       경기도   1325.3   1338.9   1344.9\n",
              " 10      강원도     90.4     90.4     90.8\n",
              " 11     충청북도    220.3    219.4    219.4\n",
              " 12     충청남도    264.0    263.8    265.9\n",
              " 13     전라북도    223.4    221.4    219.8\n",
              " 14     전라남도    144.9    143.9    143.3\n",
              " 15     경상북도    138.9    138.4    137.7\n",
              " 16     경상남도    316.2    313.6    311.2\n",
              " 17  제주특별자치도    362.6    363.8    365.6}"
            ]
          },
          "execution_count": 24,
          "metadata": {},
          "output_type": "execute_result"
        }
      ],
      "source": [
        "# 여러 시트 가져오기: 시트 번호로 가져오기 (0번부터 시작)\n",
        "df = pd.read_excel(filename, sheet_name=[1, '인구밀도']) # 여러 개 시트할 때 리스트 형태로 가져오고, 인덱스로도도 지정이 가능\n",
        "df\n",
        "\n",
        "# df.to_excel(파일이름)"
      ]
    },
    {
      "cell_type": "markdown",
      "id": "432937e7",
      "metadata": {
        "id": "432937e7"
      },
      "source": [
        "#### 4.Remote URL의 CSV 데이터 Pandas DataFrame으로 나타내기"
      ]
    },
    {
      "cell_type": "code",
      "execution_count": null,
      "id": "2065b3dd",
      "metadata": {
        "id": "2065b3dd",
        "outputId": "8b081ae4-948c-43c8-ae29-019ee0cecc5b",
        "scrolled": false
      },
      "outputs": [
        {
          "data": {
            "text/html": [
              "<div>\n",
              "<style scoped>\n",
              "    .dataframe tbody tr th:only-of-type {\n",
              "        vertical-align: middle;\n",
              "    }\n",
              "\n",
              "    .dataframe tbody tr th {\n",
              "        vertical-align: top;\n",
              "    }\n",
              "\n",
              "    .dataframe thead th {\n",
              "        text-align: right;\n",
              "    }\n",
              "</style>\n",
              "<table border=\"1\" class=\"dataframe\">\n",
              "  <thead>\n",
              "    <tr style=\"text-align: right;\">\n",
              "      <th></th>\n",
              "      <th>0</th>\n",
              "      <th>1</th>\n",
              "      <th>2</th>\n",
              "      <th>3</th>\n",
              "      <th>4</th>\n",
              "    </tr>\n",
              "  </thead>\n",
              "  <tbody>\n",
              "    <tr>\n",
              "      <th>0</th>\n",
              "      <td>5.1</td>\n",
              "      <td>3.5</td>\n",
              "      <td>1.4</td>\n",
              "      <td>0.2</td>\n",
              "      <td>Iris-setosa</td>\n",
              "    </tr>\n",
              "    <tr>\n",
              "      <th>1</th>\n",
              "      <td>4.9</td>\n",
              "      <td>3.0</td>\n",
              "      <td>1.4</td>\n",
              "      <td>0.2</td>\n",
              "      <td>Iris-setosa</td>\n",
              "    </tr>\n",
              "    <tr>\n",
              "      <th>2</th>\n",
              "      <td>4.7</td>\n",
              "      <td>3.2</td>\n",
              "      <td>1.3</td>\n",
              "      <td>0.2</td>\n",
              "      <td>Iris-setosa</td>\n",
              "    </tr>\n",
              "    <tr>\n",
              "      <th>3</th>\n",
              "      <td>4.6</td>\n",
              "      <td>3.1</td>\n",
              "      <td>1.5</td>\n",
              "      <td>0.2</td>\n",
              "      <td>Iris-setosa</td>\n",
              "    </tr>\n",
              "    <tr>\n",
              "      <th>4</th>\n",
              "      <td>5.0</td>\n",
              "      <td>3.6</td>\n",
              "      <td>1.4</td>\n",
              "      <td>0.2</td>\n",
              "      <td>Iris-setosa</td>\n",
              "    </tr>\n",
              "    <tr>\n",
              "      <th>...</th>\n",
              "      <td>...</td>\n",
              "      <td>...</td>\n",
              "      <td>...</td>\n",
              "      <td>...</td>\n",
              "      <td>...</td>\n",
              "    </tr>\n",
              "    <tr>\n",
              "      <th>145</th>\n",
              "      <td>6.7</td>\n",
              "      <td>3.0</td>\n",
              "      <td>5.2</td>\n",
              "      <td>2.3</td>\n",
              "      <td>Iris-virginica</td>\n",
              "    </tr>\n",
              "    <tr>\n",
              "      <th>146</th>\n",
              "      <td>6.3</td>\n",
              "      <td>2.5</td>\n",
              "      <td>5.0</td>\n",
              "      <td>1.9</td>\n",
              "      <td>Iris-virginica</td>\n",
              "    </tr>\n",
              "    <tr>\n",
              "      <th>147</th>\n",
              "      <td>6.5</td>\n",
              "      <td>3.0</td>\n",
              "      <td>5.2</td>\n",
              "      <td>2.0</td>\n",
              "      <td>Iris-virginica</td>\n",
              "    </tr>\n",
              "    <tr>\n",
              "      <th>148</th>\n",
              "      <td>6.2</td>\n",
              "      <td>3.4</td>\n",
              "      <td>5.4</td>\n",
              "      <td>2.3</td>\n",
              "      <td>Iris-virginica</td>\n",
              "    </tr>\n",
              "    <tr>\n",
              "      <th>149</th>\n",
              "      <td>5.9</td>\n",
              "      <td>3.0</td>\n",
              "      <td>5.1</td>\n",
              "      <td>1.8</td>\n",
              "      <td>Iris-virginica</td>\n",
              "    </tr>\n",
              "  </tbody>\n",
              "</table>\n",
              "<p>150 rows × 5 columns</p>\n",
              "</div>"
            ],
            "text/plain": [
              "       0    1    2    3               4\n",
              "0    5.1  3.5  1.4  0.2     Iris-setosa\n",
              "1    4.9  3.0  1.4  0.2     Iris-setosa\n",
              "2    4.7  3.2  1.3  0.2     Iris-setosa\n",
              "3    4.6  3.1  1.5  0.2     Iris-setosa\n",
              "4    5.0  3.6  1.4  0.2     Iris-setosa\n",
              "..   ...  ...  ...  ...             ...\n",
              "145  6.7  3.0  5.2  2.3  Iris-virginica\n",
              "146  6.3  2.5  5.0  1.9  Iris-virginica\n",
              "147  6.5  3.0  5.2  2.0  Iris-virginica\n",
              "148  6.2  3.4  5.4  2.3  Iris-virginica\n",
              "149  5.9  3.0  5.1  1.8  Iris-virginica\n",
              "\n",
              "[150 rows x 5 columns]"
            ]
          },
          "execution_count": 25,
          "metadata": {},
          "output_type": "execute_result"
        }
      ],
      "source": [
        "url = 'https://archive.ics.uci.edu/ml/machine-learning-databases/iris/iris.data'\n",
        "\n",
        "df = pd.read_csv(url, header=None)\n",
        "# df = pd.read_csv(url, columns=[컬럼1, 컬럼2, ....])\n",
        "df\n"
      ]
    },
    {
      "cell_type": "code",
      "execution_count": null,
      "id": "1cbb7d41",
      "metadata": {
        "id": "1cbb7d41",
        "outputId": "d45c7e78-a626-4c33-9306-bba1b8970686"
      },
      "outputs": [
        {
          "name": "stdout",
          "output_type": "stream",
          "text": [
            "Collecting scikit-learn\n",
            "  Downloading scikit_learn-1.4.2-cp312-cp312-win_amd64.whl.metadata (11 kB)\n",
            "Requirement already satisfied: numpy>=1.19.5 in c:\\python\\python312\\lib\\site-packages (from scikit-learn) (1.26.4)\n",
            "Collecting scipy>=1.6.0 (from scikit-learn)\n",
            "  Downloading scipy-1.13.0-cp312-cp312-win_amd64.whl.metadata (60 kB)\n",
            "     ---------------------------------------- 0.0/60.6 kB ? eta -:--:--\n",
            "     ---------------------------------------- 0.0/60.6 kB ? eta -:--:--\n",
            "     ------ --------------------------------- 10.2/60.6 kB ? eta -:--:--\n",
            "     -------------------------------- ----- 51.2/60.6 kB 525.1 kB/s eta 0:00:01\n",
            "     -------------------------------------- 60.6/60.6 kB 535.5 kB/s eta 0:00:00\n",
            "Collecting joblib>=1.2.0 (from scikit-learn)\n",
            "  Downloading joblib-1.4.0-py3-none-any.whl.metadata (5.4 kB)\n",
            "Collecting threadpoolctl>=2.0.0 (from scikit-learn)\n",
            "  Downloading threadpoolctl-3.4.0-py3-none-any.whl.metadata (13 kB)\n",
            "Downloading scikit_learn-1.4.2-cp312-cp312-win_amd64.whl (10.6 MB)\n",
            "   ---------------------------------------- 0.0/10.6 MB ? eta -:--:--\n",
            "   - -------------------------------------- 0.4/10.6 MB 8.1 MB/s eta 0:00:02\n",
            "   --- ------------------------------------ 0.8/10.6 MB 12.7 MB/s eta 0:00:01\n",
            "   ------ --------------------------------- 1.6/10.6 MB 11.4 MB/s eta 0:00:01\n",
            "   ---------- ----------------------------- 2.9/10.6 MB 16.8 MB/s eta 0:00:01\n",
            "   ---------------- ----------------------- 4.5/10.6 MB 19.1 MB/s eta 0:00:01\n",
            "   ----------------------- ---------------- 6.3/10.6 MB 23.8 MB/s eta 0:00:01\n",
            "   ------------------------------- -------- 8.4/10.6 MB 25.6 MB/s eta 0:00:01\n",
            "   ------------------------------------- -- 9.9/10.6 MB 27.6 MB/s eta 0:00:01\n",
            "   ---------------------------------------  10.6/10.6 MB 29.7 MB/s eta 0:00:01\n",
            "   ---------------------------------------- 10.6/10.6 MB 26.1 MB/s eta 0:00:00\n",
            "Downloading joblib-1.4.0-py3-none-any.whl (301 kB)\n",
            "   ---------------------------------------- 0.0/301.2 kB ? eta -:--:--\n",
            "   --------------------------------------- 301.2/301.2 kB 19.4 MB/s eta 0:00:00\n",
            "Downloading scipy-1.13.0-cp312-cp312-win_amd64.whl (45.9 MB)\n",
            "   ---------------------------------------- 0.0/45.9 MB ? eta -:--:--\n",
            "   - -------------------------------------- 2.1/45.9 MB 44.7 MB/s eta 0:00:01\n",
            "   --- ------------------------------------ 4.4/45.9 MB 47.6 MB/s eta 0:00:01\n",
            "   ----- ---------------------------------- 6.2/45.9 MB 49.2 MB/s eta 0:00:01\n",
            "   ------- -------------------------------- 8.1/45.9 MB 43.4 MB/s eta 0:00:01\n",
            "   --------- ------------------------------ 10.5/45.9 MB 43.7 MB/s eta 0:00:01\n",
            "   ---------- ----------------------------- 12.6/45.9 MB 43.7 MB/s eta 0:00:01\n",
            "   ----------- ---------------------------- 13.6/45.9 MB 38.5 MB/s eta 0:00:01\n",
            "   ----------- ---------------------------- 13.6/45.9 MB 38.5 MB/s eta 0:00:01\n",
            "   ----------- ---------------------------- 13.6/45.9 MB 38.5 MB/s eta 0:00:01\n",
            "   ----------- ---------------------------- 13.7/45.9 MB 25.2 MB/s eta 0:00:02\n",
            "   ------------ --------------------------- 13.9/45.9 MB 23.4 MB/s eta 0:00:02\n",
            "   ------------ --------------------------- 14.8/45.9 MB 22.5 MB/s eta 0:00:02\n",
            "   --------------- ------------------------ 17.2/45.9 MB 22.6 MB/s eta 0:00:02\n",
            "   ----------------- ---------------------- 19.8/45.9 MB 23.4 MB/s eta 0:00:02\n",
            "   ------------------- -------------------- 22.0/45.9 MB 23.4 MB/s eta 0:00:02\n",
            "   --------------------- ------------------ 24.9/45.9 MB 50.4 MB/s eta 0:00:01\n",
            "   ------------------------ --------------- 27.9/45.9 MB 54.4 MB/s eta 0:00:01\n",
            "   -------------------------- ------------- 30.6/45.9 MB 59.8 MB/s eta 0:00:01\n",
            "   ---------------------------- ----------- 32.5/45.9 MB 59.5 MB/s eta 0:00:01\n",
            "   ---------------------------- ----------- 32.5/45.9 MB 59.5 MB/s eta 0:00:01\n",
            "   ---------------------------- ----------- 32.5/45.9 MB 59.5 MB/s eta 0:00:01\n",
            "   ------------------------------ --------- 34.7/45.9 MB 36.4 MB/s eta 0:00:01\n",
            "   -------------------------------- ------- 37.1/45.9 MB 34.4 MB/s eta 0:00:01\n",
            "   ---------------------------------- ----- 39.4/45.9 MB 32.7 MB/s eta 0:00:01\n",
            "   ------------------------------------- -- 43.0/45.9 MB 59.5 MB/s eta 0:00:01\n",
            "   ------------------------------------- -- 43.0/45.9 MB 59.5 MB/s eta 0:00:01\n",
            "   ------------------------------------- -- 43.0/45.9 MB 59.5 MB/s eta 0:00:01\n",
            "   -------------------------------------- - 44.4/45.9 MB 36.4 MB/s eta 0:00:01\n",
            "   ---------------------------------------  45.9/45.9 MB 34.6 MB/s eta 0:00:01\n",
            "   ---------------------------------------  45.9/45.9 MB 34.6 MB/s eta 0:00:01\n",
            "   ---------------------------------------  45.9/45.9 MB 34.6 MB/s eta 0:00:01\n",
            "   ---------------------------------------  45.9/45.9 MB 34.6 MB/s eta 0:00:01\n",
            "   ---------------------------------------- 45.9/45.9 MB 21.1 MB/s eta 0:00:00\n",
            "Downloading threadpoolctl-3.4.0-py3-none-any.whl (17 kB)\n",
            "Installing collected packages: threadpoolctl, scipy, joblib, scikit-learn\n",
            "Successfully installed joblib-1.4.0 scikit-learn-1.4.2 scipy-1.13.0 threadpoolctl-3.4.0\n"
          ]
        }
      ],
      "source": [
        "# 머신러닝 라이브러리 (scikit-learn)\n",
        "\n",
        "\n",
        "!pip install scikit-learn\n"
      ]
    },
    {
      "cell_type": "code",
      "execution_count": null,
      "id": "5e366b57",
      "metadata": {
        "id": "5e366b57",
        "outputId": "de1d67f7-07a3-4fdf-ee3c-3fb6555c0529"
      },
      "outputs": [
        {
          "name": "stdout",
          "output_type": "stream",
          "text": [
            "target : {iris['target']}\n",
            "target names : {iris['target_names']}\n"
          ]
        },
        {
          "data": {
            "text/html": [
              "<div>\n",
              "<style scoped>\n",
              "    .dataframe tbody tr th:only-of-type {\n",
              "        vertical-align: middle;\n",
              "    }\n",
              "\n",
              "    .dataframe tbody tr th {\n",
              "        vertical-align: top;\n",
              "    }\n",
              "\n",
              "    .dataframe thead th {\n",
              "        text-align: right;\n",
              "    }\n",
              "</style>\n",
              "<table border=\"1\" class=\"dataframe\">\n",
              "  <thead>\n",
              "    <tr style=\"text-align: right;\">\n",
              "      <th></th>\n",
              "      <th>sepal length (cm)</th>\n",
              "      <th>sepal width (cm)</th>\n",
              "      <th>petal length (cm)</th>\n",
              "      <th>petal width (cm)</th>\n",
              "      <th>result</th>\n",
              "      <th>result_name</th>\n",
              "    </tr>\n",
              "  </thead>\n",
              "  <tbody>\n",
              "    <tr>\n",
              "      <th>0</th>\n",
              "      <td>5.1</td>\n",
              "      <td>3.5</td>\n",
              "      <td>1.4</td>\n",
              "      <td>0.2</td>\n",
              "      <td>0</td>\n",
              "      <td>setosa</td>\n",
              "    </tr>\n",
              "    <tr>\n",
              "      <th>1</th>\n",
              "      <td>4.9</td>\n",
              "      <td>3.0</td>\n",
              "      <td>1.4</td>\n",
              "      <td>0.2</td>\n",
              "      <td>0</td>\n",
              "      <td>setosa</td>\n",
              "    </tr>\n",
              "    <tr>\n",
              "      <th>2</th>\n",
              "      <td>4.7</td>\n",
              "      <td>3.2</td>\n",
              "      <td>1.3</td>\n",
              "      <td>0.2</td>\n",
              "      <td>0</td>\n",
              "      <td>setosa</td>\n",
              "    </tr>\n",
              "    <tr>\n",
              "      <th>3</th>\n",
              "      <td>4.6</td>\n",
              "      <td>3.1</td>\n",
              "      <td>1.5</td>\n",
              "      <td>0.2</td>\n",
              "      <td>0</td>\n",
              "      <td>setosa</td>\n",
              "    </tr>\n",
              "    <tr>\n",
              "      <th>4</th>\n",
              "      <td>5.0</td>\n",
              "      <td>3.6</td>\n",
              "      <td>1.4</td>\n",
              "      <td>0.2</td>\n",
              "      <td>0</td>\n",
              "      <td>setosa</td>\n",
              "    </tr>\n",
              "    <tr>\n",
              "      <th>...</th>\n",
              "      <td>...</td>\n",
              "      <td>...</td>\n",
              "      <td>...</td>\n",
              "      <td>...</td>\n",
              "      <td>...</td>\n",
              "      <td>...</td>\n",
              "    </tr>\n",
              "    <tr>\n",
              "      <th>145</th>\n",
              "      <td>6.7</td>\n",
              "      <td>3.0</td>\n",
              "      <td>5.2</td>\n",
              "      <td>2.3</td>\n",
              "      <td>2</td>\n",
              "      <td>virginica</td>\n",
              "    </tr>\n",
              "    <tr>\n",
              "      <th>146</th>\n",
              "      <td>6.3</td>\n",
              "      <td>2.5</td>\n",
              "      <td>5.0</td>\n",
              "      <td>1.9</td>\n",
              "      <td>2</td>\n",
              "      <td>virginica</td>\n",
              "    </tr>\n",
              "    <tr>\n",
              "      <th>147</th>\n",
              "      <td>6.5</td>\n",
              "      <td>3.0</td>\n",
              "      <td>5.2</td>\n",
              "      <td>2.0</td>\n",
              "      <td>2</td>\n",
              "      <td>virginica</td>\n",
              "    </tr>\n",
              "    <tr>\n",
              "      <th>148</th>\n",
              "      <td>6.2</td>\n",
              "      <td>3.4</td>\n",
              "      <td>5.4</td>\n",
              "      <td>2.3</td>\n",
              "      <td>2</td>\n",
              "      <td>virginica</td>\n",
              "    </tr>\n",
              "    <tr>\n",
              "      <th>149</th>\n",
              "      <td>5.9</td>\n",
              "      <td>3.0</td>\n",
              "      <td>5.1</td>\n",
              "      <td>1.8</td>\n",
              "      <td>2</td>\n",
              "      <td>virginica</td>\n",
              "    </tr>\n",
              "  </tbody>\n",
              "</table>\n",
              "<p>150 rows × 6 columns</p>\n",
              "</div>"
            ],
            "text/plain": [
              "     sepal length (cm)  sepal width (cm)  petal length (cm)  petal width (cm)  \\\n",
              "0                  5.1               3.5                1.4               0.2   \n",
              "1                  4.9               3.0                1.4               0.2   \n",
              "2                  4.7               3.2                1.3               0.2   \n",
              "3                  4.6               3.1                1.5               0.2   \n",
              "4                  5.0               3.6                1.4               0.2   \n",
              "..                 ...               ...                ...               ...   \n",
              "145                6.7               3.0                5.2               2.3   \n",
              "146                6.3               2.5                5.0               1.9   \n",
              "147                6.5               3.0                5.2               2.0   \n",
              "148                6.2               3.4                5.4               2.3   \n",
              "149                5.9               3.0                5.1               1.8   \n",
              "\n",
              "     result result_name  \n",
              "0         0      setosa  \n",
              "1         0      setosa  \n",
              "2         0      setosa  \n",
              "3         0      setosa  \n",
              "4         0      setosa  \n",
              "..      ...         ...  \n",
              "145       2   virginica  \n",
              "146       2   virginica  \n",
              "147       2   virginica  \n",
              "148       2   virginica  \n",
              "149       2   virginica  \n",
              "\n",
              "[150 rows x 6 columns]"
            ]
          },
          "execution_count": 19,
          "metadata": {},
          "output_type": "execute_result"
        }
      ],
      "source": [
        "from sklearn.datasets import load_iris\n",
        "\n",
        "iris = load_iris()\n",
        "iris\n",
        "\n",
        "df = pd.DataFrame(iris['data'],\n",
        "                  columns=iris['feature_names'])\n",
        "\n",
        "\n",
        "\n",
        "print(\"target : {iris['target']}\")\n",
        "print(\"target names : {iris['target_names']}\")\n",
        "df['result'] = iris['target']\n",
        "df['result_name'] = iris.target_names[iris.target]\n",
        "df\n",
        "\n",
        "#\n"
      ]
    },
    {
      "cell_type": "code",
      "execution_count": null,
      "id": "d3da51e8",
      "metadata": {
        "id": "d3da51e8"
      },
      "outputs": [],
      "source": [
        "dg = pd.read_csv('./data')"
      ]
    },
    {
      "cell_type": "markdown",
      "id": "3f80fd08",
      "metadata": {
        "id": "3f80fd08"
      },
      "source": [
        "### 1. 데이터프레임 생성\n",
        "- 2차원 리스트 타입으로 만들기\n",
        "- 딕셔너리 타입으로 만들기 :  키(key)는 열 이름, 값(value)은 시퀀스형 데이터 타입을 넣어 각 열의 데이터로 만듦\n"
      ]
    },
    {
      "cell_type": "code",
      "execution_count": null,
      "id": "22d193d6",
      "metadata": {
        "id": "22d193d6",
        "outputId": "1c67a358-6fe6-4c84-d0b3-30d72e579f71"
      },
      "outputs": [
        {
          "data": {
            "text/html": [
              "<div>\n",
              "<style scoped>\n",
              "    .dataframe tbody tr th:only-of-type {\n",
              "        vertical-align: middle;\n",
              "    }\n",
              "\n",
              "    .dataframe tbody tr th {\n",
              "        vertical-align: top;\n",
              "    }\n",
              "\n",
              "    .dataframe thead th {\n",
              "        text-align: right;\n",
              "    }\n",
              "</style>\n",
              "<table border=\"1\" class=\"dataframe\">\n",
              "  <thead>\n",
              "    <tr style=\"text-align: right;\">\n",
              "      <th></th>\n",
              "      <th>first_name</th>\n",
              "      <th>last_name</th>\n",
              "      <th>age</th>\n",
              "      <th>address</th>\n",
              "    </tr>\n",
              "  </thead>\n",
              "  <tbody>\n",
              "    <tr>\n",
              "      <th>0</th>\n",
              "      <td>Jason</td>\n",
              "      <td>Miller</td>\n",
              "      <td>42</td>\n",
              "      <td>San Francisco</td>\n",
              "    </tr>\n",
              "    <tr>\n",
              "      <th>1</th>\n",
              "      <td>Molly</td>\n",
              "      <td>Jacobson</td>\n",
              "      <td>52</td>\n",
              "      <td>Baltimore</td>\n",
              "    </tr>\n",
              "    <tr>\n",
              "      <th>2</th>\n",
              "      <td>Tina</td>\n",
              "      <td>Ali</td>\n",
              "      <td>36</td>\n",
              "      <td>Miami</td>\n",
              "    </tr>\n",
              "    <tr>\n",
              "      <th>3</th>\n",
              "      <td>Jake</td>\n",
              "      <td>Milner</td>\n",
              "      <td>24</td>\n",
              "      <td>Douglas</td>\n",
              "    </tr>\n",
              "    <tr>\n",
              "      <th>4</th>\n",
              "      <td>Amy</td>\n",
              "      <td>Cooze</td>\n",
              "      <td>73</td>\n",
              "      <td>None</td>\n",
              "    </tr>\n",
              "  </tbody>\n",
              "</table>\n",
              "</div>"
            ],
            "text/plain": [
              "  first_name last_name  age        address\n",
              "0      Jason    Miller   42  San Francisco\n",
              "1      Molly  Jacobson   52      Baltimore\n",
              "2       Tina       Ali   36          Miami\n",
              "3       Jake    Milner   24        Douglas\n",
              "4        Amy     Cooze   73           None"
            ]
          },
          "execution_count": 32,
          "metadata": {},
          "output_type": "execute_result"
        }
      ],
      "source": [
        "# 2차원 리스트 타입으로 DataFrame 만들기\n",
        "raw_data = [['Jason','Miller', 42, 'San Francisco'],\n",
        "            ['Molly', 'Jacobson', 52, 'Baltimore'],\n",
        "            ['Tina', 'Ali', 36, 'Miami'],\n",
        "            ['Jake', 'Milner', 24, 'Douglas'],\n",
        "            ['Amy', 'Cooze', 73, ]]\n",
        "           # ['Amy', 'Cooze', 73, 'Boston']]\n",
        "\n",
        "\n",
        "df = pd.DataFrame(raw_data,\n",
        "                  columns=['first_name', 'last_name', 'age', 'address'])\n",
        "\n",
        "df = pd.DataFrame(raw_data)\n",
        "df.columns = ['first_name', 'last_name', 'age', 'address']  ## 두 가지다 상황에 따라 자주 사용\n",
        "\n",
        "df"
      ]
    },
    {
      "cell_type": "code",
      "execution_count": null,
      "id": "e79fa185",
      "metadata": {
        "id": "e79fa185",
        "outputId": "d7cad042-ce21-4583-a5a5-4a32e57b0627"
      },
      "outputs": [
        {
          "data": {
            "text/html": [
              "<div>\n",
              "<style scoped>\n",
              "    .dataframe tbody tr th:only-of-type {\n",
              "        vertical-align: middle;\n",
              "    }\n",
              "\n",
              "    .dataframe tbody tr th {\n",
              "        vertical-align: top;\n",
              "    }\n",
              "\n",
              "    .dataframe thead th {\n",
              "        text-align: right;\n",
              "    }\n",
              "</style>\n",
              "<table border=\"1\" class=\"dataframe\">\n",
              "  <thead>\n",
              "    <tr style=\"text-align: right;\">\n",
              "      <th></th>\n",
              "      <th>first_name</th>\n",
              "      <th>last_name</th>\n",
              "      <th>age</th>\n",
              "      <th>city</th>\n",
              "    </tr>\n",
              "  </thead>\n",
              "  <tbody>\n",
              "    <tr>\n",
              "      <th>0</th>\n",
              "      <td>Jason</td>\n",
              "      <td>Miller</td>\n",
              "      <td>42</td>\n",
              "      <td>San Francisco</td>\n",
              "    </tr>\n",
              "    <tr>\n",
              "      <th>1</th>\n",
              "      <td>Molly</td>\n",
              "      <td>Jacobson</td>\n",
              "      <td>52</td>\n",
              "      <td>Baltimore</td>\n",
              "    </tr>\n",
              "    <tr>\n",
              "      <th>2</th>\n",
              "      <td>Tina</td>\n",
              "      <td>Ali</td>\n",
              "      <td>36</td>\n",
              "      <td>Miami</td>\n",
              "    </tr>\n",
              "    <tr>\n",
              "      <th>3</th>\n",
              "      <td>Jake</td>\n",
              "      <td>Milner</td>\n",
              "      <td>24</td>\n",
              "      <td>Douglas</td>\n",
              "    </tr>\n",
              "    <tr>\n",
              "      <th>4</th>\n",
              "      <td>Amy</td>\n",
              "      <td>Cooze</td>\n",
              "      <td>73</td>\n",
              "      <td>Boston</td>\n",
              "    </tr>\n",
              "  </tbody>\n",
              "</table>\n",
              "</div>"
            ],
            "text/plain": [
              "  first_name last_name  age           city\n",
              "0      Jason    Miller   42  San Francisco\n",
              "1      Molly  Jacobson   52      Baltimore\n",
              "2       Tina       Ali   36          Miami\n",
              "3       Jake    Milner   24        Douglas\n",
              "4        Amy     Cooze   73         Boston"
            ]
          },
          "execution_count": 33,
          "metadata": {},
          "output_type": "execute_result"
        }
      ],
      "source": [
        "# 딕셔너리 타입으로 DataFrame 만들기 (키와 밸류 형태로 )\n",
        "raw_data = {'first_name': ['Jason', 'Molly', 'Tina', 'Jake', 'Amy'],\n",
        "            'last_name': ['Miller', 'Jacobson', 'Ali', 'Milner', 'Cooze'],\n",
        "            'age': [42, 52, 36, 24, 73],\n",
        "            'city': ['San Francisco', 'Baltimore', 'Miami', 'Douglas', 'Boston']}\n",
        "\n",
        "df = pd.DataFrame(raw_data) ## 키가 컬럼으로 되고 밸류가 데이터로\n",
        "df"
      ]
    },
    {
      "cell_type": "markdown",
      "id": "b6987056",
      "metadata": {
        "id": "b6987056"
      },
      "source": [
        "### 2. 데이터프레임의 열 다루기"
      ]
    },
    {
      "cell_type": "code",
      "execution_count": null,
      "id": "28a91fc2",
      "metadata": {
        "id": "28a91fc2",
        "outputId": "05db19bb-b75c-4c8c-d494-0a1fa7e27956"
      },
      "outputs": [
        {
          "data": {
            "text/html": [
              "<div>\n",
              "<style scoped>\n",
              "    .dataframe tbody tr th:only-of-type {\n",
              "        vertical-align: middle;\n",
              "    }\n",
              "\n",
              "    .dataframe tbody tr th {\n",
              "        vertical-align: top;\n",
              "    }\n",
              "\n",
              "    .dataframe thead th {\n",
              "        text-align: right;\n",
              "    }\n",
              "</style>\n",
              "<table border=\"1\" class=\"dataframe\">\n",
              "  <thead>\n",
              "    <tr style=\"text-align: right;\">\n",
              "      <th></th>\n",
              "      <th>first_name</th>\n",
              "      <th>age</th>\n",
              "    </tr>\n",
              "  </thead>\n",
              "  <tbody>\n",
              "    <tr>\n",
              "      <th>0</th>\n",
              "      <td>Jason</td>\n",
              "      <td>42</td>\n",
              "    </tr>\n",
              "    <tr>\n",
              "      <th>1</th>\n",
              "      <td>Molly</td>\n",
              "      <td>52</td>\n",
              "    </tr>\n",
              "    <tr>\n",
              "      <th>2</th>\n",
              "      <td>Tina</td>\n",
              "      <td>36</td>\n",
              "    </tr>\n",
              "    <tr>\n",
              "      <th>3</th>\n",
              "      <td>Jake</td>\n",
              "      <td>24</td>\n",
              "    </tr>\n",
              "    <tr>\n",
              "      <th>4</th>\n",
              "      <td>Amy</td>\n",
              "      <td>73</td>\n",
              "    </tr>\n",
              "  </tbody>\n",
              "</table>\n",
              "</div>"
            ],
            "text/plain": [
              "  first_name  age\n",
              "0      Jason   42\n",
              "1      Molly   52\n",
              "2       Tina   36\n",
              "3       Jake   24\n",
              "4        Amy   73"
            ]
          },
          "execution_count": 34,
          "metadata": {},
          "output_type": "execute_result"
        }
      ],
      "source": [
        "# 데이터 생성시, 딕셔너리 데이터에서 열(Key) 이름을 한정하면 해당 열만 추출\n",
        "\n",
        "df = pd.DataFrame(raw_data, columns=['first_name', 'age'])\n",
        "df"
      ]
    },
    {
      "cell_type": "code",
      "execution_count": null,
      "id": "645c82d0",
      "metadata": {
        "id": "645c82d0",
        "outputId": "5156f8b0-60b8-4b6a-ae37-3c31e7d9a358"
      },
      "outputs": [
        {
          "data": {
            "text/html": [
              "<div>\n",
              "<style scoped>\n",
              "    .dataframe tbody tr th:only-of-type {\n",
              "        vertical-align: middle;\n",
              "    }\n",
              "\n",
              "    .dataframe tbody tr th {\n",
              "        vertical-align: top;\n",
              "    }\n",
              "\n",
              "    .dataframe thead th {\n",
              "        text-align: right;\n",
              "    }\n",
              "</style>\n",
              "<table border=\"1\" class=\"dataframe\">\n",
              "  <thead>\n",
              "    <tr style=\"text-align: right;\">\n",
              "      <th></th>\n",
              "      <th>first_name</th>\n",
              "      <th>age</th>\n",
              "      <th>last_name</th>\n",
              "      <th>city</th>\n",
              "      <th>phone</th>\n",
              "    </tr>\n",
              "  </thead>\n",
              "  <tbody>\n",
              "    <tr>\n",
              "      <th>0</th>\n",
              "      <td>Jason</td>\n",
              "      <td>42</td>\n",
              "      <td>Miller</td>\n",
              "      <td>San Francisco</td>\n",
              "      <td>NaN</td>\n",
              "    </tr>\n",
              "    <tr>\n",
              "      <th>1</th>\n",
              "      <td>Molly</td>\n",
              "      <td>52</td>\n",
              "      <td>Jacobson</td>\n",
              "      <td>Baltimore</td>\n",
              "      <td>NaN</td>\n",
              "    </tr>\n",
              "    <tr>\n",
              "      <th>2</th>\n",
              "      <td>Tina</td>\n",
              "      <td>36</td>\n",
              "      <td>Ali</td>\n",
              "      <td>Miami</td>\n",
              "      <td>NaN</td>\n",
              "    </tr>\n",
              "    <tr>\n",
              "      <th>3</th>\n",
              "      <td>Jake</td>\n",
              "      <td>24</td>\n",
              "      <td>Milner</td>\n",
              "      <td>Douglas</td>\n",
              "      <td>NaN</td>\n",
              "    </tr>\n",
              "    <tr>\n",
              "      <th>4</th>\n",
              "      <td>Amy</td>\n",
              "      <td>73</td>\n",
              "      <td>Cooze</td>\n",
              "      <td>Boston</td>\n",
              "      <td>NaN</td>\n",
              "    </tr>\n",
              "  </tbody>\n",
              "</table>\n",
              "</div>"
            ],
            "text/plain": [
              "  first_name  age last_name           city phone\n",
              "0      Jason   42    Miller  San Francisco   NaN\n",
              "1      Molly   52  Jacobson      Baltimore   NaN\n",
              "2       Tina   36       Ali          Miami   NaN\n",
              "3       Jake   24    Milner        Douglas   NaN\n",
              "4        Amy   73     Cooze         Boston   NaN"
            ]
          },
          "execution_count": 36,
          "metadata": {},
          "output_type": "execute_result"
        }
      ],
      "source": [
        "# 데이터가 존재하지 않는 열을 추가하면 해당 열에는 NaN 값들 추가 ## NaN = Not a Number\n",
        "\n",
        "df = pd.DataFrame(raw_data, columns=['first_name', 'age', 'last_name','city', 'phone'])\n",
        "df"
      ]
    },
    {
      "cell_type": "markdown",
      "id": "a326a44e",
      "metadata": {
        "id": "a326a44e"
      },
      "source": [
        "-----------------"
      ]
    },
    {
      "cell_type": "markdown",
      "id": "7c78c97e",
      "metadata": {
        "id": "7c78c97e"
      },
      "source": [
        "## <a name=\"04.2데이터추출\">04.2 데이터 추출</a>"
      ]
    },
    {
      "cell_type": "markdown",
      "id": "1867211e",
      "metadata": {
        "id": "1867211e"
      },
      "source": [
        "### 1. 데이터 로딩"
      ]
    },
    {
      "cell_type": "code",
      "execution_count": 14,
      "id": "244eb5a6",
      "metadata": {
        "colab": {
          "base_uri": "https://localhost:8080/",
          "height": 353
        },
        "id": "244eb5a6",
        "outputId": "8141af54-9e65-439d-d12d-946a6dfa42fe"
      },
      "outputs": [
        {
          "output_type": "error",
          "ename": "FileNotFoundError",
          "evalue": "[Errno 2] No such file or directory: './data/인구밀도_인구주택총조사기준0418.csv'",
          "traceback": [
            "\u001b[0;31m---------------------------------------------------------------------------\u001b[0m",
            "\u001b[0;31mFileNotFoundError\u001b[0m                         Traceback (most recent call last)",
            "\u001b[0;32m<ipython-input-14-e6128bfc7ca8>\u001b[0m in \u001b[0;36m<cell line: 3>\u001b[0;34m()\u001b[0m\n\u001b[1;32m      1\u001b[0m \u001b[0mfilename\u001b[0m \u001b[0;34m=\u001b[0m \u001b[0;34m(\u001b[0m\u001b[0;34m'./data/인구밀도_인구주택총조사기준0418.csv'\u001b[0m\u001b[0;34m)\u001b[0m\u001b[0;34m\u001b[0m\u001b[0;34m\u001b[0m\u001b[0m\n\u001b[1;32m      2\u001b[0m \u001b[0;34m\u001b[0m\u001b[0m\n\u001b[0;32m----> 3\u001b[0;31m \u001b[0mdf\u001b[0m \u001b[0;34m=\u001b[0m \u001b[0mpd\u001b[0m\u001b[0;34m.\u001b[0m\u001b[0mread_csv\u001b[0m\u001b[0;34m(\u001b[0m\u001b[0mfilename\u001b[0m\u001b[0;34m)\u001b[0m\u001b[0;34m\u001b[0m\u001b[0;34m\u001b[0m\u001b[0m\n\u001b[0m\u001b[1;32m      4\u001b[0m \u001b[0mdf\u001b[0m\u001b[0;34m.\u001b[0m\u001b[0mhead\u001b[0m\u001b[0;34m(\u001b[0m\u001b[0;36m3\u001b[0m\u001b[0;34m)\u001b[0m \u001b[0;31m## 앞에 한 5개 정도\u001b[0m\u001b[0;34m\u001b[0m\u001b[0;34m\u001b[0m\u001b[0m\n",
            "\u001b[0;32m/usr/local/lib/python3.10/dist-packages/pandas/io/parsers/readers.py\u001b[0m in \u001b[0;36mread_csv\u001b[0;34m(filepath_or_buffer, sep, delimiter, header, names, index_col, usecols, dtype, engine, converters, true_values, false_values, skipinitialspace, skiprows, skipfooter, nrows, na_values, keep_default_na, na_filter, verbose, skip_blank_lines, parse_dates, infer_datetime_format, keep_date_col, date_parser, date_format, dayfirst, cache_dates, iterator, chunksize, compression, thousands, decimal, lineterminator, quotechar, quoting, doublequote, escapechar, comment, encoding, encoding_errors, dialect, on_bad_lines, delim_whitespace, low_memory, memory_map, float_precision, storage_options, dtype_backend)\u001b[0m\n\u001b[1;32m    910\u001b[0m     \u001b[0mkwds\u001b[0m\u001b[0;34m.\u001b[0m\u001b[0mupdate\u001b[0m\u001b[0;34m(\u001b[0m\u001b[0mkwds_defaults\u001b[0m\u001b[0;34m)\u001b[0m\u001b[0;34m\u001b[0m\u001b[0;34m\u001b[0m\u001b[0m\n\u001b[1;32m    911\u001b[0m \u001b[0;34m\u001b[0m\u001b[0m\n\u001b[0;32m--> 912\u001b[0;31m     \u001b[0;32mreturn\u001b[0m \u001b[0m_read\u001b[0m\u001b[0;34m(\u001b[0m\u001b[0mfilepath_or_buffer\u001b[0m\u001b[0;34m,\u001b[0m \u001b[0mkwds\u001b[0m\u001b[0;34m)\u001b[0m\u001b[0;34m\u001b[0m\u001b[0;34m\u001b[0m\u001b[0m\n\u001b[0m\u001b[1;32m    913\u001b[0m \u001b[0;34m\u001b[0m\u001b[0m\n\u001b[1;32m    914\u001b[0m \u001b[0;34m\u001b[0m\u001b[0m\n",
            "\u001b[0;32m/usr/local/lib/python3.10/dist-packages/pandas/io/parsers/readers.py\u001b[0m in \u001b[0;36m_read\u001b[0;34m(filepath_or_buffer, kwds)\u001b[0m\n\u001b[1;32m    575\u001b[0m \u001b[0;34m\u001b[0m\u001b[0m\n\u001b[1;32m    576\u001b[0m     \u001b[0;31m# Create the parser.\u001b[0m\u001b[0;34m\u001b[0m\u001b[0;34m\u001b[0m\u001b[0m\n\u001b[0;32m--> 577\u001b[0;31m     \u001b[0mparser\u001b[0m \u001b[0;34m=\u001b[0m \u001b[0mTextFileReader\u001b[0m\u001b[0;34m(\u001b[0m\u001b[0mfilepath_or_buffer\u001b[0m\u001b[0;34m,\u001b[0m \u001b[0;34m**\u001b[0m\u001b[0mkwds\u001b[0m\u001b[0;34m)\u001b[0m\u001b[0;34m\u001b[0m\u001b[0;34m\u001b[0m\u001b[0m\n\u001b[0m\u001b[1;32m    578\u001b[0m \u001b[0;34m\u001b[0m\u001b[0m\n\u001b[1;32m    579\u001b[0m     \u001b[0;32mif\u001b[0m \u001b[0mchunksize\u001b[0m \u001b[0;32mor\u001b[0m \u001b[0miterator\u001b[0m\u001b[0;34m:\u001b[0m\u001b[0;34m\u001b[0m\u001b[0;34m\u001b[0m\u001b[0m\n",
            "\u001b[0;32m/usr/local/lib/python3.10/dist-packages/pandas/io/parsers/readers.py\u001b[0m in \u001b[0;36m__init__\u001b[0;34m(self, f, engine, **kwds)\u001b[0m\n\u001b[1;32m   1405\u001b[0m \u001b[0;34m\u001b[0m\u001b[0m\n\u001b[1;32m   1406\u001b[0m         \u001b[0mself\u001b[0m\u001b[0;34m.\u001b[0m\u001b[0mhandles\u001b[0m\u001b[0;34m:\u001b[0m \u001b[0mIOHandles\u001b[0m \u001b[0;34m|\u001b[0m \u001b[0;32mNone\u001b[0m \u001b[0;34m=\u001b[0m \u001b[0;32mNone\u001b[0m\u001b[0;34m\u001b[0m\u001b[0;34m\u001b[0m\u001b[0m\n\u001b[0;32m-> 1407\u001b[0;31m         \u001b[0mself\u001b[0m\u001b[0;34m.\u001b[0m\u001b[0m_engine\u001b[0m \u001b[0;34m=\u001b[0m \u001b[0mself\u001b[0m\u001b[0;34m.\u001b[0m\u001b[0m_make_engine\u001b[0m\u001b[0;34m(\u001b[0m\u001b[0mf\u001b[0m\u001b[0;34m,\u001b[0m \u001b[0mself\u001b[0m\u001b[0;34m.\u001b[0m\u001b[0mengine\u001b[0m\u001b[0;34m)\u001b[0m\u001b[0;34m\u001b[0m\u001b[0;34m\u001b[0m\u001b[0m\n\u001b[0m\u001b[1;32m   1408\u001b[0m \u001b[0;34m\u001b[0m\u001b[0m\n\u001b[1;32m   1409\u001b[0m     \u001b[0;32mdef\u001b[0m \u001b[0mclose\u001b[0m\u001b[0;34m(\u001b[0m\u001b[0mself\u001b[0m\u001b[0;34m)\u001b[0m \u001b[0;34m->\u001b[0m \u001b[0;32mNone\u001b[0m\u001b[0;34m:\u001b[0m\u001b[0;34m\u001b[0m\u001b[0;34m\u001b[0m\u001b[0m\n",
            "\u001b[0;32m/usr/local/lib/python3.10/dist-packages/pandas/io/parsers/readers.py\u001b[0m in \u001b[0;36m_make_engine\u001b[0;34m(self, f, engine)\u001b[0m\n\u001b[1;32m   1659\u001b[0m                 \u001b[0;32mif\u001b[0m \u001b[0;34m\"b\"\u001b[0m \u001b[0;32mnot\u001b[0m \u001b[0;32min\u001b[0m \u001b[0mmode\u001b[0m\u001b[0;34m:\u001b[0m\u001b[0;34m\u001b[0m\u001b[0;34m\u001b[0m\u001b[0m\n\u001b[1;32m   1660\u001b[0m                     \u001b[0mmode\u001b[0m \u001b[0;34m+=\u001b[0m \u001b[0;34m\"b\"\u001b[0m\u001b[0;34m\u001b[0m\u001b[0;34m\u001b[0m\u001b[0m\n\u001b[0;32m-> 1661\u001b[0;31m             self.handles = get_handle(\n\u001b[0m\u001b[1;32m   1662\u001b[0m                 \u001b[0mf\u001b[0m\u001b[0;34m,\u001b[0m\u001b[0;34m\u001b[0m\u001b[0;34m\u001b[0m\u001b[0m\n\u001b[1;32m   1663\u001b[0m                 \u001b[0mmode\u001b[0m\u001b[0;34m,\u001b[0m\u001b[0;34m\u001b[0m\u001b[0;34m\u001b[0m\u001b[0m\n",
            "\u001b[0;32m/usr/local/lib/python3.10/dist-packages/pandas/io/common.py\u001b[0m in \u001b[0;36mget_handle\u001b[0;34m(path_or_buf, mode, encoding, compression, memory_map, is_text, errors, storage_options)\u001b[0m\n\u001b[1;32m    857\u001b[0m         \u001b[0;32mif\u001b[0m \u001b[0mioargs\u001b[0m\u001b[0;34m.\u001b[0m\u001b[0mencoding\u001b[0m \u001b[0;32mand\u001b[0m \u001b[0;34m\"b\"\u001b[0m \u001b[0;32mnot\u001b[0m \u001b[0;32min\u001b[0m \u001b[0mioargs\u001b[0m\u001b[0;34m.\u001b[0m\u001b[0mmode\u001b[0m\u001b[0;34m:\u001b[0m\u001b[0;34m\u001b[0m\u001b[0;34m\u001b[0m\u001b[0m\n\u001b[1;32m    858\u001b[0m             \u001b[0;31m# Encoding\u001b[0m\u001b[0;34m\u001b[0m\u001b[0;34m\u001b[0m\u001b[0m\n\u001b[0;32m--> 859\u001b[0;31m             handle = open(\n\u001b[0m\u001b[1;32m    860\u001b[0m                 \u001b[0mhandle\u001b[0m\u001b[0;34m,\u001b[0m\u001b[0;34m\u001b[0m\u001b[0;34m\u001b[0m\u001b[0m\n\u001b[1;32m    861\u001b[0m                 \u001b[0mioargs\u001b[0m\u001b[0;34m.\u001b[0m\u001b[0mmode\u001b[0m\u001b[0;34m,\u001b[0m\u001b[0;34m\u001b[0m\u001b[0;34m\u001b[0m\u001b[0m\n",
            "\u001b[0;31mFileNotFoundError\u001b[0m: [Errno 2] No such file or directory: './data/인구밀도_인구주택총조사기준0418.csv'"
          ]
        }
      ],
      "source": [
        "filename = ('./data/인구밀도_인구주택총조사기준0418.csv')\n",
        "\n",
        "df = pd.read_csv(filename)\n",
        "df.head(3) ## 앞에 한 5개 정도\n"
      ]
    },
    {
      "cell_type": "markdown",
      "id": "196a3b11",
      "metadata": {
        "id": "196a3b11"
      },
      "source": [
        "### 2. 열 이름을 사용한 데이터 추출"
      ]
    },
    {
      "cell_type": "code",
      "source": [
        "df.query('행정구역별' == '서울특별시')\n",
        "df.query(\"행정구역별 in ('서울특별시', '경기도') and `2021` > 10000\")\n"
      ],
      "metadata": {
        "colab": {
          "base_uri": "https://localhost:8080/",
          "height": 165
        },
        "id": "BEQC5PpsDimi",
        "outputId": "384d2ec2-9e9b-461d-a37b-ece9011f270f"
      },
      "id": "BEQC5PpsDimi",
      "execution_count": 9,
      "outputs": [
        {
          "output_type": "error",
          "ename": "NameError",
          "evalue": "name 'df' is not defined",
          "traceback": [
            "\u001b[0;31m---------------------------------------------------------------------------\u001b[0m",
            "\u001b[0;31mNameError\u001b[0m                                 Traceback (most recent call last)",
            "\u001b[0;32m<ipython-input-9-166655698b2e>\u001b[0m in \u001b[0;36m<cell line: 1>\u001b[0;34m()\u001b[0m\n\u001b[0;32m----> 1\u001b[0;31m \u001b[0mdf\u001b[0m\u001b[0;34m.\u001b[0m\u001b[0mquery\u001b[0m\u001b[0;34m(\u001b[0m\u001b[0;34m'행정구역별'\u001b[0m \u001b[0;34m==\u001b[0m \u001b[0;34m'서울특별시'\u001b[0m\u001b[0;34m)\u001b[0m\u001b[0;34m\u001b[0m\u001b[0;34m\u001b[0m\u001b[0m\n\u001b[0m\u001b[1;32m      2\u001b[0m \u001b[0mdf\u001b[0m\u001b[0;34m.\u001b[0m\u001b[0mquery\u001b[0m\u001b[0;34m(\u001b[0m\u001b[0;34m\"행정구역별 in ('서울특별시', '경기도') and `2021` > 10000\"\u001b[0m\u001b[0;34m)\u001b[0m\u001b[0;34m\u001b[0m\u001b[0;34m\u001b[0m\u001b[0m\n",
            "\u001b[0;31mNameError\u001b[0m: name 'df' is not defined"
          ]
        }
      ]
    },
    {
      "cell_type": "code",
      "source": [
        "# Pandas?DataFrame에서 유용하게 사용하는 함수\n",
        "df.info() #데이터의 정보\n"
      ],
      "metadata": {
        "colab": {
          "base_uri": "https://localhost:8080/",
          "height": 165
        },
        "id": "4i_dU6YTE4uS",
        "outputId": "7feb323c-565a-4c02-d307-311b0e6e3d41"
      },
      "id": "4i_dU6YTE4uS",
      "execution_count": 10,
      "outputs": [
        {
          "output_type": "error",
          "ename": "NameError",
          "evalue": "name 'df' is not defined",
          "traceback": [
            "\u001b[0;31m---------------------------------------------------------------------------\u001b[0m",
            "\u001b[0;31mNameError\u001b[0m                                 Traceback (most recent call last)",
            "\u001b[0;32m<ipython-input-10-48335ee330c7>\u001b[0m in \u001b[0;36m<cell line: 2>\u001b[0;34m()\u001b[0m\n\u001b[1;32m      1\u001b[0m \u001b[0;31m# Pandas?DataFrame에서 유용하게 사용하는 함수\u001b[0m\u001b[0;34m\u001b[0m\u001b[0;34m\u001b[0m\u001b[0m\n\u001b[0;32m----> 2\u001b[0;31m \u001b[0mdf\u001b[0m\u001b[0;34m.\u001b[0m\u001b[0minfo\u001b[0m\u001b[0;34m(\u001b[0m\u001b[0;34m)\u001b[0m \u001b[0;31m#데이터의 정보\u001b[0m\u001b[0;34m\u001b[0m\u001b[0;34m\u001b[0m\u001b[0m\n\u001b[0m",
            "\u001b[0;31mNameError\u001b[0m: name 'df' is not defined"
          ]
        }
      ]
    },
    {
      "cell_type": "code",
      "source": [
        "df.describe()  #데이터의 기술통계 정보"
      ],
      "metadata": {
        "colab": {
          "base_uri": "https://localhost:8080/",
          "height": 146
        },
        "id": "cZ9I--X8FUfu",
        "outputId": "666dec6a-55f2-4f2b-8ad9-311a72f881a2"
      },
      "id": "cZ9I--X8FUfu",
      "execution_count": 11,
      "outputs": [
        {
          "output_type": "error",
          "ename": "NameError",
          "evalue": "name 'df' is not defined",
          "traceback": [
            "\u001b[0;31m---------------------------------------------------------------------------\u001b[0m",
            "\u001b[0;31mNameError\u001b[0m                                 Traceback (most recent call last)",
            "\u001b[0;32m<ipython-input-11-c0e4bca2688d>\u001b[0m in \u001b[0;36m<cell line: 1>\u001b[0;34m()\u001b[0m\n\u001b[0;32m----> 1\u001b[0;31m \u001b[0mdf\u001b[0m\u001b[0;34m.\u001b[0m\u001b[0mdescribe\u001b[0m\u001b[0;34m(\u001b[0m\u001b[0;34m)\u001b[0m \u001b[0;31m#데이터의 기술통계 정보\u001b[0m\u001b[0;34m\u001b[0m\u001b[0;34m\u001b[0m\u001b[0m\n\u001b[0m",
            "\u001b[0;31mNameError\u001b[0m: name 'df' is not defined"
          ]
        }
      ]
    },
    {
      "cell_type": "code",
      "execution_count": null,
      "id": "2cfd5799",
      "metadata": {
        "id": "2cfd5799",
        "outputId": "da52e580-7177-4ed4-db8b-5d09ce5a3d0c"
      },
      "outputs": [
        {
          "data": {
            "text/html": [
              "<div>\n",
              "<style scoped>\n",
              "    .dataframe tbody tr th:only-of-type {\n",
              "        vertical-align: middle;\n",
              "    }\n",
              "\n",
              "    .dataframe tbody tr th {\n",
              "        vertical-align: top;\n",
              "    }\n",
              "\n",
              "    .dataframe thead th {\n",
              "        text-align: right;\n",
              "    }\n",
              "</style>\n",
              "<table border=\"1\" class=\"dataframe\">\n",
              "  <thead>\n",
              "    <tr style=\"text-align: right;\">\n",
              "      <th></th>\n",
              "      <th>account</th>\n",
              "      <th>name</th>\n",
              "      <th>city</th>\n",
              "    </tr>\n",
              "  </thead>\n",
              "  <tbody>\n",
              "    <tr>\n",
              "      <th>0</th>\n",
              "      <td>211829</td>\n",
              "      <td>Kerluke, Koepp and Hilpert</td>\n",
              "      <td>New Jaycob</td>\n",
              "    </tr>\n",
              "    <tr>\n",
              "      <th>1</th>\n",
              "      <td>320563</td>\n",
              "      <td>Walter-Trantow</td>\n",
              "      <td>Port Khadijah</td>\n",
              "    </tr>\n",
              "    <tr>\n",
              "      <th>2</th>\n",
              "      <td>648336</td>\n",
              "      <td>Bashirian, Kunde and Price</td>\n",
              "      <td>New Lilianland</td>\n",
              "    </tr>\n",
              "    <tr>\n",
              "      <th>3</th>\n",
              "      <td>109996</td>\n",
              "      <td>D'Amore, Gleichner and Bode</td>\n",
              "      <td>Hyattburgh</td>\n",
              "    </tr>\n",
              "    <tr>\n",
              "      <th>4</th>\n",
              "      <td>121213</td>\n",
              "      <td>Bauch-Goldner</td>\n",
              "      <td>Shanahanchester</td>\n",
              "    </tr>\n",
              "  </tbody>\n",
              "</table>\n",
              "</div>"
            ],
            "text/plain": [
              "   account                         name             city\n",
              "0   211829   Kerluke, Koepp and Hilpert       New Jaycob\n",
              "1   320563               Walter-Trantow    Port Khadijah\n",
              "2   648336   Bashirian, Kunde and Price   New Lilianland\n",
              "3   109996  D'Amore, Gleichner and Bode       Hyattburgh\n",
              "4   121213                Bauch-Goldner  Shanahanchester"
            ]
          },
          "execution_count": 43,
          "metadata": {},
          "output_type": "execute_result"
        }
      ],
      "source": [
        "# 열 이름을 리스트 형태로 넣어 호출\n",
        "df[['account', 'name', 'city']] .head() ##대괄호 2개, 원래는 아까 하나만 보였는데, 하나일 땐 대괄호 안 써도 되는데, 여러개 볼 때는 대괄호 2개\n",
        "\n",
        "\n"
      ]
    },
    {
      "cell_type": "markdown",
      "id": "eab5476e",
      "metadata": {
        "id": "eab5476e"
      },
      "source": [
        "### 3. 행 번호를 사용한 데이터 추출"
      ]
    },
    {
      "cell_type": "code",
      "execution_count": null,
      "id": "713ea2a8",
      "metadata": {
        "scrolled": false,
        "id": "713ea2a8",
        "outputId": "5fa2bc0d-47c3-4eb1-8770-deb16fa97240"
      },
      "outputs": [
        {
          "data": {
            "text/html": [
              "<div>\n",
              "<style scoped>\n",
              "    .dataframe tbody tr th:only-of-type {\n",
              "        vertical-align: middle;\n",
              "    }\n",
              "\n",
              "    .dataframe tbody tr th {\n",
              "        vertical-align: top;\n",
              "    }\n",
              "\n",
              "    .dataframe thead th {\n",
              "        text-align: right;\n",
              "    }\n",
              "</style>\n",
              "<table border=\"1\" class=\"dataframe\">\n",
              "  <thead>\n",
              "    <tr style=\"text-align: right;\">\n",
              "      <th></th>\n",
              "      <th>account</th>\n",
              "      <th>name</th>\n",
              "      <th>street</th>\n",
              "      <th>city</th>\n",
              "      <th>state</th>\n",
              "      <th>postal-code</th>\n",
              "      <th>Jan</th>\n",
              "      <th>Feb</th>\n",
              "      <th>Mar</th>\n",
              "    </tr>\n",
              "  </thead>\n",
              "  <tbody>\n",
              "    <tr>\n",
              "      <th>0</th>\n",
              "      <td>211829</td>\n",
              "      <td>Kerluke, Koepp and Hilpert</td>\n",
              "      <td>34456 Sean Highway</td>\n",
              "      <td>New Jaycob</td>\n",
              "      <td>Texas</td>\n",
              "      <td>28752</td>\n",
              "      <td>10000</td>\n",
              "      <td>62000</td>\n",
              "      <td>35000</td>\n",
              "    </tr>\n",
              "    <tr>\n",
              "      <th>1</th>\n",
              "      <td>320563</td>\n",
              "      <td>Walter-Trantow</td>\n",
              "      <td>1311 Alvis Tunnel</td>\n",
              "      <td>Port Khadijah</td>\n",
              "      <td>NorthCarolina</td>\n",
              "      <td>38365</td>\n",
              "      <td>95000</td>\n",
              "      <td>45000</td>\n",
              "      <td>35000</td>\n",
              "    </tr>\n",
              "    <tr>\n",
              "      <th>2</th>\n",
              "      <td>648336</td>\n",
              "      <td>Bashirian, Kunde and Price</td>\n",
              "      <td>62184 Schamberger Underpass Apt. 231</td>\n",
              "      <td>New Lilianland</td>\n",
              "      <td>Iowa</td>\n",
              "      <td>76517</td>\n",
              "      <td>91000</td>\n",
              "      <td>120000</td>\n",
              "      <td>35000</td>\n",
              "    </tr>\n",
              "  </tbody>\n",
              "</table>\n",
              "</div>"
            ],
            "text/plain": [
              "   account                        name                                street  \\\n",
              "0   211829  Kerluke, Koepp and Hilpert                    34456 Sean Highway   \n",
              "1   320563              Walter-Trantow                     1311 Alvis Tunnel   \n",
              "2   648336  Bashirian, Kunde and Price  62184 Schamberger Underpass Apt. 231   \n",
              "\n",
              "             city          state  postal-code    Jan     Feb    Mar  \n",
              "0      New Jaycob          Texas        28752  10000   62000  35000  \n",
              "1   Port Khadijah  NorthCarolina        38365  95000   45000  35000  \n",
              "2  New Lilianland           Iowa        76517  91000  120000  35000  "
            ]
          },
          "execution_count": 44,
          "metadata": {},
          "output_type": "execute_result"
        }
      ],
      "source": [
        "# 인덱스 번호로 호출\n",
        "df[:3]"
      ]
    },
    {
      "cell_type": "markdown",
      "id": "41fdf695",
      "metadata": {
        "id": "41fdf695"
      },
      "source": [
        "### 4. 행과 열을 모두 사용한 데이터 추출"
      ]
    },
    {
      "cell_type": "code",
      "execution_count": null,
      "id": "bc00a52b",
      "metadata": {
        "id": "bc00a52b",
        "outputId": "ee7afe9f-bcb3-40d2-f2ce-10e5a3372927"
      },
      "outputs": [
        {
          "data": {
            "text/html": [
              "<div>\n",
              "<style scoped>\n",
              "    .dataframe tbody tr th:only-of-type {\n",
              "        vertical-align: middle;\n",
              "    }\n",
              "\n",
              "    .dataframe tbody tr th {\n",
              "        vertical-align: top;\n",
              "    }\n",
              "\n",
              "    .dataframe thead th {\n",
              "        text-align: right;\n",
              "    }\n",
              "</style>\n",
              "<table border=\"1\" class=\"dataframe\">\n",
              "  <thead>\n",
              "    <tr style=\"text-align: right;\">\n",
              "      <th></th>\n",
              "      <th>account</th>\n",
              "      <th>name</th>\n",
              "      <th>city</th>\n",
              "    </tr>\n",
              "  </thead>\n",
              "  <tbody>\n",
              "    <tr>\n",
              "      <th>0</th>\n",
              "      <td>211829</td>\n",
              "      <td>Kerluke, Koepp and Hilpert</td>\n",
              "      <td>New Jaycob</td>\n",
              "    </tr>\n",
              "    <tr>\n",
              "      <th>1</th>\n",
              "      <td>320563</td>\n",
              "      <td>Walter-Trantow</td>\n",
              "      <td>Port Khadijah</td>\n",
              "    </tr>\n",
              "    <tr>\n",
              "      <th>2</th>\n",
              "      <td>648336</td>\n",
              "      <td>Bashirian, Kunde and Price</td>\n",
              "      <td>New Lilianland</td>\n",
              "    </tr>\n",
              "  </tbody>\n",
              "</table>\n",
              "</div>"
            ],
            "text/plain": [
              "   account                        name            city\n",
              "0   211829  Kerluke, Koepp and Hilpert      New Jaycob\n",
              "1   320563              Walter-Trantow   Port Khadijah\n",
              "2   648336  Bashirian, Kunde and Price  New Lilianland"
            ]
          },
          "execution_count": 47,
          "metadata": {},
          "output_type": "execute_result"
        }
      ],
      "source": [
        "# 열 이름, 인덱스 번호 둘 다 사용해서 호출\n",
        "df[['account', 'name', 'city']][:3]\n"
      ]
    },
    {
      "cell_type": "code",
      "execution_count": null,
      "id": "e2dc92f5",
      "metadata": {
        "id": "e2dc92f5",
        "outputId": "59a0ca19-ba9f-41ce-8001-b639f431c2bc"
      },
      "outputs": [
        {
          "data": {
            "text/html": [
              "<div>\n",
              "<style scoped>\n",
              "    .dataframe tbody tr th:only-of-type {\n",
              "        vertical-align: middle;\n",
              "    }\n",
              "\n",
              "    .dataframe tbody tr th {\n",
              "        vertical-align: top;\n",
              "    }\n",
              "\n",
              "    .dataframe thead th {\n",
              "        text-align: right;\n",
              "    }\n",
              "</style>\n",
              "<table border=\"1\" class=\"dataframe\">\n",
              "  <thead>\n",
              "    <tr style=\"text-align: right;\">\n",
              "      <th></th>\n",
              "      <th>account</th>\n",
              "      <th>name</th>\n",
              "      <th>street</th>\n",
              "      <th>city</th>\n",
              "      <th>state</th>\n",
              "      <th>postal-code</th>\n",
              "      <th>Jan</th>\n",
              "      <th>Feb</th>\n",
              "      <th>Mar</th>\n",
              "    </tr>\n",
              "    <tr>\n",
              "      <th>account</th>\n",
              "      <th></th>\n",
              "      <th></th>\n",
              "      <th></th>\n",
              "      <th></th>\n",
              "      <th></th>\n",
              "      <th></th>\n",
              "      <th></th>\n",
              "      <th></th>\n",
              "      <th></th>\n",
              "    </tr>\n",
              "  </thead>\n",
              "  <tbody>\n",
              "    <tr>\n",
              "      <th>211829</th>\n",
              "      <td>211829</td>\n",
              "      <td>Kerluke, Koepp and Hilpert</td>\n",
              "      <td>34456 Sean Highway</td>\n",
              "      <td>New Jaycob</td>\n",
              "      <td>Texas</td>\n",
              "      <td>28752</td>\n",
              "      <td>10000</td>\n",
              "      <td>62000</td>\n",
              "      <td>35000</td>\n",
              "    </tr>\n",
              "    <tr>\n",
              "      <th>320563</th>\n",
              "      <td>320563</td>\n",
              "      <td>Walter-Trantow</td>\n",
              "      <td>1311 Alvis Tunnel</td>\n",
              "      <td>Port Khadijah</td>\n",
              "      <td>NorthCarolina</td>\n",
              "      <td>38365</td>\n",
              "      <td>95000</td>\n",
              "      <td>45000</td>\n",
              "      <td>35000</td>\n",
              "    </tr>\n",
              "    <tr>\n",
              "      <th>648336</th>\n",
              "      <td>648336</td>\n",
              "      <td>Bashirian, Kunde and Price</td>\n",
              "      <td>62184 Schamberger Underpass Apt. 231</td>\n",
              "      <td>New Lilianland</td>\n",
              "      <td>Iowa</td>\n",
              "      <td>76517</td>\n",
              "      <td>91000</td>\n",
              "      <td>120000</td>\n",
              "      <td>35000</td>\n",
              "    </tr>\n",
              "    <tr>\n",
              "      <th>109996</th>\n",
              "      <td>109996</td>\n",
              "      <td>D'Amore, Gleichner and Bode</td>\n",
              "      <td>155 Fadel Crescent Apt. 144</td>\n",
              "      <td>Hyattburgh</td>\n",
              "      <td>Maine</td>\n",
              "      <td>46021</td>\n",
              "      <td>45000</td>\n",
              "      <td>120000</td>\n",
              "      <td>10000</td>\n",
              "    </tr>\n",
              "    <tr>\n",
              "      <th>121213</th>\n",
              "      <td>121213</td>\n",
              "      <td>Bauch-Goldner</td>\n",
              "      <td>7274 Marissa Common</td>\n",
              "      <td>Shanahanchester</td>\n",
              "      <td>California</td>\n",
              "      <td>49681</td>\n",
              "      <td>162000</td>\n",
              "      <td>120000</td>\n",
              "      <td>35000</td>\n",
              "    </tr>\n",
              "    <tr>\n",
              "      <th>132971</th>\n",
              "      <td>132971</td>\n",
              "      <td>Williamson, Schumm and Hettinger</td>\n",
              "      <td>89403 Casimer Spring</td>\n",
              "      <td>Jeremieburgh</td>\n",
              "      <td>Arkansas</td>\n",
              "      <td>62785</td>\n",
              "      <td>150000</td>\n",
              "      <td>120000</td>\n",
              "      <td>35000</td>\n",
              "    </tr>\n",
              "    <tr>\n",
              "      <th>145068</th>\n",
              "      <td>145068</td>\n",
              "      <td>Casper LLC</td>\n",
              "      <td>340 Consuela Bridge Apt. 400</td>\n",
              "      <td>Lake Gabriellaton</td>\n",
              "      <td>Mississipi</td>\n",
              "      <td>18008</td>\n",
              "      <td>62000</td>\n",
              "      <td>120000</td>\n",
              "      <td>70000</td>\n",
              "    </tr>\n",
              "    <tr>\n",
              "      <th>205217</th>\n",
              "      <td>205217</td>\n",
              "      <td>Kovacek-Johnston</td>\n",
              "      <td>91971 Cronin Vista Suite 601</td>\n",
              "      <td>Deronville</td>\n",
              "      <td>RhodeIsland</td>\n",
              "      <td>53461</td>\n",
              "      <td>145000</td>\n",
              "      <td>95000</td>\n",
              "      <td>35000</td>\n",
              "    </tr>\n",
              "    <tr>\n",
              "      <th>209744</th>\n",
              "      <td>209744</td>\n",
              "      <td>Champlin-Morar</td>\n",
              "      <td>26739 Grant Lock</td>\n",
              "      <td>Lake Juliannton</td>\n",
              "      <td>Pennsylvania</td>\n",
              "      <td>64415</td>\n",
              "      <td>70000</td>\n",
              "      <td>95000</td>\n",
              "      <td>35000</td>\n",
              "    </tr>\n",
              "    <tr>\n",
              "      <th>212303</th>\n",
              "      <td>212303</td>\n",
              "      <td>Gerhold-Maggio</td>\n",
              "      <td>366 Maggio Grove Apt. 998</td>\n",
              "      <td>North Ras</td>\n",
              "      <td>Idaho</td>\n",
              "      <td>46308</td>\n",
              "      <td>70000</td>\n",
              "      <td>120000</td>\n",
              "      <td>35000</td>\n",
              "    </tr>\n",
              "    <tr>\n",
              "      <th>214098</th>\n",
              "      <td>214098</td>\n",
              "      <td>Goodwin, Homenick and Jerde</td>\n",
              "      <td>649 Cierra Forks Apt. 078</td>\n",
              "      <td>Rosaberg</td>\n",
              "      <td>Tenessee</td>\n",
              "      <td>47743</td>\n",
              "      <td>45000</td>\n",
              "      <td>120000</td>\n",
              "      <td>55000</td>\n",
              "    </tr>\n",
              "    <tr>\n",
              "      <th>231907</th>\n",
              "      <td>231907</td>\n",
              "      <td>Hahn-Moore</td>\n",
              "      <td>18115 Olivine Throughway</td>\n",
              "      <td>Norbertomouth</td>\n",
              "      <td>NorthDakota</td>\n",
              "      <td>31415</td>\n",
              "      <td>150000</td>\n",
              "      <td>10000</td>\n",
              "      <td>162000</td>\n",
              "    </tr>\n",
              "    <tr>\n",
              "      <th>242368</th>\n",
              "      <td>242368</td>\n",
              "      <td>Frami, Anderson and Donnelly</td>\n",
              "      <td>182 Bertie Road</td>\n",
              "      <td>East Davian</td>\n",
              "      <td>Iowa</td>\n",
              "      <td>72686</td>\n",
              "      <td>162000</td>\n",
              "      <td>120000</td>\n",
              "      <td>35000</td>\n",
              "    </tr>\n",
              "    <tr>\n",
              "      <th>268755</th>\n",
              "      <td>268755</td>\n",
              "      <td>Walsh-Haley</td>\n",
              "      <td>2624 Beatty Parkways</td>\n",
              "      <td>Goodwinmouth</td>\n",
              "      <td>RhodeIsland</td>\n",
              "      <td>31919</td>\n",
              "      <td>55000</td>\n",
              "      <td>120000</td>\n",
              "      <td>35000</td>\n",
              "    </tr>\n",
              "    <tr>\n",
              "      <th>273274</th>\n",
              "      <td>273274</td>\n",
              "      <td>McDermott PLC</td>\n",
              "      <td>8917 Bergstrom Meadow</td>\n",
              "      <td>Kathryneborough</td>\n",
              "      <td>Delaware</td>\n",
              "      <td>27933</td>\n",
              "      <td>150000</td>\n",
              "      <td>120000</td>\n",
              "      <td>70000</td>\n",
              "    </tr>\n",
              "  </tbody>\n",
              "</table>\n",
              "</div>"
            ],
            "text/plain": [
              "         account                              name  \\\n",
              "account                                              \n",
              "211829    211829        Kerluke, Koepp and Hilpert   \n",
              "320563    320563                    Walter-Trantow   \n",
              "648336    648336        Bashirian, Kunde and Price   \n",
              "109996    109996       D'Amore, Gleichner and Bode   \n",
              "121213    121213                     Bauch-Goldner   \n",
              "132971    132971  Williamson, Schumm and Hettinger   \n",
              "145068    145068                        Casper LLC   \n",
              "205217    205217                  Kovacek-Johnston   \n",
              "209744    209744                    Champlin-Morar   \n",
              "212303    212303                    Gerhold-Maggio   \n",
              "214098    214098       Goodwin, Homenick and Jerde   \n",
              "231907    231907                        Hahn-Moore   \n",
              "242368    242368      Frami, Anderson and Donnelly   \n",
              "268755    268755                       Walsh-Haley   \n",
              "273274    273274                     McDermott PLC   \n",
              "\n",
              "                                       street               city  \\\n",
              "account                                                            \n",
              "211829                     34456 Sean Highway         New Jaycob   \n",
              "320563                      1311 Alvis Tunnel      Port Khadijah   \n",
              "648336   62184 Schamberger Underpass Apt. 231     New Lilianland   \n",
              "109996            155 Fadel Crescent Apt. 144         Hyattburgh   \n",
              "121213                    7274 Marissa Common    Shanahanchester   \n",
              "132971                   89403 Casimer Spring       Jeremieburgh   \n",
              "145068           340 Consuela Bridge Apt. 400  Lake Gabriellaton   \n",
              "205217           91971 Cronin Vista Suite 601         Deronville   \n",
              "209744                       26739 Grant Lock    Lake Juliannton   \n",
              "212303              366 Maggio Grove Apt. 998          North Ras   \n",
              "214098              649 Cierra Forks Apt. 078           Rosaberg   \n",
              "231907               18115 Olivine Throughway      Norbertomouth   \n",
              "242368                        182 Bertie Road        East Davian   \n",
              "268755                   2624 Beatty Parkways       Goodwinmouth   \n",
              "273274                  8917 Bergstrom Meadow    Kathryneborough   \n",
              "\n",
              "                 state  postal-code     Jan     Feb     Mar  \n",
              "account                                                      \n",
              "211829           Texas        28752   10000   62000   35000  \n",
              "320563   NorthCarolina        38365   95000   45000   35000  \n",
              "648336            Iowa        76517   91000  120000   35000  \n",
              "109996           Maine        46021   45000  120000   10000  \n",
              "121213      California        49681  162000  120000   35000  \n",
              "132971        Arkansas        62785  150000  120000   35000  \n",
              "145068      Mississipi        18008   62000  120000   70000  \n",
              "205217     RhodeIsland        53461  145000   95000   35000  \n",
              "209744    Pennsylvania        64415   70000   95000   35000  \n",
              "212303           Idaho        46308   70000  120000   35000  \n",
              "214098        Tenessee        47743   45000  120000   55000  \n",
              "231907     NorthDakota        31415  150000   10000  162000  \n",
              "242368            Iowa        72686  162000  120000   35000  \n",
              "268755     RhodeIsland        31919   55000  120000   35000  \n",
              "273274        Delaware        27933  150000  120000   70000  "
            ]
          },
          "execution_count": 49,
          "metadata": {},
          "output_type": "execute_result"
        }
      ],
      "source": [
        "# 인덱스 변경하기\n",
        " # df.index\n",
        "df.index = df['account']\n",
        "del df['account']\n",
        "df\n"
      ]
    },
    {
      "cell_type": "code",
      "execution_count": null,
      "id": "f9cbd8d4",
      "metadata": {
        "scrolled": true,
        "id": "f9cbd8d4",
        "outputId": "7a8cf6fa-81d7-4a7c-d11c-f08aa78e7d0a"
      },
      "outputs": [
        {
          "data": {
            "text/html": [
              "<div>\n",
              "<style scoped>\n",
              "    .dataframe tbody tr th:only-of-type {\n",
              "        vertical-align: middle;\n",
              "    }\n",
              "\n",
              "    .dataframe tbody tr th {\n",
              "        vertical-align: top;\n",
              "    }\n",
              "\n",
              "    .dataframe thead th {\n",
              "        text-align: right;\n",
              "    }\n",
              "</style>\n",
              "<table border=\"1\" class=\"dataframe\">\n",
              "  <thead>\n",
              "    <tr style=\"text-align: right;\">\n",
              "      <th></th>\n",
              "      <th>name</th>\n",
              "      <th>city</th>\n",
              "    </tr>\n",
              "    <tr>\n",
              "      <th>account</th>\n",
              "      <th></th>\n",
              "      <th></th>\n",
              "    </tr>\n",
              "  </thead>\n",
              "  <tbody>\n",
              "    <tr>\n",
              "      <th>211829</th>\n",
              "      <td>Kerluke, Koepp and Hilpert</td>\n",
              "      <td>New Jaycob</td>\n",
              "    </tr>\n",
              "    <tr>\n",
              "      <th>320563</th>\n",
              "      <td>Walter-Trantow</td>\n",
              "      <td>Port Khadijah</td>\n",
              "    </tr>\n",
              "    <tr>\n",
              "      <th>648336</th>\n",
              "      <td>Bashirian, Kunde and Price</td>\n",
              "      <td>New Lilianland</td>\n",
              "    </tr>\n",
              "  </tbody>\n",
              "</table>\n",
              "</div>"
            ],
            "text/plain": [
              "                               name            city\n",
              "account                                            \n",
              "211829   Kerluke, Koepp and Hilpert      New Jaycob\n",
              "320563               Walter-Trantow   Port Khadijah\n",
              "648336   Bashirian, Kunde and Price  New Lilianland"
            ]
          },
          "execution_count": 50,
          "metadata": {},
          "output_type": "execute_result"
        }
      ],
      "source": [
        "# loc 함수 : 인덱스 이름과 열 이름으로 데이터 추출\n",
        "df.loc[:648336, ['name', 'city']]"
      ]
    },
    {
      "cell_type": "code",
      "execution_count": null,
      "id": "b198b2fe",
      "metadata": {
        "id": "b198b2fe",
        "outputId": "87bf8978-6fe9-40cb-8d27-b242d0ab1314"
      },
      "outputs": [
        {
          "data": {
            "text/html": [
              "<div>\n",
              "<style scoped>\n",
              "    .dataframe tbody tr th:only-of-type {\n",
              "        vertical-align: middle;\n",
              "    }\n",
              "\n",
              "    .dataframe tbody tr th {\n",
              "        vertical-align: top;\n",
              "    }\n",
              "\n",
              "    .dataframe thead th {\n",
              "        text-align: right;\n",
              "    }\n",
              "</style>\n",
              "<table border=\"1\" class=\"dataframe\">\n",
              "  <thead>\n",
              "    <tr style=\"text-align: right;\">\n",
              "      <th></th>\n",
              "      <th>street</th>\n",
              "      <th>city</th>\n",
              "    </tr>\n",
              "    <tr>\n",
              "      <th>account</th>\n",
              "      <th></th>\n",
              "      <th></th>\n",
              "    </tr>\n",
              "  </thead>\n",
              "  <tbody>\n",
              "    <tr>\n",
              "      <th>648336</th>\n",
              "      <td>62184 Schamberger Underpass Apt. 231</td>\n",
              "      <td>New Lilianland</td>\n",
              "    </tr>\n",
              "    <tr>\n",
              "      <th>109996</th>\n",
              "      <td>155 Fadel Crescent Apt. 144</td>\n",
              "      <td>Hyattburgh</td>\n",
              "    </tr>\n",
              "  </tbody>\n",
              "</table>\n",
              "</div>"
            ],
            "text/plain": [
              "                                       street            city\n",
              "account                                                      \n",
              "648336   62184 Schamberger Underpass Apt. 231  New Lilianland\n",
              "109996            155 Fadel Crescent Apt. 144      Hyattburgh"
            ]
          },
          "execution_count": 53,
          "metadata": {},
          "output_type": "execute_result"
        }
      ],
      "source": [
        "# iloc 함수 :  인덱스 번호로만 데이터 호출\n",
        "df.iloc[2:4, 2:4]   ## 인덱스 이름이 바뀌었더라도 내부적으로 0,1,2,3...."
      ]
    },
    {
      "cell_type": "markdown",
      "id": "8aa154e9",
      "metadata": {
        "id": "8aa154e9"
      },
      "source": [
        "### 5.새로운 인덱스 할당"
      ]
    },
    {
      "cell_type": "code",
      "execution_count": null,
      "id": "fa4d0a0b",
      "metadata": {
        "id": "fa4d0a0b",
        "outputId": "657d64a0-9408-4cac-a68f-6c633fdb9b01"
      },
      "outputs": [
        {
          "data": {
            "text/html": [
              "<div>\n",
              "<style scoped>\n",
              "    .dataframe tbody tr th:only-of-type {\n",
              "        vertical-align: middle;\n",
              "    }\n",
              "\n",
              "    .dataframe tbody tr th {\n",
              "        vertical-align: top;\n",
              "    }\n",
              "\n",
              "    .dataframe thead th {\n",
              "        text-align: right;\n",
              "    }\n",
              "</style>\n",
              "<table border=\"1\" class=\"dataframe\">\n",
              "  <thead>\n",
              "    <tr style=\"text-align: right;\">\n",
              "      <th></th>\n",
              "      <th>index</th>\n",
              "      <th>sepal length (cm)</th>\n",
              "      <th>sepal width (cm)</th>\n",
              "      <th>petal length (cm)</th>\n",
              "      <th>petal width (cm)</th>\n",
              "      <th>result</th>\n",
              "      <th>result_name</th>\n",
              "    </tr>\n",
              "  </thead>\n",
              "  <tbody>\n",
              "    <tr>\n",
              "      <th>0</th>\n",
              "      <td>0</td>\n",
              "      <td>5.1</td>\n",
              "      <td>3.5</td>\n",
              "      <td>1.4</td>\n",
              "      <td>0.2</td>\n",
              "      <td>0</td>\n",
              "      <td>setosa</td>\n",
              "    </tr>\n",
              "    <tr>\n",
              "      <th>1</th>\n",
              "      <td>1</td>\n",
              "      <td>4.9</td>\n",
              "      <td>3.0</td>\n",
              "      <td>1.4</td>\n",
              "      <td>0.2</td>\n",
              "      <td>0</td>\n",
              "      <td>setosa</td>\n",
              "    </tr>\n",
              "    <tr>\n",
              "      <th>2</th>\n",
              "      <td>2</td>\n",
              "      <td>4.7</td>\n",
              "      <td>3.2</td>\n",
              "      <td>1.3</td>\n",
              "      <td>0.2</td>\n",
              "      <td>0</td>\n",
              "      <td>setosa</td>\n",
              "    </tr>\n",
              "  </tbody>\n",
              "</table>\n",
              "</div>"
            ],
            "text/plain": [
              "   index  sepal length (cm)  sepal width (cm)  petal length (cm)  \\\n",
              "0      0                5.1               3.5                1.4   \n",
              "1      1                4.9               3.0                1.4   \n",
              "2      2                4.7               3.2                1.3   \n",
              "\n",
              "   petal width (cm)  result result_name  \n",
              "0               0.2       0      setosa  \n",
              "1               0.2       0      setosa  \n",
              "2               0.2       0      setosa  "
            ]
          },
          "execution_count": 23,
          "metadata": {},
          "output_type": "execute_result"
        }
      ],
      "source": [
        "# reset_index 함수로 새로운 인덱스 할당된 객체 생성 ##처음으로 돌아가고 싶어\n",
        "\n",
        "df_new = df.reset_index()\n",
        "df_new.head(3)\n",
        "\n"
      ]
    },
    {
      "cell_type": "markdown",
      "id": "64a58f95",
      "metadata": {
        "id": "64a58f95"
      },
      "source": [
        "### 6. drop 함수"
      ]
    },
    {
      "cell_type": "code",
      "execution_count": null,
      "id": "69b045ff",
      "metadata": {
        "id": "69b045ff",
        "outputId": "e82c6a20-a3de-432a-ce45-9cf81c4746f0"
      },
      "outputs": [
        {
          "data": {
            "text/html": [
              "<div>\n",
              "<style scoped>\n",
              "    .dataframe tbody tr th:only-of-type {\n",
              "        vertical-align: middle;\n",
              "    }\n",
              "\n",
              "    .dataframe tbody tr th {\n",
              "        vertical-align: top;\n",
              "    }\n",
              "\n",
              "    .dataframe thead th {\n",
              "        text-align: right;\n",
              "    }\n",
              "</style>\n",
              "<table border=\"1\" class=\"dataframe\">\n",
              "  <thead>\n",
              "    <tr style=\"text-align: right;\">\n",
              "      <th></th>\n",
              "      <th>index</th>\n",
              "      <th>sepal length (cm)</th>\n",
              "      <th>sepal width (cm)</th>\n",
              "      <th>petal length (cm)</th>\n",
              "      <th>petal width (cm)</th>\n",
              "      <th>result</th>\n",
              "      <th>result_name</th>\n",
              "    </tr>\n",
              "  </thead>\n",
              "  <tbody>\n",
              "    <tr>\n",
              "      <th>1</th>\n",
              "      <td>1</td>\n",
              "      <td>4.9</td>\n",
              "      <td>3.0</td>\n",
              "      <td>1.4</td>\n",
              "      <td>0.2</td>\n",
              "      <td>0</td>\n",
              "      <td>setosa</td>\n",
              "    </tr>\n",
              "    <tr>\n",
              "      <th>2</th>\n",
              "      <td>2</td>\n",
              "      <td>4.7</td>\n",
              "      <td>3.2</td>\n",
              "      <td>1.3</td>\n",
              "      <td>0.2</td>\n",
              "      <td>0</td>\n",
              "      <td>setosa</td>\n",
              "    </tr>\n",
              "    <tr>\n",
              "      <th>3</th>\n",
              "      <td>3</td>\n",
              "      <td>4.6</td>\n",
              "      <td>3.1</td>\n",
              "      <td>1.5</td>\n",
              "      <td>0.2</td>\n",
              "      <td>0</td>\n",
              "      <td>setosa</td>\n",
              "    </tr>\n",
              "    <tr>\n",
              "      <th>4</th>\n",
              "      <td>4</td>\n",
              "      <td>5.0</td>\n",
              "      <td>3.6</td>\n",
              "      <td>1.4</td>\n",
              "      <td>0.2</td>\n",
              "      <td>0</td>\n",
              "      <td>setosa</td>\n",
              "    </tr>\n",
              "    <tr>\n",
              "      <th>5</th>\n",
              "      <td>5</td>\n",
              "      <td>5.4</td>\n",
              "      <td>3.9</td>\n",
              "      <td>1.7</td>\n",
              "      <td>0.4</td>\n",
              "      <td>0</td>\n",
              "      <td>setosa</td>\n",
              "    </tr>\n",
              "    <tr>\n",
              "      <th>...</th>\n",
              "      <td>...</td>\n",
              "      <td>...</td>\n",
              "      <td>...</td>\n",
              "      <td>...</td>\n",
              "      <td>...</td>\n",
              "      <td>...</td>\n",
              "      <td>...</td>\n",
              "    </tr>\n",
              "    <tr>\n",
              "      <th>145</th>\n",
              "      <td>145</td>\n",
              "      <td>6.7</td>\n",
              "      <td>3.0</td>\n",
              "      <td>5.2</td>\n",
              "      <td>2.3</td>\n",
              "      <td>2</td>\n",
              "      <td>virginica</td>\n",
              "    </tr>\n",
              "    <tr>\n",
              "      <th>146</th>\n",
              "      <td>146</td>\n",
              "      <td>6.3</td>\n",
              "      <td>2.5</td>\n",
              "      <td>5.0</td>\n",
              "      <td>1.9</td>\n",
              "      <td>2</td>\n",
              "      <td>virginica</td>\n",
              "    </tr>\n",
              "    <tr>\n",
              "      <th>147</th>\n",
              "      <td>147</td>\n",
              "      <td>6.5</td>\n",
              "      <td>3.0</td>\n",
              "      <td>5.2</td>\n",
              "      <td>2.0</td>\n",
              "      <td>2</td>\n",
              "      <td>virginica</td>\n",
              "    </tr>\n",
              "    <tr>\n",
              "      <th>148</th>\n",
              "      <td>148</td>\n",
              "      <td>6.2</td>\n",
              "      <td>3.4</td>\n",
              "      <td>5.4</td>\n",
              "      <td>2.3</td>\n",
              "      <td>2</td>\n",
              "      <td>virginica</td>\n",
              "    </tr>\n",
              "    <tr>\n",
              "      <th>149</th>\n",
              "      <td>149</td>\n",
              "      <td>5.9</td>\n",
              "      <td>3.0</td>\n",
              "      <td>5.1</td>\n",
              "      <td>1.8</td>\n",
              "      <td>2</td>\n",
              "      <td>virginica</td>\n",
              "    </tr>\n",
              "  </tbody>\n",
              "</table>\n",
              "<p>149 rows × 7 columns</p>\n",
              "</div>"
            ],
            "text/plain": [
              "     index  sepal length (cm)  sepal width (cm)  petal length (cm)  \\\n",
              "1        1                4.9               3.0                1.4   \n",
              "2        2                4.7               3.2                1.3   \n",
              "3        3                4.6               3.1                1.5   \n",
              "4        4                5.0               3.6                1.4   \n",
              "5        5                5.4               3.9                1.7   \n",
              "..     ...                ...               ...                ...   \n",
              "145    145                6.7               3.0                5.2   \n",
              "146    146                6.3               2.5                5.0   \n",
              "147    147                6.5               3.0                5.2   \n",
              "148    148                6.2               3.4                5.4   \n",
              "149    149                5.9               3.0                5.1   \n",
              "\n",
              "     petal width (cm)  result result_name  \n",
              "1                 0.2       0      setosa  \n",
              "2                 0.2       0      setosa  \n",
              "3                 0.2       0      setosa  \n",
              "4                 0.2       0      setosa  \n",
              "5                 0.4       0      setosa  \n",
              "..                ...     ...         ...  \n",
              "145               2.3       2   virginica  \n",
              "146               1.9       2   virginica  \n",
              "147               2.0       2   virginica  \n",
              "148               2.3       2   virginica  \n",
              "149               1.8       2   virginica  \n",
              "\n",
              "[149 rows x 7 columns]"
            ]
          },
          "execution_count": 24,
          "metadata": {},
          "output_type": "execute_result"
        }
      ],
      "source": [
        "# drop 함수 : 특정 열이나 행을 삭제한 객체를 반환\n",
        "# 컬럼 삭제(axis)\n",
        "\n",
        "#df_new.drop('street', axis=1, inplace=True) # 1개 컬럼 삭제\n",
        "# df_new.drop(['city', 'street'], axis=1)\n",
        "#df_new.drop(['city', 'street'], axis=1, inplace=True) # 여러개 컬럼 삭제\n",
        "#df_new\n",
        "\n",
        "\n",
        "# 행 삭제 (axis=0 : default)\n",
        "df_new.drop(0, inplace=True) ###인플레이스 트루를 적어야 진짜로 삭제가 된\n",
        "#df_new.drop(0, axis=0, inplace=True)\n",
        "df_new\n",
        "\n",
        "\n",
        "\n",
        "\n"
      ]
    },
    {
      "cell_type": "code",
      "execution_count": null,
      "id": "b22f4414",
      "metadata": {
        "id": "b22f4414"
      },
      "outputs": [],
      "source": [
        "# 행 삭제 (axis=0 : default)\n",
        "# df_new.drop(4, inplace=True) ###인플레이스 트루를 적어야 진짜로 삭제가 된\n",
        "# df_new.drop(4, axis=0, inplace=True)\n",
        "df_new.drop([2,5,6], axis=0, inplace=True)\n",
        "df_new"
      ]
    },
    {
      "cell_type": "markdown",
      "id": "285880b7",
      "metadata": {
        "id": "285880b7"
      },
      "source": [
        "------------------------"
      ]
    },
    {
      "cell_type": "markdown",
      "id": "89e3c211",
      "metadata": {
        "id": "89e3c211"
      },
      "source": [
        "## <a name=\"04.3그룹별집계\">04.3 그룹별 집계</a>"
      ]
    },
    {
      "cell_type": "markdown",
      "id": "4d530aba",
      "metadata": {
        "id": "4d530aba"
      },
      "source": [
        "### 1. 그룹별 집계의 개념\n",
        "- 그룹별 집계(groupby) : 데이터로부터 동일한 객체를 가진 데이터만 따로 뽑아 기술통계 데이터를 추출\n",
        "- 엑셀의 피봇테이블(pivot table) 기능과 비슷\n",
        "- groupby 명령어는 분할→적용→결합 과정을 거침\n",
        " - - 분할(split) : 같은 종류의 데이터끼리 나누는 기능 <br>\n",
        " - - 적용(apply) : 데이터 블록마다 sum, count, mean 등 연산 적용\n",
        " - - 결합(combine) : 연산 함수가 적용된 각 블록들을 합침"
      ]
    },
    {
      "cell_type": "markdown",
      "id": "730af36b",
      "metadata": {
        "id": "730af36b"
      },
      "source": [
        "### 2. 그룹별 집계 사용하기"
      ]
    },
    {
      "cell_type": "code",
      "execution_count": null,
      "id": "b56b196e",
      "metadata": {
        "id": "b56b196e",
        "outputId": "4086ea65-6728-48d6-adb5-2a62a49387aa"
      },
      "outputs": [
        {
          "data": {
            "text/html": [
              "<div>\n",
              "<style scoped>\n",
              "    .dataframe tbody tr th:only-of-type {\n",
              "        vertical-align: middle;\n",
              "    }\n",
              "\n",
              "    .dataframe tbody tr th {\n",
              "        vertical-align: top;\n",
              "    }\n",
              "\n",
              "    .dataframe thead th {\n",
              "        text-align: right;\n",
              "    }\n",
              "</style>\n",
              "<table border=\"1\" class=\"dataframe\">\n",
              "  <thead>\n",
              "    <tr style=\"text-align: right;\">\n",
              "      <th></th>\n",
              "      <th>Team</th>\n",
              "      <th>Rank</th>\n",
              "      <th>Year</th>\n",
              "      <th>Points</th>\n",
              "    </tr>\n",
              "  </thead>\n",
              "  <tbody>\n",
              "    <tr>\n",
              "      <th>0</th>\n",
              "      <td>Riders</td>\n",
              "      <td>1</td>\n",
              "      <td>2014</td>\n",
              "      <td>876</td>\n",
              "    </tr>\n",
              "    <tr>\n",
              "      <th>1</th>\n",
              "      <td>Riders</td>\n",
              "      <td>2</td>\n",
              "      <td>2015</td>\n",
              "      <td>789</td>\n",
              "    </tr>\n",
              "    <tr>\n",
              "      <th>2</th>\n",
              "      <td>Devils</td>\n",
              "      <td>2</td>\n",
              "      <td>2014</td>\n",
              "      <td>863</td>\n",
              "    </tr>\n",
              "    <tr>\n",
              "      <th>3</th>\n",
              "      <td>Devils</td>\n",
              "      <td>3</td>\n",
              "      <td>2015</td>\n",
              "      <td>673</td>\n",
              "    </tr>\n",
              "    <tr>\n",
              "      <th>4</th>\n",
              "      <td>Kings</td>\n",
              "      <td>3</td>\n",
              "      <td>2014</td>\n",
              "      <td>741</td>\n",
              "    </tr>\n",
              "  </tbody>\n",
              "</table>\n",
              "</div>"
            ],
            "text/plain": [
              "     Team  Rank  Year  Points\n",
              "0  Riders     1  2014     876\n",
              "1  Riders     2  2015     789\n",
              "2  Devils     2  2014     863\n",
              "3  Devils     3  2015     673\n",
              "4   Kings     3  2014     741"
            ]
          },
          "execution_count": 61,
          "metadata": {},
          "output_type": "execute_result"
        }
      ],
      "source": [
        "# 그룹별 집계의 기본형\n",
        "data = {'Team': ['Riders', 'Riders', 'Devils', 'Devils', 'Kings','kings', 'Kings', 'Kings', 'Riders', 'Royals', 'Royals', 'Riders'],\n",
        "            'Rank': [1, 2, 2, 3, 3,4 ,1 ,1,2 , 4,1,2],\n",
        "            'Year': [2014, 2015, 2014, 2015, 2014, 2015, 2016, 2017, 2016, 2014, 2015, 2017],\n",
        "            'Points': [876,789,863,673,741,812,756,788,694,701,804,690]}\n",
        "\n",
        "df = pd.DataFrame(data)\n",
        "df.head(5)"
      ]
    },
    {
      "cell_type": "code",
      "execution_count": null,
      "id": "2068702a",
      "metadata": {
        "id": "2068702a",
        "outputId": "d5b0eab8-867e-4b29-8387-69b4da033d3d"
      },
      "outputs": [
        {
          "data": {
            "text/plain": [
              "Team\n",
              "Devils    1536\n",
              "Kings     2285\n",
              "Riders    3049\n",
              "Royals    1505\n",
              "kings      812\n",
              "Name: Points, dtype: int64"
            ]
          },
          "execution_count": 62,
          "metadata": {},
          "output_type": "execute_result"
        }
      ],
      "source": [
        "# 그룹별 집계의 기본형\n",
        "# Team별 그룹하여 Points의 합계 구하기\n",
        "df.groupby(\"Team\")[\"Points\"].sum()  ##points를 sum한다\n"
      ]
    },
    {
      "cell_type": "code",
      "execution_count": 20,
      "id": "2e387b47",
      "metadata": {
        "colab": {
          "base_uri": "https://localhost:8080/",
          "height": 201
        },
        "id": "2e387b47",
        "outputId": "2689e74e-615d-4ef8-8907-0cf7c699a8bf"
      },
      "outputs": [
        {
          "output_type": "error",
          "ename": "NameError",
          "evalue": "name 'df' is not defined",
          "traceback": [
            "\u001b[0;31m---------------------------------------------------------------------------\u001b[0m",
            "\u001b[0;31mNameError\u001b[0m                                 Traceback (most recent call last)",
            "\u001b[0;32m<ipython-input-20-88cad0c488e4>\u001b[0m in \u001b[0;36m<cell line: 3>\u001b[0;34m()\u001b[0m\n\u001b[1;32m      1\u001b[0m \u001b[0;31m# 멀티 인덱스 그룹별 집계\u001b[0m\u001b[0;34m\u001b[0m\u001b[0;34m\u001b[0m\u001b[0m\n\u001b[1;32m      2\u001b[0m \u001b[0;31m# - 한 개 이상의 열을 기준으로 그룹별 집계를 실행\u001b[0m\u001b[0;34m\u001b[0m\u001b[0;34m\u001b[0m\u001b[0m\n\u001b[0;32m----> 3\u001b[0;31m \u001b[0mdf_group\u001b[0m \u001b[0;34m=\u001b[0m \u001b[0mdf\u001b[0m\u001b[0;34m.\u001b[0m\u001b[0mgroupby\u001b[0m\u001b[0;34m(\u001b[0m\u001b[0;34m[\u001b[0m\u001b[0;34m\"Team\"\u001b[0m\u001b[0;34m,\u001b[0m\u001b[0;34m\"Year\"\u001b[0m\u001b[0;34m]\u001b[0m\u001b[0;34m)\u001b[0m\u001b[0;34m[\u001b[0m\u001b[0;34m\"Points\"\u001b[0m\u001b[0;34m]\u001b[0m\u001b[0;34m.\u001b[0m\u001b[0msum\u001b[0m\u001b[0;34m(\u001b[0m\u001b[0;34m)\u001b[0m\u001b[0;34m\u001b[0m\u001b[0;34m\u001b[0m\u001b[0m\n\u001b[0m\u001b[1;32m      4\u001b[0m \u001b[0mdf_group\u001b[0m\u001b[0;34m.\u001b[0m\u001b[0mindex\u001b[0m\u001b[0;34m\u001b[0m\u001b[0;34m\u001b[0m\u001b[0m\n",
            "\u001b[0;31mNameError\u001b[0m: name 'df' is not defined"
          ]
        }
      ],
      "source": [
        "# 멀티 인덱스 그룹별 집계\n",
        "# - 한 개 이상의 열을 기준으로 그룹별 집계를 실행\n",
        "df_group = df.groupby([\"Team\",\"Year\"])[\"Points\"].sum()\n",
        "df_group.index\n"
      ]
    },
    {
      "cell_type": "code",
      "source": [
        "#DataFrame을 파일로 저장하기\n",
        "df_group.to_csv('팀별그룹핑.csv')"
      ],
      "metadata": {
        "colab": {
          "base_uri": "https://localhost:8080/",
          "height": 165
        },
        "id": "JNaBVp8GKcsN",
        "outputId": "899df857-f606-48e1-9a84-1ce6e720a80f"
      },
      "id": "JNaBVp8GKcsN",
      "execution_count": 19,
      "outputs": [
        {
          "output_type": "error",
          "ename": "NameError",
          "evalue": "name 'df_group' is not defined",
          "traceback": [
            "\u001b[0;31m---------------------------------------------------------------------------\u001b[0m",
            "\u001b[0;31mNameError\u001b[0m                                 Traceback (most recent call last)",
            "\u001b[0;32m<ipython-input-19-584266484013>\u001b[0m in \u001b[0;36m<cell line: 2>\u001b[0;34m()\u001b[0m\n\u001b[1;32m      1\u001b[0m \u001b[0;31m#DataFrame을 파일로 저장하기\u001b[0m\u001b[0;34m\u001b[0m\u001b[0;34m\u001b[0m\u001b[0m\n\u001b[0;32m----> 2\u001b[0;31m \u001b[0mdf_group\u001b[0m\u001b[0;34m.\u001b[0m\u001b[0mto_csv\u001b[0m\u001b[0;34m(\u001b[0m\u001b[0;34m'팀별그룹핑.csv'\u001b[0m\u001b[0;34m)\u001b[0m\u001b[0;34m\u001b[0m\u001b[0;34m\u001b[0m\u001b[0m\n\u001b[0m",
            "\u001b[0;31mNameError\u001b[0m: name 'df_group' is not defined"
          ]
        }
      ]
    },
    {
      "cell_type": "code",
      "execution_count": 17,
      "id": "7baf73ee",
      "metadata": {
        "colab": {
          "base_uri": "https://localhost:8080/",
          "height": 316
        },
        "id": "7baf73ee",
        "outputId": "72d4f811-d40f-43d0-8183-4cf57d0c12cb"
      },
      "outputs": [
        {
          "output_type": "error",
          "ename": "FileNotFoundError",
          "evalue": "[Errno 2] No such file or directory: '팀별그룹핑.csv'",
          "traceback": [
            "\u001b[0;31m---------------------------------------------------------------------------\u001b[0m",
            "\u001b[0;31mFileNotFoundError\u001b[0m                         Traceback (most recent call last)",
            "\u001b[0;32m<ipython-input-17-eb463b16c6c3>\u001b[0m in \u001b[0;36m<cell line: 1>\u001b[0;34m()\u001b[0m\n\u001b[0;32m----> 1\u001b[0;31m \u001b[0mdf_tmp\u001b[0m \u001b[0;34m=\u001b[0m \u001b[0mpd\u001b[0m\u001b[0;34m.\u001b[0m\u001b[0mread_csv\u001b[0m\u001b[0;34m(\u001b[0m\u001b[0;34m'팀별그룹핑.csv'\u001b[0m\u001b[0;34m)\u001b[0m\u001b[0;34m\u001b[0m\u001b[0;34m\u001b[0m\u001b[0m\n\u001b[0m\u001b[1;32m      2\u001b[0m \u001b[0mdf_tmp\u001b[0m\u001b[0;34m\u001b[0m\u001b[0;34m\u001b[0m\u001b[0m\n",
            "\u001b[0;32m/usr/local/lib/python3.10/dist-packages/pandas/io/parsers/readers.py\u001b[0m in \u001b[0;36mread_csv\u001b[0;34m(filepath_or_buffer, sep, delimiter, header, names, index_col, usecols, dtype, engine, converters, true_values, false_values, skipinitialspace, skiprows, skipfooter, nrows, na_values, keep_default_na, na_filter, verbose, skip_blank_lines, parse_dates, infer_datetime_format, keep_date_col, date_parser, date_format, dayfirst, cache_dates, iterator, chunksize, compression, thousands, decimal, lineterminator, quotechar, quoting, doublequote, escapechar, comment, encoding, encoding_errors, dialect, on_bad_lines, delim_whitespace, low_memory, memory_map, float_precision, storage_options, dtype_backend)\u001b[0m\n\u001b[1;32m    910\u001b[0m     \u001b[0mkwds\u001b[0m\u001b[0;34m.\u001b[0m\u001b[0mupdate\u001b[0m\u001b[0;34m(\u001b[0m\u001b[0mkwds_defaults\u001b[0m\u001b[0;34m)\u001b[0m\u001b[0;34m\u001b[0m\u001b[0;34m\u001b[0m\u001b[0m\n\u001b[1;32m    911\u001b[0m \u001b[0;34m\u001b[0m\u001b[0m\n\u001b[0;32m--> 912\u001b[0;31m     \u001b[0;32mreturn\u001b[0m \u001b[0m_read\u001b[0m\u001b[0;34m(\u001b[0m\u001b[0mfilepath_or_buffer\u001b[0m\u001b[0;34m,\u001b[0m \u001b[0mkwds\u001b[0m\u001b[0;34m)\u001b[0m\u001b[0;34m\u001b[0m\u001b[0;34m\u001b[0m\u001b[0m\n\u001b[0m\u001b[1;32m    913\u001b[0m \u001b[0;34m\u001b[0m\u001b[0m\n\u001b[1;32m    914\u001b[0m \u001b[0;34m\u001b[0m\u001b[0m\n",
            "\u001b[0;32m/usr/local/lib/python3.10/dist-packages/pandas/io/parsers/readers.py\u001b[0m in \u001b[0;36m_read\u001b[0;34m(filepath_or_buffer, kwds)\u001b[0m\n\u001b[1;32m    575\u001b[0m \u001b[0;34m\u001b[0m\u001b[0m\n\u001b[1;32m    576\u001b[0m     \u001b[0;31m# Create the parser.\u001b[0m\u001b[0;34m\u001b[0m\u001b[0;34m\u001b[0m\u001b[0m\n\u001b[0;32m--> 577\u001b[0;31m     \u001b[0mparser\u001b[0m \u001b[0;34m=\u001b[0m \u001b[0mTextFileReader\u001b[0m\u001b[0;34m(\u001b[0m\u001b[0mfilepath_or_buffer\u001b[0m\u001b[0;34m,\u001b[0m \u001b[0;34m**\u001b[0m\u001b[0mkwds\u001b[0m\u001b[0;34m)\u001b[0m\u001b[0;34m\u001b[0m\u001b[0;34m\u001b[0m\u001b[0m\n\u001b[0m\u001b[1;32m    578\u001b[0m \u001b[0;34m\u001b[0m\u001b[0m\n\u001b[1;32m    579\u001b[0m     \u001b[0;32mif\u001b[0m \u001b[0mchunksize\u001b[0m \u001b[0;32mor\u001b[0m \u001b[0miterator\u001b[0m\u001b[0;34m:\u001b[0m\u001b[0;34m\u001b[0m\u001b[0;34m\u001b[0m\u001b[0m\n",
            "\u001b[0;32m/usr/local/lib/python3.10/dist-packages/pandas/io/parsers/readers.py\u001b[0m in \u001b[0;36m__init__\u001b[0;34m(self, f, engine, **kwds)\u001b[0m\n\u001b[1;32m   1405\u001b[0m \u001b[0;34m\u001b[0m\u001b[0m\n\u001b[1;32m   1406\u001b[0m         \u001b[0mself\u001b[0m\u001b[0;34m.\u001b[0m\u001b[0mhandles\u001b[0m\u001b[0;34m:\u001b[0m \u001b[0mIOHandles\u001b[0m \u001b[0;34m|\u001b[0m \u001b[0;32mNone\u001b[0m \u001b[0;34m=\u001b[0m \u001b[0;32mNone\u001b[0m\u001b[0;34m\u001b[0m\u001b[0;34m\u001b[0m\u001b[0m\n\u001b[0;32m-> 1407\u001b[0;31m         \u001b[0mself\u001b[0m\u001b[0;34m.\u001b[0m\u001b[0m_engine\u001b[0m \u001b[0;34m=\u001b[0m \u001b[0mself\u001b[0m\u001b[0;34m.\u001b[0m\u001b[0m_make_engine\u001b[0m\u001b[0;34m(\u001b[0m\u001b[0mf\u001b[0m\u001b[0;34m,\u001b[0m \u001b[0mself\u001b[0m\u001b[0;34m.\u001b[0m\u001b[0mengine\u001b[0m\u001b[0;34m)\u001b[0m\u001b[0;34m\u001b[0m\u001b[0;34m\u001b[0m\u001b[0m\n\u001b[0m\u001b[1;32m   1408\u001b[0m \u001b[0;34m\u001b[0m\u001b[0m\n\u001b[1;32m   1409\u001b[0m     \u001b[0;32mdef\u001b[0m \u001b[0mclose\u001b[0m\u001b[0;34m(\u001b[0m\u001b[0mself\u001b[0m\u001b[0;34m)\u001b[0m \u001b[0;34m->\u001b[0m \u001b[0;32mNone\u001b[0m\u001b[0;34m:\u001b[0m\u001b[0;34m\u001b[0m\u001b[0;34m\u001b[0m\u001b[0m\n",
            "\u001b[0;32m/usr/local/lib/python3.10/dist-packages/pandas/io/parsers/readers.py\u001b[0m in \u001b[0;36m_make_engine\u001b[0;34m(self, f, engine)\u001b[0m\n\u001b[1;32m   1659\u001b[0m                 \u001b[0;32mif\u001b[0m \u001b[0;34m\"b\"\u001b[0m \u001b[0;32mnot\u001b[0m \u001b[0;32min\u001b[0m \u001b[0mmode\u001b[0m\u001b[0;34m:\u001b[0m\u001b[0;34m\u001b[0m\u001b[0;34m\u001b[0m\u001b[0m\n\u001b[1;32m   1660\u001b[0m                     \u001b[0mmode\u001b[0m \u001b[0;34m+=\u001b[0m \u001b[0;34m\"b\"\u001b[0m\u001b[0;34m\u001b[0m\u001b[0;34m\u001b[0m\u001b[0m\n\u001b[0;32m-> 1661\u001b[0;31m             self.handles = get_handle(\n\u001b[0m\u001b[1;32m   1662\u001b[0m                 \u001b[0mf\u001b[0m\u001b[0;34m,\u001b[0m\u001b[0;34m\u001b[0m\u001b[0;34m\u001b[0m\u001b[0m\n\u001b[1;32m   1663\u001b[0m                 \u001b[0mmode\u001b[0m\u001b[0;34m,\u001b[0m\u001b[0;34m\u001b[0m\u001b[0;34m\u001b[0m\u001b[0m\n",
            "\u001b[0;32m/usr/local/lib/python3.10/dist-packages/pandas/io/common.py\u001b[0m in \u001b[0;36mget_handle\u001b[0;34m(path_or_buf, mode, encoding, compression, memory_map, is_text, errors, storage_options)\u001b[0m\n\u001b[1;32m    857\u001b[0m         \u001b[0;32mif\u001b[0m \u001b[0mioargs\u001b[0m\u001b[0;34m.\u001b[0m\u001b[0mencoding\u001b[0m \u001b[0;32mand\u001b[0m \u001b[0;34m\"b\"\u001b[0m \u001b[0;32mnot\u001b[0m \u001b[0;32min\u001b[0m \u001b[0mioargs\u001b[0m\u001b[0;34m.\u001b[0m\u001b[0mmode\u001b[0m\u001b[0;34m:\u001b[0m\u001b[0;34m\u001b[0m\u001b[0;34m\u001b[0m\u001b[0m\n\u001b[1;32m    858\u001b[0m             \u001b[0;31m# Encoding\u001b[0m\u001b[0;34m\u001b[0m\u001b[0;34m\u001b[0m\u001b[0m\n\u001b[0;32m--> 859\u001b[0;31m             handle = open(\n\u001b[0m\u001b[1;32m    860\u001b[0m                 \u001b[0mhandle\u001b[0m\u001b[0;34m,\u001b[0m\u001b[0;34m\u001b[0m\u001b[0;34m\u001b[0m\u001b[0m\n\u001b[1;32m    861\u001b[0m                 \u001b[0mioargs\u001b[0m\u001b[0;34m.\u001b[0m\u001b[0mmode\u001b[0m\u001b[0;34m,\u001b[0m\u001b[0;34m\u001b[0m\u001b[0;34m\u001b[0m\u001b[0m\n",
            "\u001b[0;31mFileNotFoundError\u001b[0m: [Errno 2] No such file or directory: '팀별그룹핑.csv'"
          ]
        }
      ],
      "source": [
        "df_tmp = pd.read_csv('팀별그룹핑.csv')\n",
        "df_tmp"
      ]
    },
    {
      "cell_type": "code",
      "execution_count": null,
      "id": "0c510798",
      "metadata": {
        "id": "0c510798",
        "outputId": "3c5a92f0-a7f0-4a23-d0ba-e662c27849e6"
      },
      "outputs": [
        {
          "data": {
            "text/plain": [
              "MultiIndex([('Devils', 2014),\n",
              "            ('Devils', 2015),\n",
              "            ( 'Kings', 2014),\n",
              "            ( 'Kings', 2016),\n",
              "            ( 'Kings', 2017),\n",
              "            ('Riders', 2014),\n",
              "            ('Riders', 2015),\n",
              "            ('Riders', 2016),\n",
              "            ('Riders', 2017),\n",
              "            ('Royals', 2014),\n",
              "            ('Royals', 2015),\n",
              "            ( 'kings', 2015)],\n",
              "           names=['Team', 'Year'])"
            ]
          },
          "execution_count": 67,
          "metadata": {},
          "output_type": "execute_result"
        }
      ],
      "source": [
        "# 멀티 인덱스\n",
        "# - 한 개 이상의 열로 그룹별 집계 수행하면 여러 열이 모두 인덱스로 반환됨\n",
        "df_group = df.groupby([\"Team\",\"Year\"])[\"Points\"].sum()\n",
        "df_group.index\n",
        "df_group"
      ]
    },
    {
      "cell_type": "code",
      "execution_count": null,
      "id": "657598b0",
      "metadata": {
        "scrolled": true,
        "id": "657598b0",
        "outputId": "d31f1c5a-8403-4a56-b22f-96b9c5042832"
      },
      "outputs": [
        {
          "data": {
            "text/plain": [
              "Year  Team  \n",
              "2014  Devils    863\n",
              "      Kings     741\n",
              "      Riders    876\n",
              "      Royals    701\n",
              "2015  Devils    673\n",
              "      Riders    789\n",
              "      Royals    804\n",
              "      kings     812\n",
              "2016  Kings     756\n",
              "      Riders    694\n",
              "2017  Kings     788\n",
              "      Riders    690\n",
              "Name: Points, dtype: int64"
            ]
          },
          "execution_count": 69,
          "metadata": {},
          "output_type": "execute_result"
        }
      ],
      "source": [
        "# - swaplevel 함수로 인덱스 간 레벨을 변경\n",
        "# - sort_index 함수로 첫 번째 인덱스를 기준으로 데이터 재정렬\n",
        "# df_group.sort_index()\n",
        "df_group.swaplevel().sort_index() ###행열 위치를 바꾸는 경우"
      ]
    },
    {
      "cell_type": "markdown",
      "id": "de2c90ef",
      "metadata": {
        "id": "de2c90ef"
      },
      "source": [
        "### 3. 그룹화된 상태\n",
        "- 그룹화된(grouped) 상태 : 분할→적용→결합 중에서 분할까지만 이루어진 상태\n",
        "- get_group 함수 : 해당 키 값을 기준으로 분할된 데이터프레임 객체를 확인"
      ]
    },
    {
      "cell_type": "code",
      "execution_count": null,
      "id": "92bfa2fd",
      "metadata": {
        "id": "92bfa2fd",
        "outputId": "183799dd-5145-4d7e-ed06-7ef32543a089"
      },
      "outputs": [
        {
          "data": {
            "text/plain": [
              "Team\n",
              "Devils    1536\n",
              "Kings     2285\n",
              "Riders    3049\n",
              "Royals    1505\n",
              "kings      812\n",
              "Name: Points, dtype: int64"
            ]
          },
          "execution_count": 71,
          "metadata": {},
          "output_type": "execute_result"
        }
      ],
      "source": [
        "a = df.groupby('Team') ## a에 저장해 놓고 쓸 수 있다.\n",
        "a['Points'].sum()"
      ]
    },
    {
      "cell_type": "markdown",
      "id": "166d7ac4",
      "metadata": {
        "id": "166d7ac4"
      },
      "source": [
        "- **집계(aggregation)** : 요약된 통계 정보를 추출"
      ]
    },
    {
      "cell_type": "code",
      "execution_count": null,
      "id": "ef99240b",
      "metadata": {
        "scrolled": true,
        "id": "ef99240b",
        "outputId": "df7c02f9-198c-44b4-c31d-d66cd3110b9a"
      },
      "outputs": [
        {
          "ename": "KeyError",
          "evalue": "'Team'",
          "output_type": "error",
          "traceback": [
            "\u001b[1;31m---------------------------------------------------------------------------\u001b[0m",
            "\u001b[1;31mKeyError\u001b[0m                                  Traceback (most recent call last)",
            "Cell \u001b[1;32mIn[28], line 2\u001b[0m\n\u001b[0;32m      1\u001b[0m \u001b[38;5;66;03m# 집계(aggregation) : 요약된 통계 정보를 추출\u001b[39;00m\n\u001b[1;32m----> 2\u001b[0m \u001b[43mdf\u001b[49m\u001b[38;5;241;43m.\u001b[39;49m\u001b[43mgroupby\u001b[49m\u001b[43m(\u001b[49m\u001b[38;5;124;43m'\u001b[39;49m\u001b[38;5;124;43mTeam\u001b[39;49m\u001b[38;5;124;43m'\u001b[39;49m\u001b[43m)\u001b[49m\u001b[38;5;241m.\u001b[39magg(\u001b[38;5;28mmin\u001b[39m)\n",
            "File \u001b[1;32mc:\\Python\\Python312\\Lib\\site-packages\\pandas\\core\\frame.py:9183\u001b[0m, in \u001b[0;36mDataFrame.groupby\u001b[1;34m(self, by, axis, level, as_index, sort, group_keys, observed, dropna)\u001b[0m\n\u001b[0;32m   9180\u001b[0m \u001b[38;5;28;01mif\u001b[39;00m level \u001b[38;5;129;01mis\u001b[39;00m \u001b[38;5;28;01mNone\u001b[39;00m \u001b[38;5;129;01mand\u001b[39;00m by \u001b[38;5;129;01mis\u001b[39;00m \u001b[38;5;28;01mNone\u001b[39;00m:\n\u001b[0;32m   9181\u001b[0m     \u001b[38;5;28;01mraise\u001b[39;00m \u001b[38;5;167;01mTypeError\u001b[39;00m(\u001b[38;5;124m\"\u001b[39m\u001b[38;5;124mYou have to supply one of \u001b[39m\u001b[38;5;124m'\u001b[39m\u001b[38;5;124mby\u001b[39m\u001b[38;5;124m'\u001b[39m\u001b[38;5;124m and \u001b[39m\u001b[38;5;124m'\u001b[39m\u001b[38;5;124mlevel\u001b[39m\u001b[38;5;124m'\u001b[39m\u001b[38;5;124m\"\u001b[39m)\n\u001b[1;32m-> 9183\u001b[0m \u001b[38;5;28;01mreturn\u001b[39;00m \u001b[43mDataFrameGroupBy\u001b[49m\u001b[43m(\u001b[49m\n\u001b[0;32m   9184\u001b[0m \u001b[43m    \u001b[49m\u001b[43mobj\u001b[49m\u001b[38;5;241;43m=\u001b[39;49m\u001b[38;5;28;43mself\u001b[39;49m\u001b[43m,\u001b[49m\n\u001b[0;32m   9185\u001b[0m \u001b[43m    \u001b[49m\u001b[43mkeys\u001b[49m\u001b[38;5;241;43m=\u001b[39;49m\u001b[43mby\u001b[49m\u001b[43m,\u001b[49m\n\u001b[0;32m   9186\u001b[0m \u001b[43m    \u001b[49m\u001b[43maxis\u001b[49m\u001b[38;5;241;43m=\u001b[39;49m\u001b[43maxis\u001b[49m\u001b[43m,\u001b[49m\n\u001b[0;32m   9187\u001b[0m \u001b[43m    \u001b[49m\u001b[43mlevel\u001b[49m\u001b[38;5;241;43m=\u001b[39;49m\u001b[43mlevel\u001b[49m\u001b[43m,\u001b[49m\n\u001b[0;32m   9188\u001b[0m \u001b[43m    \u001b[49m\u001b[43mas_index\u001b[49m\u001b[38;5;241;43m=\u001b[39;49m\u001b[43mas_index\u001b[49m\u001b[43m,\u001b[49m\n\u001b[0;32m   9189\u001b[0m \u001b[43m    \u001b[49m\u001b[43msort\u001b[49m\u001b[38;5;241;43m=\u001b[39;49m\u001b[43msort\u001b[49m\u001b[43m,\u001b[49m\n\u001b[0;32m   9190\u001b[0m \u001b[43m    \u001b[49m\u001b[43mgroup_keys\u001b[49m\u001b[38;5;241;43m=\u001b[39;49m\u001b[43mgroup_keys\u001b[49m\u001b[43m,\u001b[49m\n\u001b[0;32m   9191\u001b[0m \u001b[43m    \u001b[49m\u001b[43mobserved\u001b[49m\u001b[38;5;241;43m=\u001b[39;49m\u001b[43mobserved\u001b[49m\u001b[43m,\u001b[49m\n\u001b[0;32m   9192\u001b[0m \u001b[43m    \u001b[49m\u001b[43mdropna\u001b[49m\u001b[38;5;241;43m=\u001b[39;49m\u001b[43mdropna\u001b[49m\u001b[43m,\u001b[49m\n\u001b[0;32m   9193\u001b[0m \u001b[43m\u001b[49m\u001b[43m)\u001b[49m\n",
            "File \u001b[1;32mc:\\Python\\Python312\\Lib\\site-packages\\pandas\\core\\groupby\\groupby.py:1329\u001b[0m, in \u001b[0;36mGroupBy.__init__\u001b[1;34m(self, obj, keys, axis, level, grouper, exclusions, selection, as_index, sort, group_keys, observed, dropna)\u001b[0m\n\u001b[0;32m   1326\u001b[0m \u001b[38;5;28mself\u001b[39m\u001b[38;5;241m.\u001b[39mdropna \u001b[38;5;241m=\u001b[39m dropna\n\u001b[0;32m   1328\u001b[0m \u001b[38;5;28;01mif\u001b[39;00m grouper \u001b[38;5;129;01mis\u001b[39;00m \u001b[38;5;28;01mNone\u001b[39;00m:\n\u001b[1;32m-> 1329\u001b[0m     grouper, exclusions, obj \u001b[38;5;241m=\u001b[39m \u001b[43mget_grouper\u001b[49m\u001b[43m(\u001b[49m\n\u001b[0;32m   1330\u001b[0m \u001b[43m        \u001b[49m\u001b[43mobj\u001b[49m\u001b[43m,\u001b[49m\n\u001b[0;32m   1331\u001b[0m \u001b[43m        \u001b[49m\u001b[43mkeys\u001b[49m\u001b[43m,\u001b[49m\n\u001b[0;32m   1332\u001b[0m \u001b[43m        \u001b[49m\u001b[43maxis\u001b[49m\u001b[38;5;241;43m=\u001b[39;49m\u001b[43maxis\u001b[49m\u001b[43m,\u001b[49m\n\u001b[0;32m   1333\u001b[0m \u001b[43m        \u001b[49m\u001b[43mlevel\u001b[49m\u001b[38;5;241;43m=\u001b[39;49m\u001b[43mlevel\u001b[49m\u001b[43m,\u001b[49m\n\u001b[0;32m   1334\u001b[0m \u001b[43m        \u001b[49m\u001b[43msort\u001b[49m\u001b[38;5;241;43m=\u001b[39;49m\u001b[43msort\u001b[49m\u001b[43m,\u001b[49m\n\u001b[0;32m   1335\u001b[0m \u001b[43m        \u001b[49m\u001b[43mobserved\u001b[49m\u001b[38;5;241;43m=\u001b[39;49m\u001b[38;5;28;43;01mFalse\u001b[39;49;00m\u001b[43m \u001b[49m\u001b[38;5;28;43;01mif\u001b[39;49;00m\u001b[43m \u001b[49m\u001b[43mobserved\u001b[49m\u001b[43m \u001b[49m\u001b[38;5;129;43;01mis\u001b[39;49;00m\u001b[43m \u001b[49m\u001b[43mlib\u001b[49m\u001b[38;5;241;43m.\u001b[39;49m\u001b[43mno_default\u001b[49m\u001b[43m \u001b[49m\u001b[38;5;28;43;01melse\u001b[39;49;00m\u001b[43m \u001b[49m\u001b[43mobserved\u001b[49m\u001b[43m,\u001b[49m\n\u001b[0;32m   1336\u001b[0m \u001b[43m        \u001b[49m\u001b[43mdropna\u001b[49m\u001b[38;5;241;43m=\u001b[39;49m\u001b[38;5;28;43mself\u001b[39;49m\u001b[38;5;241;43m.\u001b[39;49m\u001b[43mdropna\u001b[49m\u001b[43m,\u001b[49m\n\u001b[0;32m   1337\u001b[0m \u001b[43m    \u001b[49m\u001b[43m)\u001b[49m\n\u001b[0;32m   1339\u001b[0m \u001b[38;5;28;01mif\u001b[39;00m observed \u001b[38;5;129;01mis\u001b[39;00m lib\u001b[38;5;241m.\u001b[39mno_default:\n\u001b[0;32m   1340\u001b[0m     \u001b[38;5;28;01mif\u001b[39;00m \u001b[38;5;28many\u001b[39m(ping\u001b[38;5;241m.\u001b[39m_passed_categorical \u001b[38;5;28;01mfor\u001b[39;00m ping \u001b[38;5;129;01min\u001b[39;00m grouper\u001b[38;5;241m.\u001b[39mgroupings):\n",
            "File \u001b[1;32mc:\\Python\\Python312\\Lib\\site-packages\\pandas\\core\\groupby\\grouper.py:1043\u001b[0m, in \u001b[0;36mget_grouper\u001b[1;34m(obj, key, axis, level, sort, observed, validate, dropna)\u001b[0m\n\u001b[0;32m   1041\u001b[0m         in_axis, level, gpr \u001b[38;5;241m=\u001b[39m \u001b[38;5;28;01mFalse\u001b[39;00m, gpr, \u001b[38;5;28;01mNone\u001b[39;00m\n\u001b[0;32m   1042\u001b[0m     \u001b[38;5;28;01melse\u001b[39;00m:\n\u001b[1;32m-> 1043\u001b[0m         \u001b[38;5;28;01mraise\u001b[39;00m \u001b[38;5;167;01mKeyError\u001b[39;00m(gpr)\n\u001b[0;32m   1044\u001b[0m \u001b[38;5;28;01melif\u001b[39;00m \u001b[38;5;28misinstance\u001b[39m(gpr, Grouper) \u001b[38;5;129;01mand\u001b[39;00m gpr\u001b[38;5;241m.\u001b[39mkey \u001b[38;5;129;01mis\u001b[39;00m \u001b[38;5;129;01mnot\u001b[39;00m \u001b[38;5;28;01mNone\u001b[39;00m:\n\u001b[0;32m   1045\u001b[0m     \u001b[38;5;66;03m# Add key to exclusions\u001b[39;00m\n\u001b[0;32m   1046\u001b[0m     exclusions\u001b[38;5;241m.\u001b[39madd(gpr\u001b[38;5;241m.\u001b[39mkey)\n",
            "\u001b[1;31mKeyError\u001b[0m: 'Team'"
          ]
        }
      ],
      "source": [
        "# 집계(aggregation) : 요약된 통계 정보를 추출\n",
        "df.groupby('Team').agg(min)"
      ]
    },
    {
      "cell_type": "code",
      "execution_count": null,
      "id": "fb67ca7f",
      "metadata": {
        "id": "fb67ca7f",
        "outputId": "0a64e258-f938-458c-e878-138d96e3e476"
      },
      "outputs": [
        {
          "ename": "KeyError",
          "evalue": "'Team'",
          "output_type": "error",
          "traceback": [
            "\u001b[1;31m---------------------------------------------------------------------------\u001b[0m",
            "\u001b[1;31mKeyError\u001b[0m                                  Traceback (most recent call last)",
            "Cell \u001b[1;32mIn[30], line 1\u001b[0m\n\u001b[1;32m----> 1\u001b[0m \u001b[43mdf\u001b[49m\u001b[38;5;241;43m.\u001b[39;49m\u001b[43mgroupby\u001b[49m\u001b[43m(\u001b[49m\u001b[38;5;124;43m'\u001b[39;49m\u001b[38;5;124;43mTeam\u001b[39;49m\u001b[38;5;124;43m'\u001b[39;49m\u001b[43m)\u001b[49m[Points]\u001b[38;5;241m.\u001b[39magg([\u001b[38;5;124m'\u001b[39m\u001b[38;5;124msum\u001b[39m\u001b[38;5;124m'\u001b[39m, \u001b[38;5;124m'\u001b[39m\u001b[38;5;124mmax\u001b[39m\u001b[38;5;124m'\u001b[39m])    \u001b[38;5;66;03m###엑셀에서 다루는 건 판다스에서 거의 다 다룰 수 있음 \u001b[39;00m\n\u001b[0;32m      2\u001b[0m df\u001b[38;5;241m.\u001b[39mgroupby(\u001b[38;5;124m'\u001b[39m\u001b[38;5;124mTeam\u001b[39m\u001b[38;5;124m'\u001b[39m)[Points]\u001b[38;5;241m.\u001b[39magg(\u001b[38;5;241m*\u001b[39m\u001b[38;5;241m*\u001b[39m{\u001b[38;5;124m'\u001b[39m\u001b[38;5;124m합계\u001b[39m\u001b[38;5;124m'\u001b[39m:\u001b[38;5;124m'\u001b[39m\u001b[38;5;124msum\u001b[39m\u001b[38;5;124m'\u001b[39m,\u001b[38;5;124m'\u001b[39m\u001b[38;5;124m최고\u001b[39m\u001b[38;5;124m'\u001b[39m:\u001b[38;5;124m'\u001b[39m\u001b[38;5;124mmax\u001b[39m\u001b[38;5;124m'\u001b[39m})\n",
            "File \u001b[1;32mc:\\Python\\Python312\\Lib\\site-packages\\pandas\\core\\frame.py:9183\u001b[0m, in \u001b[0;36mDataFrame.groupby\u001b[1;34m(self, by, axis, level, as_index, sort, group_keys, observed, dropna)\u001b[0m\n\u001b[0;32m   9180\u001b[0m \u001b[38;5;28;01mif\u001b[39;00m level \u001b[38;5;129;01mis\u001b[39;00m \u001b[38;5;28;01mNone\u001b[39;00m \u001b[38;5;129;01mand\u001b[39;00m by \u001b[38;5;129;01mis\u001b[39;00m \u001b[38;5;28;01mNone\u001b[39;00m:\n\u001b[0;32m   9181\u001b[0m     \u001b[38;5;28;01mraise\u001b[39;00m \u001b[38;5;167;01mTypeError\u001b[39;00m(\u001b[38;5;124m\"\u001b[39m\u001b[38;5;124mYou have to supply one of \u001b[39m\u001b[38;5;124m'\u001b[39m\u001b[38;5;124mby\u001b[39m\u001b[38;5;124m'\u001b[39m\u001b[38;5;124m and \u001b[39m\u001b[38;5;124m'\u001b[39m\u001b[38;5;124mlevel\u001b[39m\u001b[38;5;124m'\u001b[39m\u001b[38;5;124m\"\u001b[39m)\n\u001b[1;32m-> 9183\u001b[0m \u001b[38;5;28;01mreturn\u001b[39;00m \u001b[43mDataFrameGroupBy\u001b[49m\u001b[43m(\u001b[49m\n\u001b[0;32m   9184\u001b[0m \u001b[43m    \u001b[49m\u001b[43mobj\u001b[49m\u001b[38;5;241;43m=\u001b[39;49m\u001b[38;5;28;43mself\u001b[39;49m\u001b[43m,\u001b[49m\n\u001b[0;32m   9185\u001b[0m \u001b[43m    \u001b[49m\u001b[43mkeys\u001b[49m\u001b[38;5;241;43m=\u001b[39;49m\u001b[43mby\u001b[49m\u001b[43m,\u001b[49m\n\u001b[0;32m   9186\u001b[0m \u001b[43m    \u001b[49m\u001b[43maxis\u001b[49m\u001b[38;5;241;43m=\u001b[39;49m\u001b[43maxis\u001b[49m\u001b[43m,\u001b[49m\n\u001b[0;32m   9187\u001b[0m \u001b[43m    \u001b[49m\u001b[43mlevel\u001b[49m\u001b[38;5;241;43m=\u001b[39;49m\u001b[43mlevel\u001b[49m\u001b[43m,\u001b[49m\n\u001b[0;32m   9188\u001b[0m \u001b[43m    \u001b[49m\u001b[43mas_index\u001b[49m\u001b[38;5;241;43m=\u001b[39;49m\u001b[43mas_index\u001b[49m\u001b[43m,\u001b[49m\n\u001b[0;32m   9189\u001b[0m \u001b[43m    \u001b[49m\u001b[43msort\u001b[49m\u001b[38;5;241;43m=\u001b[39;49m\u001b[43msort\u001b[49m\u001b[43m,\u001b[49m\n\u001b[0;32m   9190\u001b[0m \u001b[43m    \u001b[49m\u001b[43mgroup_keys\u001b[49m\u001b[38;5;241;43m=\u001b[39;49m\u001b[43mgroup_keys\u001b[49m\u001b[43m,\u001b[49m\n\u001b[0;32m   9191\u001b[0m \u001b[43m    \u001b[49m\u001b[43mobserved\u001b[49m\u001b[38;5;241;43m=\u001b[39;49m\u001b[43mobserved\u001b[49m\u001b[43m,\u001b[49m\n\u001b[0;32m   9192\u001b[0m \u001b[43m    \u001b[49m\u001b[43mdropna\u001b[49m\u001b[38;5;241;43m=\u001b[39;49m\u001b[43mdropna\u001b[49m\u001b[43m,\u001b[49m\n\u001b[0;32m   9193\u001b[0m \u001b[43m\u001b[49m\u001b[43m)\u001b[49m\n",
            "File \u001b[1;32mc:\\Python\\Python312\\Lib\\site-packages\\pandas\\core\\groupby\\groupby.py:1329\u001b[0m, in \u001b[0;36mGroupBy.__init__\u001b[1;34m(self, obj, keys, axis, level, grouper, exclusions, selection, as_index, sort, group_keys, observed, dropna)\u001b[0m\n\u001b[0;32m   1326\u001b[0m \u001b[38;5;28mself\u001b[39m\u001b[38;5;241m.\u001b[39mdropna \u001b[38;5;241m=\u001b[39m dropna\n\u001b[0;32m   1328\u001b[0m \u001b[38;5;28;01mif\u001b[39;00m grouper \u001b[38;5;129;01mis\u001b[39;00m \u001b[38;5;28;01mNone\u001b[39;00m:\n\u001b[1;32m-> 1329\u001b[0m     grouper, exclusions, obj \u001b[38;5;241m=\u001b[39m \u001b[43mget_grouper\u001b[49m\u001b[43m(\u001b[49m\n\u001b[0;32m   1330\u001b[0m \u001b[43m        \u001b[49m\u001b[43mobj\u001b[49m\u001b[43m,\u001b[49m\n\u001b[0;32m   1331\u001b[0m \u001b[43m        \u001b[49m\u001b[43mkeys\u001b[49m\u001b[43m,\u001b[49m\n\u001b[0;32m   1332\u001b[0m \u001b[43m        \u001b[49m\u001b[43maxis\u001b[49m\u001b[38;5;241;43m=\u001b[39;49m\u001b[43maxis\u001b[49m\u001b[43m,\u001b[49m\n\u001b[0;32m   1333\u001b[0m \u001b[43m        \u001b[49m\u001b[43mlevel\u001b[49m\u001b[38;5;241;43m=\u001b[39;49m\u001b[43mlevel\u001b[49m\u001b[43m,\u001b[49m\n\u001b[0;32m   1334\u001b[0m \u001b[43m        \u001b[49m\u001b[43msort\u001b[49m\u001b[38;5;241;43m=\u001b[39;49m\u001b[43msort\u001b[49m\u001b[43m,\u001b[49m\n\u001b[0;32m   1335\u001b[0m \u001b[43m        \u001b[49m\u001b[43mobserved\u001b[49m\u001b[38;5;241;43m=\u001b[39;49m\u001b[38;5;28;43;01mFalse\u001b[39;49;00m\u001b[43m \u001b[49m\u001b[38;5;28;43;01mif\u001b[39;49;00m\u001b[43m \u001b[49m\u001b[43mobserved\u001b[49m\u001b[43m \u001b[49m\u001b[38;5;129;43;01mis\u001b[39;49;00m\u001b[43m \u001b[49m\u001b[43mlib\u001b[49m\u001b[38;5;241;43m.\u001b[39;49m\u001b[43mno_default\u001b[49m\u001b[43m \u001b[49m\u001b[38;5;28;43;01melse\u001b[39;49;00m\u001b[43m \u001b[49m\u001b[43mobserved\u001b[49m\u001b[43m,\u001b[49m\n\u001b[0;32m   1336\u001b[0m \u001b[43m        \u001b[49m\u001b[43mdropna\u001b[49m\u001b[38;5;241;43m=\u001b[39;49m\u001b[38;5;28;43mself\u001b[39;49m\u001b[38;5;241;43m.\u001b[39;49m\u001b[43mdropna\u001b[49m\u001b[43m,\u001b[49m\n\u001b[0;32m   1337\u001b[0m \u001b[43m    \u001b[49m\u001b[43m)\u001b[49m\n\u001b[0;32m   1339\u001b[0m \u001b[38;5;28;01mif\u001b[39;00m observed \u001b[38;5;129;01mis\u001b[39;00m lib\u001b[38;5;241m.\u001b[39mno_default:\n\u001b[0;32m   1340\u001b[0m     \u001b[38;5;28;01mif\u001b[39;00m \u001b[38;5;28many\u001b[39m(ping\u001b[38;5;241m.\u001b[39m_passed_categorical \u001b[38;5;28;01mfor\u001b[39;00m ping \u001b[38;5;129;01min\u001b[39;00m grouper\u001b[38;5;241m.\u001b[39mgroupings):\n",
            "File \u001b[1;32mc:\\Python\\Python312\\Lib\\site-packages\\pandas\\core\\groupby\\grouper.py:1043\u001b[0m, in \u001b[0;36mget_grouper\u001b[1;34m(obj, key, axis, level, sort, observed, validate, dropna)\u001b[0m\n\u001b[0;32m   1041\u001b[0m         in_axis, level, gpr \u001b[38;5;241m=\u001b[39m \u001b[38;5;28;01mFalse\u001b[39;00m, gpr, \u001b[38;5;28;01mNone\u001b[39;00m\n\u001b[0;32m   1042\u001b[0m     \u001b[38;5;28;01melse\u001b[39;00m:\n\u001b[1;32m-> 1043\u001b[0m         \u001b[38;5;28;01mraise\u001b[39;00m \u001b[38;5;167;01mKeyError\u001b[39;00m(gpr)\n\u001b[0;32m   1044\u001b[0m \u001b[38;5;28;01melif\u001b[39;00m \u001b[38;5;28misinstance\u001b[39m(gpr, Grouper) \u001b[38;5;129;01mand\u001b[39;00m gpr\u001b[38;5;241m.\u001b[39mkey \u001b[38;5;129;01mis\u001b[39;00m \u001b[38;5;129;01mnot\u001b[39;00m \u001b[38;5;28;01mNone\u001b[39;00m:\n\u001b[0;32m   1045\u001b[0m     \u001b[38;5;66;03m# Add key to exclusions\u001b[39;00m\n\u001b[0;32m   1046\u001b[0m     exclusions\u001b[38;5;241m.\u001b[39madd(gpr\u001b[38;5;241m.\u001b[39mkey)\n",
            "\u001b[1;31mKeyError\u001b[0m: 'Team'"
          ]
        }
      ],
      "source": [
        "df.groupby('Team')[Points].agg(['sum', 'max'])    ###엑셀에서 다루는 건 판다스에서 거의 다 다룰 수 있음\n",
        "df.groupby('Team')[Points].agg(**{'합계':'sum','최고':'max'})\n",
        "\n"
      ]
    },
    {
      "cell_type": "markdown",
      "id": "fb1aa00e",
      "metadata": {
        "id": "fb1aa00e"
      },
      "source": [
        "- **필터(filter)** : 특정 조건으로 데이터를 검색"
      ]
    },
    {
      "cell_type": "code",
      "execution_count": null,
      "id": "51714a27",
      "metadata": {
        "id": "51714a27"
      },
      "outputs": [],
      "source": [
        "# 필터\n",
        "# Team별 레코드 개수 3개 이상인 Team\n",
        "# Team별 Points의 최고값이 800이상인 Team\n",
        "\n",
        "\n",
        "\n"
      ]
    },
    {
      "cell_type": "markdown",
      "id": "b6197470",
      "metadata": {
        "id": "b6197470"
      },
      "source": [
        "-----------------"
      ]
    },
    {
      "cell_type": "markdown",
      "id": "1719e385",
      "metadata": {
        "id": "1719e385"
      },
      "source": [
        "## <a name=\"04.4병합과연결\">04.4 병합과 연결</a>"
      ]
    },
    {
      "cell_type": "markdown",
      "id": "9bd94af8",
      "metadata": {
        "id": "9bd94af8"
      },
      "source": []
    },
    {
      "cell_type": "markdown",
      "id": "b3f465c3",
      "metadata": {
        "id": "b3f465c3"
      },
      "source": [
        "### 1. 병합\n",
        "병합(merge) : 두 개의 데이터를 특정 기준한 기준을 가지고 하나로 통합하는 작업"
      ]
    },
    {
      "cell_type": "code",
      "execution_count": null,
      "id": "49b08067",
      "metadata": {
        "id": "49b08067"
      },
      "outputs": [],
      "source": [
        "raw_data = {'subject_id': ['1', '2', '3', '4', '5', '7', '8', '9', '10', '11'],\n",
        "            'test_score': [51, 15, 15, 61, 16, 14, 15, 1, 61, 16]}\n"
      ]
    },
    {
      "cell_type": "code",
      "execution_count": null,
      "id": "70284dbf",
      "metadata": {
        "id": "70284dbf"
      },
      "outputs": [],
      "source": [
        "raw_data = {'subject_id': ['4', '5', '6', '7', '8'],\n",
        "            'first_name': ['Billy', 'Brian', 'Bran', 'Bryce', 'Betty'],\n",
        "            'last_name': ['Bonder', 'Black', 'Balwner', 'Brice', 'Btisan']}\n",
        "\n"
      ]
    },
    {
      "cell_type": "code",
      "execution_count": null,
      "id": "4b3f17b1",
      "metadata": {
        "scrolled": true,
        "id": "4b3f17b1"
      },
      "outputs": [],
      "source": [
        "# 내부 조인: 양쪽의 교집합 데이터를 통합\n"
      ]
    },
    {
      "cell_type": "code",
      "execution_count": null,
      "id": "1c0682ce",
      "metadata": {
        "id": "1c0682ce"
      },
      "outputs": [],
      "source": [
        "# 왼쪽 조인, 오른쪽 조인\n",
        "\n"
      ]
    },
    {
      "cell_type": "code",
      "execution_count": null,
      "id": "9ba704b4",
      "metadata": {
        "id": "9ba704b4"
      },
      "outputs": [],
      "source": [
        "# 완전 조인\n"
      ]
    },
    {
      "cell_type": "markdown",
      "id": "608cca3b",
      "metadata": {
        "id": "608cca3b"
      },
      "source": [
        "### 2. 연결(concatenate)"
      ]
    },
    {
      "cell_type": "code",
      "execution_count": null,
      "id": "b23a48fc",
      "metadata": {
        "id": "b23a48fc"
      },
      "outputs": [],
      "source": [
        "# 디렉토리에서 파일명이 sales 가 포함된 파일명 가져오기\n",
        "\n",
        "\n",
        "\n",
        "# 파일 Pandas DataFrame으로 읽어오기\n",
        "\n",
        "\n",
        "# 파일 병합하기\n",
        "\n"
      ]
    },
    {
      "cell_type": "markdown",
      "id": "70d0ed11",
      "metadata": {
        "id": "70d0ed11"
      },
      "source": [
        "--------------"
      ]
    }
  ],
  "metadata": {
    "kernelspec": {
      "display_name": "Python 3 (ipykernel)",
      "language": "python",
      "name": "python3"
    },
    "language_info": {
      "codemirror_mode": {
        "name": "ipython",
        "version": 3
      },
      "file_extension": ".py",
      "mimetype": "text/x-python",
      "name": "python",
      "nbconvert_exporter": "python",
      "pygments_lexer": "ipython3",
      "version": "3.12.2"
    },
    "colab": {
      "provenance": [],
      "include_colab_link": true
    }
  },
  "nbformat": 4,
  "nbformat_minor": 5
}