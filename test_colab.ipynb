{
  "nbformat": 4,
  "nbformat_minor": 0,
  "metadata": {
    "colab": {
      "provenance": [],
      "toc_visible": true,
      "authorship_tag": "ABX9TyNrQFc8VNpIt5JRHSR9TGAR",
      "include_colab_link": true
    },
    "kernelspec": {
      "name": "python3",
      "display_name": "Python 3"
    },
    "language_info": {
      "name": "python"
    }
  },
  "cells": [
    {
      "cell_type": "markdown",
      "metadata": {
        "id": "view-in-github",
        "colab_type": "text"
      },
      "source": [
        "<a href=\"https://colab.research.google.com/github/kangeunkyeong/dataAnalysis/blob/main/test_colab.ipynb\" target=\"_parent\"><img src=\"https://colab.research.google.com/assets/colab-badge.svg\" alt=\"Open In Colab\"/></a>"
      ]
    },
    {
      "cell_type": "markdown",
      "source": [
        "# 제목\n",
        "## 제목\n",
        "### 제목\n",
        "#### **제목**\n",
        "\n",
        "1. 항목 추가\n",
        "2. 항목 추가"
      ],
      "metadata": {
        "id": "8lHlof9sD4wJ"
      }
    },
    {
      "cell_type": "markdown",
      "source": [
        "## 1.제목\n",
        "\n"
      ],
      "metadata": {
        "id": "zSgDPAAnEg3Y"
      }
    },
    {
      "cell_type": "code",
      "source": [
        "print('코랩에서 작성하는 코드')"
      ],
      "metadata": {
        "colab": {
          "base_uri": "https://localhost:8080/"
        },
        "id": "-SoUQhSyE4cS",
        "outputId": "1e3d640c-5130-41a2-af3f-e69f0a51bedc"
      },
      "execution_count": 1,
      "outputs": [
        {
          "output_type": "stream",
          "name": "stdout",
          "text": [
            "코랩에서 작성하는 코드\n"
          ]
        }
      ]
    },
    {
      "cell_type": "code",
      "source": [
        "a = 10\n",
        "b = 20\n",
        "print(a + b)\n",
        "print(a - b)\n",
        "print(a * b)\n",
        "print(a / b)"
      ],
      "metadata": {
        "colab": {
          "base_uri": "https://localhost:8080/"
        },
        "id": "YKxA1l6jFDkA",
        "outputId": "d8333ac5-aeb4-4692-e612-0336d7d23dca"
      },
      "execution_count": 3,
      "outputs": [
        {
          "output_type": "stream",
          "name": "stdout",
          "text": [
            "30\n",
            "-10\n",
            "200\n",
            "0.5\n"
          ]
        }
      ]
    },
    {
      "cell_type": "markdown",
      "source": [
        "## 2.파이썬 패키지 확인\n"
      ],
      "metadata": {
        "id": "D-WgR7G6EcoZ"
      }
    },
    {
      "cell_type": "code",
      "execution_count": null,
      "metadata": {
        "id": "bWYl5HBvDbph"
      },
      "outputs": [],
      "source": [
        "!pip list"
      ]
    }
  ]
}