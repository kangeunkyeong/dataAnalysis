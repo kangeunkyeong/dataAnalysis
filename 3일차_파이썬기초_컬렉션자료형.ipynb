{
  "nbformat": 4,
  "nbformat_minor": 0,
  "metadata": {
    "colab": {
      "provenance": [],
      "authorship_tag": "ABX9TyMZBmWl5yWrDnyqaOFlsQ1X",
      "include_colab_link": true
    },
    "kernelspec": {
      "name": "python3",
      "display_name": "Python 3"
    },
    "language_info": {
      "name": "python"
    }
  },
  "cells": [
    {
      "cell_type": "markdown",
      "metadata": {
        "id": "view-in-github",
        "colab_type": "text"
      },
      "source": [
        "<a href=\"https://colab.research.google.com/github/kangeunkyeong/dataAnalysis/blob/main/3%EC%9D%BC%EC%B0%A8_%ED%8C%8C%EC%9D%B4%EC%8D%AC%EA%B8%B0%EC%B4%88_%EC%BB%AC%EB%A0%89%EC%85%98%EC%9E%90%EB%A3%8C%ED%98%95.ipynb\" target=\"_parent\"><img src=\"https://colab.research.google.com/assets/colab-badge.svg\" alt=\"Open In Colab\"/></a>"
      ]
    },
    {
      "cell_type": "markdown",
      "source": [
        "# 3.컬렉션 자료형"
      ],
      "metadata": {
        "id": "xCDLWAc7Tl9u"
      }
    },
    {
      "cell_type": "markdown",
      "source": [
        "## 3-1.리스트"
      ],
      "metadata": {
        "id": "NhaN9y42TsX7"
      }
    },
    {
      "cell_type": "code",
      "execution_count": 3,
      "metadata": {
        "colab": {
          "base_uri": "https://localhost:8080/"
        },
        "id": "MS35yKHDThZH",
        "outputId": "2c11f482-b477-4efc-90c0-df201068319c"
      },
      "outputs": [
        {
          "output_type": "stream",
          "name": "stdout",
          "text": [
            "<class 'list'>\n",
            "[]\n"
          ]
        }
      ],
      "source": [
        "### 리스트 생성\n",
        "\n",
        "a = [] # 빈 리스트\n",
        "a = list() # 빈 리스트\n",
        "print( type(a) )\n",
        "print(a)"
      ]
    },
    {
      "cell_type": "code",
      "source": [
        "#초기 데이터 넣고 리스트 생성\n",
        "import math\n",
        "a = [1, 2, 3, 4, 5]\n",
        "a = [1, 'apple', '딸기', 3.14, math.pi, max([10, 20, 30])]\n",
        "b = [1, 2, a, ['사과', '딸기', {'k':'kiwi'}]]\n",
        "print(b)"
      ],
      "metadata": {
        "colab": {
          "base_uri": "https://localhost:8080/"
        },
        "id": "dnx38IIDUScB",
        "outputId": "77f4bdeb-038e-4830-8b64-4e834f2f05a5"
      },
      "execution_count": 7,
      "outputs": [
        {
          "output_type": "stream",
          "name": "stdout",
          "text": [
            "[1, 2, [1, 'apple', '딸기', 3.14, 3.141592653589793, 30], ['사과', '딸기', {'k': 'kiwi'}]]\n"
          ]
        }
      ]
    },
    {
      "cell_type": "code",
      "source": [
        "numlist = []\n",
        "for num in range(1, 21, 2):  # for 반복문, range(): 정수를 순차로 발생시키는 함수\n",
        "  numlist.append(num)        # 리스트에 데이터 추가\n",
        "print(numlist)"
      ],
      "metadata": {
        "colab": {
          "base_uri": "https://localhost:8080/"
        },
        "id": "nIyEJhPCUBez",
        "outputId": "03b91d91-3ce3-47b7-f078-312ddcac32c5"
      },
      "execution_count": 9,
      "outputs": [
        {
          "output_type": "stream",
          "name": "stdout",
          "text": [
            "[1, 3, 5, 7, 9, 11, 13, 15, 17, 19]\n"
          ]
        }
      ]
    },
    {
      "cell_type": "code",
      "source": [
        "print(b)\n",
        "\n",
        "for i in b:  # for 반복문, b란 이름의 리스트 안에 있는 요소를 하나씩 출력하는 코드\n",
        "  print(i)"
      ],
      "metadata": {
        "colab": {
          "base_uri": "https://localhost:8080/"
        },
        "id": "UaL2_4uaVXur",
        "outputId": "5f07d14b-0c53-4d83-9e18-1e278d71f5e2"
      },
      "execution_count": 12,
      "outputs": [
        {
          "output_type": "stream",
          "name": "stdout",
          "text": [
            "[1, 2, [1, 'apple', '딸기', 3.14, 3.141592653589793, 30], ['사과', '딸기', {'k': 'kiwi'}]]\n",
            "1\n",
            "2\n",
            "[1, 'apple', '딸기', 3.14, 3.141592653589793, 30]\n",
            "['사과', '딸기', {'k': 'kiwi'}]\n"
          ]
        }
      ]
    },
    {
      "cell_type": "markdown",
      "source": [
        "# 리스트 요소에 접근"
      ],
      "metadata": {
        "id": "s-onpsBTXYrA"
      }
    },
    {
      "cell_type": "code",
      "source": [
        "colors = ['빨강', '초록', '파랑', '노랑', '검정']\n",
        "print(colors[0]) #단일, 하나로 표현 됨\n",
        "print(colors[2:4]) #구조가 리스트로 나옴\n",
        "print(colors[::-1]) #거꾸로 정렬\n",
        "\n",
        "for color in colors: #리스트 요소 추가하기\n",
        "  print(f\"나는 {color} 색상을 좋아합니다.\")"
      ],
      "metadata": {
        "colab": {
          "base_uri": "https://localhost:8080/"
        },
        "id": "r8s9kBa1VpDt",
        "outputId": "f8061397-cfcc-4e76-8005-392ed310df1b"
      },
      "execution_count": 20,
      "outputs": [
        {
          "output_type": "stream",
          "name": "stdout",
          "text": [
            "빨강\n",
            "['파랑', '노랑']\n",
            "['검정', '노랑', '파랑', '초록', '빨강']\n",
            "나는 빨강 색상을 좋아합니다.\n",
            "나는 초록 색상을 좋아합니다.\n",
            "나는 파랑 색상을 좋아합니다.\n",
            "나는 노랑 색상을 좋아합니다.\n",
            "나는 검정 색상을 좋아합니다.\n"
          ]
        }
      ]
    },
    {
      "cell_type": "markdown",
      "source": [
        "### 리스트에 요소 추가하기"
      ],
      "metadata": {
        "id": "JBBsg2R9Ym6e"
      }
    },
    {
      "cell_type": "code",
      "source": [
        "print (colors)\n",
        "# 인덱스 2 위치에 '분홍'넣기\n",
        "colors.insert(2, '분홍')\n",
        "print(colors)\n",
        "\n",
        "#맨 뒤에 추가하기\n",
        "colors.append('보라')\n",
        "print(colors)"
      ],
      "metadata": {
        "colab": {
          "base_uri": "https://localhost:8080/"
        },
        "id": "H1015evqXmoK",
        "outputId": "dd1c6576-d01d-4b71-d4b5-c1a6fe76d92b"
      },
      "execution_count": 24,
      "outputs": [
        {
          "output_type": "stream",
          "name": "stdout",
          "text": [
            "['빨강', '초록', '분홍', '분홍', '파랑', '노랑', '검정']\n",
            "['빨강', '초록', '분홍', '분홍', '분홍', '파랑', '노랑', '검정']\n",
            "['빨강', '초록', '분홍', '분홍', '분홍', '파랑', '노랑', '검정', '보라']\n"
          ]
        }
      ]
    },
    {
      "cell_type": "code",
      "source": [],
      "metadata": {
        "id": "KvPb9S90YriP"
      },
      "execution_count": null,
      "outputs": []
    },
    {
      "cell_type": "markdown",
      "source": [
        "### 리스트 특정 위치의 요소값 변경"
      ],
      "metadata": {
        "id": "LsrE-EB-ZhJp"
      }
    },
    {
      "cell_type": "code",
      "source": [
        "colors[3] = '주황'\n",
        "print(colors)\n",
        "colors[1:3] = '갈색'\n",
        "print(colors)\n",
        "colors[1:3] = ['갈색', '고동'] #거기에 맞는 개수만큼 넣어야 내가 의도한 대로 표현 가능\n",
        "print(colors)\n",
        "colors[1:4] = '갈색' # 주의! 인덱스 개수가 다르면 대체가 안되고 없어짐 / '주황'이 아예 사라져버림 (가능하면 크기가 맞게끔 데이터 추가)\n",
        "print(colors)"
      ],
      "metadata": {
        "colab": {
          "base_uri": "https://localhost:8080/"
        },
        "id": "YHiD9VFdZjgc",
        "outputId": "b33dc883-d894-4aa3-d0db-709fb7dcb67d"
      },
      "execution_count": 32,
      "outputs": [
        {
          "output_type": "stream",
          "name": "stdout",
          "text": [
            "['빨강', '갈', '색', '주황', '파랑', '노랑', '검정', '보라']\n",
            "['빨강', '갈', '색', '주황', '파랑', '노랑', '검정', '보라']\n",
            "['빨강', '갈색', '고동', '주황', '파랑', '노랑', '검정', '보라']\n",
            "['빨강', '갈', '색', '파랑', '노랑', '검정', '보라']\n"
          ]
        }
      ]
    },
    {
      "cell_type": "markdown",
      "source": [
        "### 리스트의 요소 삭제"
      ],
      "metadata": {
        "id": "xGbFWd0JbbDs"
      }
    },
    {
      "cell_type": "code",
      "source": [
        "colors = ['빨강', '초록', '파랑', '노랑', '검정', '노랑']\n",
        "# 맨 뒤에 있는 것 삭제(꺼내기)\n",
        "\n",
        "colors.pop()\n",
        "print(colors)\n",
        "\n",
        "# 요소값과 일치하는 것 삭제\n",
        "colors.remove('노랑')\n",
        "print(colors)\n",
        "\n",
        "#전체 요소 삭제\n",
        "colors.clear()\n",
        "print(colors)"
      ],
      "metadata": {
        "colab": {
          "base_uri": "https://localhost:8080/"
        },
        "id": "tuTTpZLRZnnz",
        "outputId": "bdd4364f-78b6-42a0-fb70-b66388799e04"
      },
      "execution_count": 39,
      "outputs": [
        {
          "output_type": "stream",
          "name": "stdout",
          "text": [
            "['빨강', '초록', '파랑', '노랑', '검정']\n",
            "['빨강', '초록', '파랑', '검정']\n",
            "[]\n"
          ]
        }
      ]
    },
    {
      "cell_type": "markdown",
      "source": [
        "### 리스트 자체 삭제"
      ],
      "metadata": {
        "id": "lCGbxeuAcs7N"
      }
    },
    {
      "cell_type": "code",
      "source": [
        "del(colors)\n",
        "print(colors)"
      ],
      "metadata": {
        "colab": {
          "base_uri": "https://localhost:8080/",
          "height": 164
        },
        "id": "tly1MRUwbsdy",
        "outputId": "31ba3ebf-8c27-4b59-be90-8a357794ab04"
      },
      "execution_count": 40,
      "outputs": [
        {
          "output_type": "error",
          "ename": "NameError",
          "evalue": "name 'colors' is not defined",
          "traceback": [
            "\u001b[0;31m---------------------------------------------------------------------------\u001b[0m",
            "\u001b[0;31mNameError\u001b[0m                                 Traceback (most recent call last)",
            "\u001b[0;32m<ipython-input-40-90ee9471d91d>\u001b[0m in \u001b[0;36m<cell line: 2>\u001b[0;34m()\u001b[0m\n\u001b[1;32m      1\u001b[0m \u001b[0;32mdel\u001b[0m\u001b[0;34m(\u001b[0m\u001b[0mcolors\u001b[0m\u001b[0;34m)\u001b[0m\u001b[0;34m\u001b[0m\u001b[0;34m\u001b[0m\u001b[0m\n\u001b[0;32m----> 2\u001b[0;31m \u001b[0mprint\u001b[0m\u001b[0;34m(\u001b[0m\u001b[0mcolors\u001b[0m\u001b[0;34m)\u001b[0m\u001b[0;34m\u001b[0m\u001b[0;34m\u001b[0m\u001b[0m\n\u001b[0m",
            "\u001b[0;31mNameError\u001b[0m: name 'colors' is not defined"
          ]
        }
      ]
    },
    {
      "cell_type": "markdown",
      "source": [
        "### 2차원/3차원... 리스트 요소 접근"
      ],
      "metadata": {
        "id": "DjknDKyXc9R2"
      }
    },
    {
      "cell_type": "code",
      "source": [
        "animals = ['사자', '호랑이','곰',\n",
        "             ['고양이', '강아지',['돌고래', '범고래'], '햄스터'],]\n",
        "print(animals)\n",
        "\n",
        "print(animals[1])\n",
        "print(animals[3])\n",
        "print(animals[3][1])\n",
        "print(animals[3][2][1])\n"
      ],
      "metadata": {
        "colab": {
          "base_uri": "https://localhost:8080/"
        },
        "id": "mc79UiEUcUPR",
        "outputId": "ce8b718c-c9f7-4348-c0d9-7d6c34b06386"
      },
      "execution_count": 51,
      "outputs": [
        {
          "output_type": "stream",
          "name": "stdout",
          "text": [
            "['사자', '호랑이', '곰', ['고양이', '강아지', ['돌고래', '범고래'], '햄스터']]\n",
            "호랑이\n",
            "['고양이', '강아지', ['돌고래', '범고래'], '햄스터']\n",
            "강아지\n",
            "범고래\n",
            "4\n"
          ]
        }
      ]
    },
    {
      "cell_type": "code",
      "source": [],
      "metadata": {
        "id": "uIW-S7Uxdhfa"
      },
      "execution_count": null,
      "outputs": []
    },
    {
      "cell_type": "markdown",
      "source": [
        "### 리스트 길이 (요소의 개수)"
      ],
      "metadata": {
        "id": "fTALgTGQfW_o"
      }
    },
    {
      "cell_type": "code",
      "source": [
        "print(animals)\n",
        "print( len(animals) )\n",
        "print( len(animals[3]) )\n",
        "print( len(animals[3][2]) )"
      ],
      "metadata": {
        "colab": {
          "base_uri": "https://localhost:8080/"
        },
        "id": "VvdEMr6Tfa0C",
        "outputId": "37e04406-7366-4e3c-a51c-f76507de64b5"
      },
      "execution_count": 54,
      "outputs": [
        {
          "output_type": "stream",
          "name": "stdout",
          "text": [
            "['사자', '호랑이', '곰', ['고양이', '강아지', ['돌고래', '범고래'], '햄스터']]\n",
            "4\n",
            "4\n",
            "2\n"
          ]
        }
      ]
    },
    {
      "cell_type": "markdown",
      "source": [
        "### 리스트 함수"
      ],
      "metadata": {
        "id": "GSnWHrwogApJ"
      }
    },
    {
      "cell_type": "code",
      "source": [
        "\n",
        "colors = ['빨강', '초록', '파랑', '노랑', '검정', '노랑']\n",
        "# 리스트 요소 정렬\n",
        "print(colors)\n",
        "\n",
        "colors.sort() # 순차 정렬됨  (가나다 순으로 정렬됨)\n",
        "print(colors)\n",
        "\n",
        "colors.reverse() # 역순 정렬됨\n",
        "print(colors)\n",
        "\n",
        "# 리스트의 특정 요소 위치 찾기\n",
        "print(colors.index('빨강'))\n",
        "print(colors.index('노랑')) # 여러 개 있을 경우 맨 앞의 인덱스 나타내기\n",
        "\n",
        "# 요소 값 개수 세기\n",
        "print( f\"요소 값 개수세기: {colors.count('노랑')}\")\n",
        "\n",
        "# 리스트 정렬해서 새로운 이름으로 저장해서 사용 (기존 리스트는 두고 새로운 이름으로 만들어서 정렬, 기존 것은 그대로)\n",
        "new = sorted(colors)\n",
        "print(new)\n"
      ],
      "metadata": {
        "colab": {
          "base_uri": "https://localhost:8080/"
        },
        "id": "FsU0ry02gEg0",
        "outputId": "55b697bc-d0f5-4758-e7a2-93fc7e10cb69"
      },
      "execution_count": 66,
      "outputs": [
        {
          "output_type": "stream",
          "name": "stdout",
          "text": [
            "['빨강', '초록', '파랑', '노랑', '검정', '노랑']\n",
            "['검정', '노랑', '노랑', '빨강', '초록', '파랑']\n",
            "['파랑', '초록', '빨강', '노랑', '노랑', '검정']\n",
            "2\n",
            "3\n",
            "요소 값 개수세기: 2\n",
            "['검정', '노랑', '노랑', '빨강', '초록', '파랑']\n"
          ]
        }
      ]
    },
    {
      "cell_type": "code",
      "source": [
        "colors = ['빨강', '초록', '파랑', '노랑', '검정', '노랑']\n",
        "newColors = ['red', 'green', 'blue']\n",
        "colors += newColors\n",
        "print(colors)\n",
        "print(newColors)\n",
        "colors.extend(newColors) #a.extend(b) a에다가 b를 합해줘\n",
        "print(colors)\n"
      ],
      "metadata": {
        "colab": {
          "base_uri": "https://localhost:8080/"
        },
        "id": "ZDvNF5qxgV3g",
        "outputId": "47433007-ba64-4ba7-ad60-02496e1802ca"
      },
      "execution_count": 71,
      "outputs": [
        {
          "output_type": "stream",
          "name": "stdout",
          "text": [
            "['빨강', '초록', '파랑', '노랑', '검정', '노랑', 'red', 'green', 'blue']\n",
            "['red', 'green', 'blue']\n",
            "['빨강', '초록', '파랑', '노랑', '검정', '노랑', 'red', 'green', 'blue', 'red', 'green', 'blue']\n"
          ]
        }
      ]
    },
    {
      "cell_type": "code",
      "source": [],
      "metadata": {
        "id": "kCp4t-Z4iXm6"
      },
      "execution_count": null,
      "outputs": []
    }
  ]
}