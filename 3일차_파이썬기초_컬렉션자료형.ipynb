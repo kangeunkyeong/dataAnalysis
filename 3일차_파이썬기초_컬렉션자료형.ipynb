{
  "nbformat": 4,
  "nbformat_minor": 0,
  "metadata": {
    "colab": {
      "provenance": [],
      "authorship_tag": "ABX9TyMO5GJ4c4rtgLyDJ0sWQM0v",
      "include_colab_link": true
    },
    "kernelspec": {
      "name": "python3",
      "display_name": "Python 3"
    },
    "language_info": {
      "name": "python"
    }
  },
  "cells": [
    {
      "cell_type": "markdown",
      "metadata": {
        "id": "view-in-github",
        "colab_type": "text"
      },
      "source": [
        "<a href=\"https://colab.research.google.com/github/kangeunkyeong/dataAnalysis/blob/main/3%EC%9D%BC%EC%B0%A8_%ED%8C%8C%EC%9D%B4%EC%8D%AC%EA%B8%B0%EC%B4%88_%EC%BB%AC%EB%A0%89%EC%85%98%EC%9E%90%EB%A3%8C%ED%98%95.ipynb\" target=\"_parent\"><img src=\"https://colab.research.google.com/assets/colab-badge.svg\" alt=\"Open In Colab\"/></a>"
      ]
    },
    {
      "cell_type": "markdown",
      "source": [
        "# 3.컬렉션 자료형"
      ],
      "metadata": {
        "id": "xCDLWAc7Tl9u"
      }
    },
    {
      "cell_type": "markdown",
      "source": [
        "## 3-1.리스트"
      ],
      "metadata": {
        "id": "NhaN9y42TsX7"
      }
    },
    {
      "cell_type": "code",
      "execution_count": 3,
      "metadata": {
        "colab": {
          "base_uri": "https://localhost:8080/"
        },
        "id": "MS35yKHDThZH",
        "outputId": "2c11f482-b477-4efc-90c0-df201068319c"
      },
      "outputs": [
        {
          "output_type": "stream",
          "name": "stdout",
          "text": [
            "<class 'list'>\n",
            "[]\n"
          ]
        }
      ],
      "source": [
        "### 리스트 생성\n",
        "\n",
        "a = [] # 빈 리스트\n",
        "a = list() # 빈 리스트\n",
        "print( type(a) )\n",
        "print(a)"
      ]
    },
    {
      "cell_type": "code",
      "source": [
        "#초기 데이터 넣고 리스트 생성\n",
        "import math\n",
        "a = [1, 2, 3, 4, 5]\n",
        "a = [1, 'apple', '딸기', 3.14, math.pi, max([10, 20, 30])]\n",
        "b = [1, 2, a, ['사과', '딸기', {'k':'kiwi'}]]\n",
        "print(b)"
      ],
      "metadata": {
        "colab": {
          "base_uri": "https://localhost:8080/"
        },
        "id": "dnx38IIDUScB",
        "outputId": "77f4bdeb-038e-4830-8b64-4e834f2f05a5"
      },
      "execution_count": 7,
      "outputs": [
        {
          "output_type": "stream",
          "name": "stdout",
          "text": [
            "[1, 2, [1, 'apple', '딸기', 3.14, 3.141592653589793, 30], ['사과', '딸기', {'k': 'kiwi'}]]\n"
          ]
        }
      ]
    },
    {
      "cell_type": "code",
      "source": [
        "numlist = []\n",
        "for num in range(1, 21, 2):  # for 반복문, range(): 정수를 순차로 발생시키는 함수\n",
        "  numlist.append(num)        # 리스트에 데이터 추가\n",
        "print(numlist)"
      ],
      "metadata": {
        "colab": {
          "base_uri": "https://localhost:8080/"
        },
        "id": "nIyEJhPCUBez",
        "outputId": "03b91d91-3ce3-47b7-f078-312ddcac32c5"
      },
      "execution_count": 9,
      "outputs": [
        {
          "output_type": "stream",
          "name": "stdout",
          "text": [
            "[1, 3, 5, 7, 9, 11, 13, 15, 17, 19]\n"
          ]
        }
      ]
    },
    {
      "cell_type": "code",
      "source": [
        "print(b)\n",
        "\n",
        "for i in b:  # for 반복문, b란 이름의 리스트 안에 있는 요소를 하나씩 출력하는 코드\n",
        "  print(i)"
      ],
      "metadata": {
        "colab": {
          "base_uri": "https://localhost:8080/"
        },
        "id": "UaL2_4uaVXur",
        "outputId": "5f07d14b-0c53-4d83-9e18-1e278d71f5e2"
      },
      "execution_count": 12,
      "outputs": [
        {
          "output_type": "stream",
          "name": "stdout",
          "text": [
            "[1, 2, [1, 'apple', '딸기', 3.14, 3.141592653589793, 30], ['사과', '딸기', {'k': 'kiwi'}]]\n",
            "1\n",
            "2\n",
            "[1, 'apple', '딸기', 3.14, 3.141592653589793, 30]\n",
            "['사과', '딸기', {'k': 'kiwi'}]\n"
          ]
        }
      ]
    },
    {
      "cell_type": "markdown",
      "source": [
        "# 리스트 요소에 접근"
      ],
      "metadata": {
        "id": "s-onpsBTXYrA"
      }
    },
    {
      "cell_type": "code",
      "source": [
        "colors = ['빨강', '초록', '파랑', '노랑', '검정']\n",
        "print(colors[0]) #단일, 하나로 표현 됨\n",
        "print(colors[2:4]) #구조가 리스트로 나옴\n",
        "print(colors[::-1]) #거꾸로 정렬\n",
        "\n",
        "for color in colors: #리스트 요소 추가하기\n",
        "  print(f\"나는 {color} 색상을 좋아합니다.\")"
      ],
      "metadata": {
        "colab": {
          "base_uri": "https://localhost:8080/"
        },
        "id": "r8s9kBa1VpDt",
        "outputId": "f8061397-cfcc-4e76-8005-392ed310df1b"
      },
      "execution_count": 20,
      "outputs": [
        {
          "output_type": "stream",
          "name": "stdout",
          "text": [
            "빨강\n",
            "['파랑', '노랑']\n",
            "['검정', '노랑', '파랑', '초록', '빨강']\n",
            "나는 빨강 색상을 좋아합니다.\n",
            "나는 초록 색상을 좋아합니다.\n",
            "나는 파랑 색상을 좋아합니다.\n",
            "나는 노랑 색상을 좋아합니다.\n",
            "나는 검정 색상을 좋아합니다.\n"
          ]
        }
      ]
    },
    {
      "cell_type": "markdown",
      "source": [
        "### 리스트에 요소 추가하기"
      ],
      "metadata": {
        "id": "JBBsg2R9Ym6e"
      }
    },
    {
      "cell_type": "code",
      "source": [
        "print (colors)\n",
        "# 인덱스 2 위치에 '분홍'넣기\n",
        "colors.insert(2, '분홍')\n",
        "print(colors)\n",
        "\n",
        "#맨 뒤에 추가하기\n",
        "colors.append('보라')\n",
        "print(colors)"
      ],
      "metadata": {
        "colab": {
          "base_uri": "https://localhost:8080/"
        },
        "id": "H1015evqXmoK",
        "outputId": "dd1c6576-d01d-4b71-d4b5-c1a6fe76d92b"
      },
      "execution_count": 24,
      "outputs": [
        {
          "output_type": "stream",
          "name": "stdout",
          "text": [
            "['빨강', '초록', '분홍', '분홍', '파랑', '노랑', '검정']\n",
            "['빨강', '초록', '분홍', '분홍', '분홍', '파랑', '노랑', '검정']\n",
            "['빨강', '초록', '분홍', '분홍', '분홍', '파랑', '노랑', '검정', '보라']\n"
          ]
        }
      ]
    },
    {
      "cell_type": "code",
      "source": [],
      "metadata": {
        "id": "KvPb9S90YriP"
      },
      "execution_count": null,
      "outputs": []
    },
    {
      "cell_type": "markdown",
      "source": [
        "### 리스트 특정 위치의 요소값 변경"
      ],
      "metadata": {
        "id": "LsrE-EB-ZhJp"
      }
    },
    {
      "cell_type": "code",
      "source": [
        "colors[3] = '주황'\n",
        "print(colors)\n",
        "colors[1:3] = '갈색'\n",
        "print(colors)\n",
        "colors[1:3] = ['갈색', '고동'] #거기에 맞는 개수만큼 넣어야 내가 의도한 대로 표현 가능\n",
        "print(colors)\n",
        "colors[1:4] = '갈색' # 주의! 인덱스 개수가 다르면 대체가 안되고 없어짐 / '주황'이 아예 사라져버림 (가능하면 크기가 맞게끔 데이터 추가)\n",
        "print(colors)"
      ],
      "metadata": {
        "colab": {
          "base_uri": "https://localhost:8080/"
        },
        "id": "YHiD9VFdZjgc",
        "outputId": "b33dc883-d894-4aa3-d0db-709fb7dcb67d"
      },
      "execution_count": 32,
      "outputs": [
        {
          "output_type": "stream",
          "name": "stdout",
          "text": [
            "['빨강', '갈', '색', '주황', '파랑', '노랑', '검정', '보라']\n",
            "['빨강', '갈', '색', '주황', '파랑', '노랑', '검정', '보라']\n",
            "['빨강', '갈색', '고동', '주황', '파랑', '노랑', '검정', '보라']\n",
            "['빨강', '갈', '색', '파랑', '노랑', '검정', '보라']\n"
          ]
        }
      ]
    },
    {
      "cell_type": "markdown",
      "source": [
        "### 리스트의 요소 삭제"
      ],
      "metadata": {
        "id": "xGbFWd0JbbDs"
      }
    },
    {
      "cell_type": "code",
      "source": [
        "colors = ['빨강', '초록', '파랑', '노랑', '검정', '노랑']\n",
        "# 맨 뒤에 있는 것 삭제(꺼내기)\n",
        "\n",
        "colors.pop()\n",
        "print(colors)\n",
        "\n",
        "# 요소값과 일치하는 것 삭제\n",
        "colors.remove('노랑')\n",
        "print(colors)\n",
        "\n",
        "#전체 요소 삭제\n",
        "colors.clear()\n",
        "print(colors)"
      ],
      "metadata": {
        "colab": {
          "base_uri": "https://localhost:8080/"
        },
        "id": "tuTTpZLRZnnz",
        "outputId": "bdd4364f-78b6-42a0-fb70-b66388799e04"
      },
      "execution_count": 39,
      "outputs": [
        {
          "output_type": "stream",
          "name": "stdout",
          "text": [
            "['빨강', '초록', '파랑', '노랑', '검정']\n",
            "['빨강', '초록', '파랑', '검정']\n",
            "[]\n"
          ]
        }
      ]
    },
    {
      "cell_type": "markdown",
      "source": [
        "### 리스트 자체 삭제"
      ],
      "metadata": {
        "id": "lCGbxeuAcs7N"
      }
    },
    {
      "cell_type": "code",
      "source": [
        "del(colors)\n",
        "print(colors)"
      ],
      "metadata": {
        "colab": {
          "base_uri": "https://localhost:8080/",
          "height": 164
        },
        "id": "tly1MRUwbsdy",
        "outputId": "31ba3ebf-8c27-4b59-be90-8a357794ab04"
      },
      "execution_count": 40,
      "outputs": [
        {
          "output_type": "error",
          "ename": "NameError",
          "evalue": "name 'colors' is not defined",
          "traceback": [
            "\u001b[0;31m---------------------------------------------------------------------------\u001b[0m",
            "\u001b[0;31mNameError\u001b[0m                                 Traceback (most recent call last)",
            "\u001b[0;32m<ipython-input-40-90ee9471d91d>\u001b[0m in \u001b[0;36m<cell line: 2>\u001b[0;34m()\u001b[0m\n\u001b[1;32m      1\u001b[0m \u001b[0;32mdel\u001b[0m\u001b[0;34m(\u001b[0m\u001b[0mcolors\u001b[0m\u001b[0;34m)\u001b[0m\u001b[0;34m\u001b[0m\u001b[0;34m\u001b[0m\u001b[0m\n\u001b[0;32m----> 2\u001b[0;31m \u001b[0mprint\u001b[0m\u001b[0;34m(\u001b[0m\u001b[0mcolors\u001b[0m\u001b[0;34m)\u001b[0m\u001b[0;34m\u001b[0m\u001b[0;34m\u001b[0m\u001b[0m\n\u001b[0m",
            "\u001b[0;31mNameError\u001b[0m: name 'colors' is not defined"
          ]
        }
      ]
    },
    {
      "cell_type": "markdown",
      "source": [
        "### 2차원/3차원... 리스트 요소 접근"
      ],
      "metadata": {
        "id": "DjknDKyXc9R2"
      }
    },
    {
      "cell_type": "code",
      "source": [
        "animals = ['사자', '호랑이','곰',\n",
        "             ['고양이', '강아지',['돌고래', '범고래'], '햄스터'],]\n",
        "print(animals)\n",
        "\n",
        "print(animals[1])\n",
        "print(animals[3])\n",
        "print(animals[3][1])\n",
        "print(animals[3][2][1])\n"
      ],
      "metadata": {
        "colab": {
          "base_uri": "https://localhost:8080/"
        },
        "id": "mc79UiEUcUPR",
        "outputId": "ce8b718c-c9f7-4348-c0d9-7d6c34b06386"
      },
      "execution_count": 51,
      "outputs": [
        {
          "output_type": "stream",
          "name": "stdout",
          "text": [
            "['사자', '호랑이', '곰', ['고양이', '강아지', ['돌고래', '범고래'], '햄스터']]\n",
            "호랑이\n",
            "['고양이', '강아지', ['돌고래', '범고래'], '햄스터']\n",
            "강아지\n",
            "범고래\n",
            "4\n"
          ]
        }
      ]
    },
    {
      "cell_type": "code",
      "source": [],
      "metadata": {
        "id": "uIW-S7Uxdhfa"
      },
      "execution_count": null,
      "outputs": []
    },
    {
      "cell_type": "markdown",
      "source": [
        "### 리스트 길이 (요소의 개수)"
      ],
      "metadata": {
        "id": "fTALgTGQfW_o"
      }
    },
    {
      "cell_type": "code",
      "source": [
        "print(animals)\n",
        "print( len(animals) )\n",
        "print( len(animals[3]) )\n",
        "print( len(animals[3][2]) )"
      ],
      "metadata": {
        "colab": {
          "base_uri": "https://localhost:8080/"
        },
        "id": "VvdEMr6Tfa0C",
        "outputId": "37e04406-7366-4e3c-a51c-f76507de64b5"
      },
      "execution_count": 54,
      "outputs": [
        {
          "output_type": "stream",
          "name": "stdout",
          "text": [
            "['사자', '호랑이', '곰', ['고양이', '강아지', ['돌고래', '범고래'], '햄스터']]\n",
            "4\n",
            "4\n",
            "2\n"
          ]
        }
      ]
    },
    {
      "cell_type": "markdown",
      "source": [
        "### 리스트 함수"
      ],
      "metadata": {
        "id": "GSnWHrwogApJ"
      }
    },
    {
      "cell_type": "code",
      "source": [
        "\n",
        "colors = ['빨강', '초록', '파랑', '노랑', '검정', '노랑']\n",
        "# 리스트 요소 정렬\n",
        "print(colors)\n",
        "\n",
        "colors.sort() # 순차 정렬됨  (가나다 순으로 정렬됨)\n",
        "print(colors)\n",
        "\n",
        "colors.reverse() # 역순 정렬됨\n",
        "print(colors)\n",
        "\n",
        "# 리스트의 특정 요소 위치 찾기\n",
        "print(colors.index('빨강'))\n",
        "print(colors.index('노랑')) # 여러 개 있을 경우 맨 앞의 인덱스 나타내기\n",
        "\n",
        "# 요소 값 개수 세기\n",
        "print( f\"요소 값 개수세기: {colors.count('노랑')}\")\n",
        "\n",
        "# 리스트 정렬해서 새로운 이름으로 저장해서 사용 (기존 리스트는 두고 새로운 이름으로 만들어서 정렬, 기존 것은 그대로)\n",
        "new = sorted(colors)\n",
        "print(new)\n"
      ],
      "metadata": {
        "colab": {
          "base_uri": "https://localhost:8080/"
        },
        "id": "FsU0ry02gEg0",
        "outputId": "55b697bc-d0f5-4758-e7a2-93fc7e10cb69"
      },
      "execution_count": 66,
      "outputs": [
        {
          "output_type": "stream",
          "name": "stdout",
          "text": [
            "['빨강', '초록', '파랑', '노랑', '검정', '노랑']\n",
            "['검정', '노랑', '노랑', '빨강', '초록', '파랑']\n",
            "['파랑', '초록', '빨강', '노랑', '노랑', '검정']\n",
            "2\n",
            "3\n",
            "요소 값 개수세기: 2\n",
            "['검정', '노랑', '노랑', '빨강', '초록', '파랑']\n"
          ]
        }
      ]
    },
    {
      "cell_type": "code",
      "source": [
        "colors = ['빨강', '초록', '파랑', '노랑', '검정', '노랑']\n",
        "newColors = ['red', 'green', 'blue']\n",
        "colors += newColors\n",
        "print(colors)\n",
        "print(newColors)\n",
        "colors.extend(newColors) #a.extend(b) a에다가 b를 합해줘\n",
        "print(colors)\n"
      ],
      "metadata": {
        "colab": {
          "base_uri": "https://localhost:8080/"
        },
        "id": "ZDvNF5qxgV3g",
        "outputId": "47433007-ba64-4ba7-ad60-02496e1802ca"
      },
      "execution_count": 71,
      "outputs": [
        {
          "output_type": "stream",
          "name": "stdout",
          "text": [
            "['빨강', '초록', '파랑', '노랑', '검정', '노랑', 'red', 'green', 'blue']\n",
            "['red', 'green', 'blue']\n",
            "['빨강', '초록', '파랑', '노랑', '검정', '노랑', 'red', 'green', 'blue', 'red', 'green', 'blue']\n"
          ]
        }
      ]
    },
    {
      "cell_type": "markdown",
      "source": [
        "---"
      ],
      "metadata": {
        "id": "pnGhUU2gncE8"
      }
    },
    {
      "cell_type": "markdown",
      "source": [
        "## 3-2. 딕셔너리(Ditionary)"
      ],
      "metadata": {
        "id": "LIc2jHUMnf-I"
      }
    },
    {
      "cell_type": "markdown",
      "source": [
        "### 딕셔너리 자료 생성"
      ],
      "metadata": {
        "id": "R29uFSbJnnA1"
      }
    },
    {
      "cell_type": "code",
      "source": [
        "dic = dict() # 빈 딕셔너리 생성\n",
        "dic = {} # 중괄호로 묶어 구성\n",
        "print( type(dic))"
      ],
      "metadata": {
        "colab": {
          "base_uri": "https://localhost:8080/"
        },
        "id": "OUrZ_OzOnlP1",
        "outputId": "e294c4e7-f64e-4b48-c5e4-f5b4fa05d651"
      },
      "execution_count": 72,
      "outputs": [
        {
          "output_type": "stream",
          "name": "stdout",
          "text": [
            "<class 'dict'>\n"
          ]
        }
      ]
    },
    {
      "cell_type": "code",
      "source": [
        "# 딕셔너리는 Key:Value 구조\n",
        "members = {1:'이승철', 2:'박정현', 'bts':['진', 'RM', '뷔', '지민']}\n",
        "print(members)\n",
        "print(members[2]) #2는 key값이다\n",
        "print(members['bts'])\n",
        "print(members['bts'][1])  #밸률들이 리스트로 되어 있으니 이런 방식으로 접근\n",
        "print(len (members['bts']) )\n"
      ],
      "metadata": {
        "colab": {
          "base_uri": "https://localhost:8080/"
        },
        "id": "yPI0BKawtgA0",
        "outputId": "bc6851e1-3fcf-4771-d1fa-a93536eeba92"
      },
      "execution_count": 75,
      "outputs": [
        {
          "output_type": "stream",
          "name": "stdout",
          "text": [
            "{1: '이승철', 2: '박정현', 'bts': ['진', 'RM', '뷔', '지민']}\n",
            "박정현\n",
            "['진', 'RM', '뷔', '지민']\n",
            "RM\n",
            "4\n"
          ]
        }
      ]
    },
    {
      "cell_type": "markdown",
      "source": [
        "### 딕셔너리에서 Value에 접근하기\n",
        "- 키를 통해서만 Value에 접근할 수 있다."
      ],
      "metadata": {
        "id": "empFAzALv3BA"
      }
    },
    {
      "cell_type": "code",
      "source": [
        "members = {1:'이승철', 2:'박정현', 'bts':['진', 'RM', '뷔', '지민']}\n",
        "for key in members:\n",
        "    print(f\"키--> {key}, Value--> {members[key]}\")\n"
      ],
      "metadata": {
        "colab": {
          "base_uri": "https://localhost:8080/"
        },
        "id": "3aLpGNrfupkx",
        "outputId": "5724ba81-f2af-4dee-bf2a-6d326bee11cb"
      },
      "execution_count": 79,
      "outputs": [
        {
          "output_type": "stream",
          "name": "stdout",
          "text": [
            "키--> 1, Value--> 이승철\n",
            "키--> 2, Value--> 박정현\n",
            "키--> bts, Value--> ['진', 'RM', '뷔', '지민']\n"
          ]
        }
      ]
    },
    {
      "cell_type": "markdown",
      "source": [
        "### 딕셔너리에서 자주 사용하는 함수"
      ],
      "metadata": {
        "id": "kC9V9tMDwI1i"
      }
    },
    {
      "cell_type": "code",
      "source": [
        "members = {1:'이승철', 2:'박정현', 'bts':['진', 'RM', '뷔', '지민']}\n",
        "print(members.keys()) #key만 모아둔 것\n",
        "print(members.values()) #valye만 모아둔 것\n",
        "print(members.items()) #(key, value) 쌍으로 모아둔 것"
      ],
      "metadata": {
        "colab": {
          "base_uri": "https://localhost:8080/"
        },
        "id": "OOM-1YLgvT0w",
        "outputId": "b80cc6d2-65ae-4dae-ea58-62ab41e2d6a0"
      },
      "execution_count": 81,
      "outputs": [
        {
          "output_type": "stream",
          "name": "stdout",
          "text": [
            "dict_keys([1, 2, 'bts'])\n",
            "dict_values(['이승철', '박정현', ['진', 'RM', '뷔', '지민']])\n",
            "dict_items([(1, '이승철'), (2, '박정현'), ('bts', ['진', 'RM', '뷔', '지민'])])\n"
          ]
        }
      ]
    },
    {
      "cell_type": "code",
      "source": [
        "# for (key, value) in members.items():\n",
        "\n",
        "for (key, value) in members.items():\n",
        "  print(key, value)\n",
        "\n",
        "for (key, value) in members.items():\n",
        "  print(key, members[key])\n",
        "\n",
        "for (key, value) in members.items():\n",
        "  print(key, members[key])\n"
      ],
      "metadata": {
        "colab": {
          "base_uri": "https://localhost:8080/"
        },
        "id": "qhWOZ10XwcxC",
        "outputId": "6e795996-c184-4600-ddf8-7e458feb2da5"
      },
      "execution_count": 83,
      "outputs": [
        {
          "output_type": "stream",
          "name": "stdout",
          "text": [
            "1 이승철\n",
            "2 박정현\n",
            "bts ['진', 'RM', '뷔', '지민']\n",
            "1 이승철\n",
            "2 박정현\n",
            "bts ['진', 'RM', '뷔', '지민']\n",
            "1 이승철\n",
            "2 박정현\n",
            "bts ['진', 'RM', '뷔', '지민']\n"
          ]
        }
      ]
    },
    {
      "cell_type": "markdown",
      "source": [
        "### 딕셔너리에 요소 추가 / 수정/ 삭제"
      ],
      "metadata": {
        "id": "TaeKmbCUx4hW"
      }
    },
    {
      "cell_type": "code",
      "source": [
        "members = {1:'이승철', 2:'박정현', 'bts':['진', 'RM', '뷔', '지민']}\n",
        "print(members)\n",
        "\n",
        "# 요소 추가\n",
        "members[3] = 'NCT Dream' #키=밸류\n",
        "members['소속사'] = ['하이브', 'SM기획']\n",
        "print(members)\n",
        "\n",
        "# 요소 수정\n",
        "members[1] = '세븐틴'\n",
        "print(members)\n",
        "\n",
        "#요소 삭제 (순서가 없으므로 키로 삭제)\n",
        "del(members ['소속사'])\n",
        "print(members)\n",
        "\n",
        "# 딕셔너리 자체를 삭제해 버림 (삭제해서 접근하니 오류가 남)\n",
        "del(members)\n",
        "print(members)\n",
        "\n"
      ],
      "metadata": {
        "colab": {
          "base_uri": "https://localhost:8080/",
          "height": 273
        },
        "id": "qwQALfdow81y",
        "outputId": "3792f28d-4ef3-4467-af58-aedd9e2a60b6"
      },
      "execution_count": 89,
      "outputs": [
        {
          "output_type": "stream",
          "name": "stdout",
          "text": [
            "{1: '이승철', 2: '박정현', 'bts': ['진', 'RM', '뷔', '지민']}\n",
            "{1: '이승철', 2: '박정현', 'bts': ['진', 'RM', '뷔', '지민'], 3: 'NCT Dream', '소속사': ['하이브', 'SM기획']}\n",
            "{1: '세븐틴', 2: '박정현', 'bts': ['진', 'RM', '뷔', '지민'], 3: 'NCT Dream', '소속사': ['하이브', 'SM기획']}\n",
            "{1: '세븐틴', 2: '박정현', 'bts': ['진', 'RM', '뷔', '지민'], 3: 'NCT Dream'}\n"
          ]
        },
        {
          "output_type": "error",
          "ename": "NameError",
          "evalue": "name 'members' is not defined",
          "traceback": [
            "\u001b[0;31m---------------------------------------------------------------------------\u001b[0m",
            "\u001b[0;31mNameError\u001b[0m                                 Traceback (most recent call last)",
            "\u001b[0;32m<ipython-input-89-265f70088d57>\u001b[0m in \u001b[0;36m<cell line: 18>\u001b[0;34m()\u001b[0m\n\u001b[1;32m     16\u001b[0m \u001b[0;34m\u001b[0m\u001b[0m\n\u001b[1;32m     17\u001b[0m \u001b[0;32mdel\u001b[0m\u001b[0;34m(\u001b[0m\u001b[0mmembers\u001b[0m\u001b[0;34m)\u001b[0m\u001b[0;34m\u001b[0m\u001b[0;34m\u001b[0m\u001b[0m\n\u001b[0;32m---> 18\u001b[0;31m \u001b[0mprint\u001b[0m\u001b[0;34m(\u001b[0m\u001b[0mmembers\u001b[0m\u001b[0;34m)\u001b[0m\u001b[0;34m\u001b[0m\u001b[0;34m\u001b[0m\u001b[0m\n\u001b[0m\u001b[1;32m     19\u001b[0m \u001b[0;34m\u001b[0m\u001b[0m\n",
            "\u001b[0;31mNameError\u001b[0m: name 'members' is not defined"
          ]
        }
      ]
    },
    {
      "cell_type": "markdown",
      "source": [
        "---------"
      ],
      "metadata": {
        "id": "CkGHExbhzaPo"
      }
    },
    {
      "cell_type": "markdown",
      "source": [
        "## 3-3 튜플 (Tuple)"
      ],
      "metadata": {
        "id": "mFJZUmn0zbee"
      }
    },
    {
      "cell_type": "markdown",
      "source": [
        "### 튜플 생성"
      ],
      "metadata": {
        "id": "XYIEPGl0z10x"
      }
    },
    {
      "cell_type": "code",
      "source": [
        "tup = tuple() #빈 튜플 생성\n",
        "tup = ()      #빈 튜플 생성\n",
        "print( type(tup))\n",
        "\n",
        "a = [1, 2, 3, 4]\n",
        "print(a)\n",
        "print(tuple(a)) # 리스트를 튜플로 변환"
      ],
      "metadata": {
        "colab": {
          "base_uri": "https://localhost:8080/"
        },
        "id": "G5Nxw-y9zhoQ",
        "outputId": "09b28d5d-7450-41f5-a09b-a9d122acfc91"
      },
      "execution_count": 93,
      "outputs": [
        {
          "output_type": "stream",
          "name": "stdout",
          "text": [
            "<class 'tuple'>\n",
            "[1, 2, 3, 4]\n",
            "(1, 2, 3, 4)\n"
          ]
        }
      ]
    },
    {
      "cell_type": "code",
      "source": [
        "tup = ('사과') # 괄호는 묶음의 의미로 해석\n",
        "print( type(tup))\n",
        "tup = ('사과',) #튜플에서 요소가 하나일 때는 반드시 맨 뒤에 , 추가\n",
        "print( type(tup))"
      ],
      "metadata": {
        "colab": {
          "base_uri": "https://localhost:8080/"
        },
        "id": "iaPwR6ll0Dw-",
        "outputId": "5914b3a3-af6e-4ec1-8cbe-1d42905e6766"
      },
      "execution_count": 96,
      "outputs": [
        {
          "output_type": "stream",
          "name": "stdout",
          "text": [
            "<class 'str'>\n",
            "<class 'tuple'>\n"
          ]
        }
      ]
    },
    {
      "cell_type": "code",
      "source": [
        "help(tuple) #help는 자료형에 대한 도움말"
      ],
      "metadata": {
        "colab": {
          "base_uri": "https://localhost:8080/"
        },
        "id": "horuDdis0iaV",
        "outputId": "0a66722f-5c88-47e2-9b3e-c72e522797b1"
      },
      "execution_count": 97,
      "outputs": [
        {
          "output_type": "stream",
          "name": "stdout",
          "text": [
            "Help on class tuple in module builtins:\n",
            "\n",
            "class tuple(object)\n",
            " |  tuple(iterable=(), /)\n",
            " |  \n",
            " |  Built-in immutable sequence.\n",
            " |  \n",
            " |  If no argument is given, the constructor returns an empty tuple.\n",
            " |  If iterable is specified the tuple is initialized from iterable's items.\n",
            " |  \n",
            " |  If the argument is a tuple, the return value is the same object.\n",
            " |  \n",
            " |  Built-in subclasses:\n",
            " |      asyncgen_hooks\n",
            " |      MonthDayNano\n",
            " |      UnraisableHookArgs\n",
            " |  \n",
            " |  Methods defined here:\n",
            " |  \n",
            " |  __add__(self, value, /)\n",
            " |      Return self+value.\n",
            " |  \n",
            " |  __contains__(self, key, /)\n",
            " |      Return key in self.\n",
            " |  \n",
            " |  __eq__(self, value, /)\n",
            " |      Return self==value.\n",
            " |  \n",
            " |  __ge__(self, value, /)\n",
            " |      Return self>=value.\n",
            " |  \n",
            " |  __getattribute__(self, name, /)\n",
            " |      Return getattr(self, name).\n",
            " |  \n",
            " |  __getitem__(self, key, /)\n",
            " |      Return self[key].\n",
            " |  \n",
            " |  __getnewargs__(self, /)\n",
            " |  \n",
            " |  __gt__(self, value, /)\n",
            " |      Return self>value.\n",
            " |  \n",
            " |  __hash__(self, /)\n",
            " |      Return hash(self).\n",
            " |  \n",
            " |  __iter__(self, /)\n",
            " |      Implement iter(self).\n",
            " |  \n",
            " |  __le__(self, value, /)\n",
            " |      Return self<=value.\n",
            " |  \n",
            " |  __len__(self, /)\n",
            " |      Return len(self).\n",
            " |  \n",
            " |  __lt__(self, value, /)\n",
            " |      Return self<value.\n",
            " |  \n",
            " |  __mul__(self, value, /)\n",
            " |      Return self*value.\n",
            " |  \n",
            " |  __ne__(self, value, /)\n",
            " |      Return self!=value.\n",
            " |  \n",
            " |  __repr__(self, /)\n",
            " |      Return repr(self).\n",
            " |  \n",
            " |  __rmul__(self, value, /)\n",
            " |      Return value*self.\n",
            " |  \n",
            " |  count(self, value, /)\n",
            " |      Return number of occurrences of value.\n",
            " |  \n",
            " |  index(self, value, start=0, stop=9223372036854775807, /)\n",
            " |      Return first index of value.\n",
            " |      \n",
            " |      Raises ValueError if the value is not present.\n",
            " |  \n",
            " |  ----------------------------------------------------------------------\n",
            " |  Class methods defined here:\n",
            " |  \n",
            " |  __class_getitem__(...) from builtins.type\n",
            " |      See PEP 585\n",
            " |  \n",
            " |  ----------------------------------------------------------------------\n",
            " |  Static methods defined here:\n",
            " |  \n",
            " |  __new__(*args, **kwargs) from builtins.type\n",
            " |      Create and return a new object.  See help(type) for accurate signature.\n",
            "\n"
          ]
        }
      ]
    },
    {
      "cell_type": "markdown",
      "source": [
        "### 튜플은 변수를 정의할 때/ 함수의 파라미터의 정의에 사용"
      ],
      "metadata": {
        "id": "-gLOGcDa2Dy6"
      }
    },
    {
      "cell_type": "code",
      "source": [
        "a, b = 100, 200\n",
        "a, b = 100, [1, 2, 3,4]\n",
        "print(a)\n",
        "print(b)"
      ],
      "metadata": {
        "colab": {
          "base_uri": "https://localhost:8080/"
        },
        "id": "Htwdcpp51agS",
        "outputId": "b4c47f5a-4507-4759-8b8b-cb2ec9b4913f"
      },
      "execution_count": 99,
      "outputs": [
        {
          "output_type": "stream",
          "name": "stdout",
          "text": [
            "100\n",
            "[1, 2, 3, 4]\n"
          ]
        }
      ]
    },
    {
      "cell_type": "code",
      "source": [
        "#변형이 안되기 때문에 함수같은 거 호출할 때 변형이 안되므로 튜플 형태\n",
        "def nSum(a, b):   #def는 정의,  호출 될 때는 parameter\n",
        "  return a + b\n",
        "\n",
        "nSum(100, 200)  # argument\n",
        "\n",
        "#print 안 써도 되는 함수"
      ],
      "metadata": {
        "colab": {
          "base_uri": "https://localhost:8080/"
        },
        "id": "_w7N-sac2e7g",
        "outputId": "02e387ba-1e8b-49fe-df85-3671356dbabf"
      },
      "execution_count": 101,
      "outputs": [
        {
          "output_type": "execute_result",
          "data": {
            "text/plain": [
              "300"
            ]
          },
          "metadata": {},
          "execution_count": 101
        }
      ]
    },
    {
      "cell_type": "markdown",
      "source": [
        "## 3-4.집합(Set)"
      ],
      "metadata": {
        "id": "Dax6XMDb5Rfy"
      }
    },
    {
      "cell_type": "markdown",
      "source": [
        "## 집합 생성"
      ],
      "metadata": {
        "id": "xYXIjCSM6VW4"
      }
    },
    {
      "cell_type": "code",
      "source": [
        "a = set() # 빈 집합 생성\n",
        "print( type(a) )\n",
        "\n",
        "a = {1,2,3,4,2,2,4}\n",
        "print (a)"
      ],
      "metadata": {
        "colab": {
          "base_uri": "https://localhost:8080/"
        },
        "id": "-To12G8Y6apL",
        "outputId": "a60a4758-81d8-459f-9153-084dc3244662"
      },
      "execution_count": 102,
      "outputs": [
        {
          "output_type": "stream",
          "name": "stdout",
          "text": [
            "<class 'set'>\n",
            "{1, 2, 3, 4}\n"
          ]
        }
      ]
    },
    {
      "cell_type": "code",
      "source": [],
      "metadata": {
        "id": "SFii32QV6YJO"
      },
      "execution_count": null,
      "outputs": []
    },
    {
      "cell_type": "markdown",
      "source": [
        "## 집합은 중복된 데이터는 배제한다\n",
        "- 유니크한 데이터만 남는다"
      ],
      "metadata": {
        "id": "IkvvIpum60Bo"
      }
    },
    {
      "cell_type": "code",
      "source": [
        "a = [1,2,3,4,5,6,2,2,3,5,6,7,5,2]\n",
        "print(a)\n",
        "a = list(set(a)) #순서는 없습니다\n",
        "print(a)"
      ],
      "metadata": {
        "colab": {
          "base_uri": "https://localhost:8080/"
        },
        "id": "DKPxBTW065Vh",
        "outputId": "8f9b0a13-a340-4329-e19b-4287f77b3986"
      },
      "execution_count": 104,
      "outputs": [
        {
          "output_type": "stream",
          "name": "stdout",
          "text": [
            "[1, 2, 3, 4, 5, 6, 2, 2, 3, 5, 6, 7, 5, 2]\n",
            "[1, 2, 3, 4, 5, 6, 7]\n"
          ]
        }
      ]
    },
    {
      "cell_type": "markdown",
      "source": [
        "### 집합에 요소 추가/삭제 (수정은 없음)\n",
        "\n"
      ],
      "metadata": {
        "id": "p_jDxLw97XG_"
      }
    },
    {
      "cell_type": "code",
      "source": [
        "s = {1,2,3,'a','b'}\n",
        "print(s)\n",
        "\n",
        "#요소 추가\n",
        "s.add(4)\n",
        "print(s) #순서가 없으므로 선생님과 다른 순서 나올 수 있음)\n",
        "\n",
        "# 요소 여러 개 추가\n",
        "s.update(['c','d',5])\n",
        "print(s)\n",
        "s.update('apple') #기존에 a가 있으면 안 들어가 p도 중복이니 1개만, 유니크한 것만 보여준다\n",
        "print(s)\n",
        "\n",
        "# 요소 1개 삭제\n",
        "s.discard('a')\n",
        "print(s)\n",
        "\n",
        "s.discard('apple') #삭제할 때는 애플을 a 하나로 인식해서 a만 삭제됨????  ******************\n",
        "print(s)\n",
        "\n",
        "\n",
        "# 특정 요소 삭제\n",
        "s.remove(1)\n",
        "print(s)\n",
        "\n",
        "#임의의 요소 1개 삭제\n",
        "s.pop()\n",
        "print(s)\n",
        "\n",
        "\n"
      ],
      "metadata": {
        "colab": {
          "base_uri": "https://localhost:8080/"
        },
        "id": "YiurjU9M7HTi",
        "outputId": "7e717137-2494-47f4-fb20-8e8ce29c1b6f"
      },
      "execution_count": 116,
      "outputs": [
        {
          "output_type": "stream",
          "name": "stdout",
          "text": [
            "{1, 2, 3, 'a', 'b'}\n",
            "{1, 2, 3, 'a', 4, 'b'}\n",
            "{'c', 1, 2, 3, 'a', 4, 5, 'b', 'd'}\n",
            "{'c', 1, 2, 3, 'a', 4, 5, 'b', 'p', 'd', 'e', 'l'}\n",
            "{'c', 1, 2, 3, 4, 5, 'b', 'p', 'd', 'e', 'l'}\n",
            "{'c', 1, 2, 3, 4, 5, 'b', 'p', 'd', 'e', 'l'}\n",
            "{'c', 2, 3, 4, 5, 'b', 'p', 'd', 'e', 'l'}\n",
            "{2, 3, 4, 5, 'b', 'p', 'd', 'e', 'l'}\n"
          ]
        }
      ]
    },
    {
      "cell_type": "code",
      "source": [
        "# 집합 전체 삭제 (오류가 남)\n",
        "\n",
        "del(s)\n",
        "print(s)"
      ],
      "metadata": {
        "colab": {
          "base_uri": "https://localhost:8080/",
          "height": 164
        },
        "id": "gQWnSs8G9Z8h",
        "outputId": "46f6fd0b-5018-426d-97c0-758e9ceef9b5"
      },
      "execution_count": 117,
      "outputs": [
        {
          "output_type": "error",
          "ename": "NameError",
          "evalue": "name 's' is not defined",
          "traceback": [
            "\u001b[0;31m---------------------------------------------------------------------------\u001b[0m",
            "\u001b[0;31mNameError\u001b[0m                                 Traceback (most recent call last)",
            "\u001b[0;32m<ipython-input-117-0f21bc0fada7>\u001b[0m in \u001b[0;36m<cell line: 2>\u001b[0;34m()\u001b[0m\n\u001b[1;32m      1\u001b[0m \u001b[0;32mdel\u001b[0m\u001b[0;34m(\u001b[0m\u001b[0ms\u001b[0m\u001b[0;34m)\u001b[0m\u001b[0;34m\u001b[0m\u001b[0;34m\u001b[0m\u001b[0m\n\u001b[0;32m----> 2\u001b[0;31m \u001b[0mprint\u001b[0m\u001b[0;34m(\u001b[0m\u001b[0ms\u001b[0m\u001b[0;34m)\u001b[0m\u001b[0;34m\u001b[0m\u001b[0;34m\u001b[0m\u001b[0m\n\u001b[0m",
            "\u001b[0;31mNameError\u001b[0m: name 's' is not defined"
          ]
        }
      ]
    },
    {
      "cell_type": "code",
      "source": [],
      "metadata": {
        "id": "NkXc_nf6744p"
      },
      "execution_count": null,
      "outputs": []
    },
    {
      "cell_type": "markdown",
      "source": [
        "### 교집합/ 합집합/ 차집함"
      ],
      "metadata": {
        "id": "BWjXbEFy-k7w"
      }
    },
    {
      "cell_type": "code",
      "source": [
        "S1 = {1,2,3,4,5}\n",
        "S2 = {3,4,5,6,7}\n",
        "print(S1)\n",
        "print(S2)\n",
        "# 교집합\n",
        "print( S1 & S2)\n",
        "print( S1. intersection (S2))\n",
        "\n",
        "# 합집합\n",
        "print( S1 | S2)\n",
        "print( S1. union (S2))\n",
        "\n",
        "\n",
        "# 차집합\n",
        "print( S1 - S2)\n",
        "print( S1. difference (S2))\n",
        "print( S2 - S1)\n",
        "print( S2. difference (S1))\n",
        "\n",
        "\n",
        "\n",
        "# 1개 이상 집합에서 사용, 계산이 아니라 업데이트 해주는 기능임\n",
        "# A.intersection_update(B,C) --> 계산 결과를 A로 다시 변경해야 값이 나타남\n",
        "S3 = {5,6,7}\n",
        "print( S1. intersection_update (S2, S3)) #S1을 업데이트 해주는 기능\n",
        "print(S1)\n",
        "\n"
      ],
      "metadata": {
        "colab": {
          "base_uri": "https://localhost:8080/"
        },
        "id": "TFdZ-m2n-ngD",
        "outputId": "55b0d611-c6f2-4e5a-f4eb-cf7f4a7b1bb4"
      },
      "execution_count": 126,
      "outputs": [
        {
          "output_type": "stream",
          "name": "stdout",
          "text": [
            "{1, 2, 3, 4, 5}\n",
            "{3, 4, 5, 6, 7}\n",
            "{3, 4, 5}\n",
            "{3, 4, 5}\n",
            "{1, 2, 3, 4, 5, 6, 7}\n",
            "{1, 2, 3, 4, 5, 6, 7}\n",
            "{1, 2}\n",
            "{1, 2}\n",
            "{6, 7}\n",
            "{6, 7}\n",
            "None\n",
            "{5}\n"
          ]
        }
      ]
    },
    {
      "cell_type": "code",
      "source": [],
      "metadata": {
        "id": "AFCGH_q2_MWg"
      },
      "execution_count": null,
      "outputs": []
    }
  ]
}